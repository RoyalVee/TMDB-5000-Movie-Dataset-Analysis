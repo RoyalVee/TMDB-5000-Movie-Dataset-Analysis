{
 "cells": [
  {
   "cell_type": "code",
   "execution_count": 1,
   "metadata": {},
   "outputs": [],
   "source": [
    "import pandas as pd\n",
    "import numpy as np\n",
    "import matplotlib.pyplot as plt\n",
    "import seaborn as sns\n",
    "\n",
    "%matplotlib inline"
   ]
  },
  {
   "cell_type": "code",
   "execution_count": 6,
   "metadata": {},
   "outputs": [
    {
     "data": {
      "text/html": [
       "<div>\n",
       "<style scoped>\n",
       "    .dataframe tbody tr th:only-of-type {\n",
       "        vertical-align: middle;\n",
       "    }\n",
       "\n",
       "    .dataframe tbody tr th {\n",
       "        vertical-align: top;\n",
       "    }\n",
       "\n",
       "    .dataframe thead th {\n",
       "        text-align: right;\n",
       "    }\n",
       "</style>\n",
       "<table border=\"1\" class=\"dataframe\">\n",
       "  <thead>\n",
       "    <tr style=\"text-align: right;\">\n",
       "      <th></th>\n",
       "      <th>id</th>\n",
       "      <th>imdb_id</th>\n",
       "      <th>popularity</th>\n",
       "      <th>budget</th>\n",
       "      <th>revenue</th>\n",
       "      <th>original_title</th>\n",
       "      <th>cast</th>\n",
       "      <th>homepage</th>\n",
       "      <th>director</th>\n",
       "      <th>tagline</th>\n",
       "      <th>...</th>\n",
       "      <th>overview</th>\n",
       "      <th>runtime</th>\n",
       "      <th>genres</th>\n",
       "      <th>production_companies</th>\n",
       "      <th>release_date</th>\n",
       "      <th>vote_count</th>\n",
       "      <th>vote_average</th>\n",
       "      <th>release_year</th>\n",
       "      <th>budget_adj</th>\n",
       "      <th>revenue_adj</th>\n",
       "    </tr>\n",
       "  </thead>\n",
       "  <tbody>\n",
       "    <tr>\n",
       "      <th>0</th>\n",
       "      <td>135397</td>\n",
       "      <td>tt0369610</td>\n",
       "      <td>32.985763</td>\n",
       "      <td>150000000</td>\n",
       "      <td>1513528810</td>\n",
       "      <td>Jurassic World</td>\n",
       "      <td>Chris Pratt|Bryce Dallas Howard|Irrfan Khan|Vi...</td>\n",
       "      <td>http://www.jurassicworld.com/</td>\n",
       "      <td>Colin Trevorrow</td>\n",
       "      <td>The park is open.</td>\n",
       "      <td>...</td>\n",
       "      <td>Twenty-two years after the events of Jurassic ...</td>\n",
       "      <td>124</td>\n",
       "      <td>Action|Adventure|Science Fiction|Thriller</td>\n",
       "      <td>Universal Studios|Amblin Entertainment|Legenda...</td>\n",
       "      <td>6/9/15</td>\n",
       "      <td>5562</td>\n",
       "      <td>6.5</td>\n",
       "      <td>2015</td>\n",
       "      <td>1.379999e+08</td>\n",
       "      <td>1.392446e+09</td>\n",
       "    </tr>\n",
       "    <tr>\n",
       "      <th>1</th>\n",
       "      <td>76341</td>\n",
       "      <td>tt1392190</td>\n",
       "      <td>28.419936</td>\n",
       "      <td>150000000</td>\n",
       "      <td>378436354</td>\n",
       "      <td>Mad Max: Fury Road</td>\n",
       "      <td>Tom Hardy|Charlize Theron|Hugh Keays-Byrne|Nic...</td>\n",
       "      <td>http://www.madmaxmovie.com/</td>\n",
       "      <td>George Miller</td>\n",
       "      <td>What a Lovely Day.</td>\n",
       "      <td>...</td>\n",
       "      <td>An apocalyptic story set in the furthest reach...</td>\n",
       "      <td>120</td>\n",
       "      <td>Action|Adventure|Science Fiction|Thriller</td>\n",
       "      <td>Village Roadshow Pictures|Kennedy Miller Produ...</td>\n",
       "      <td>5/13/15</td>\n",
       "      <td>6185</td>\n",
       "      <td>7.1</td>\n",
       "      <td>2015</td>\n",
       "      <td>1.379999e+08</td>\n",
       "      <td>3.481613e+08</td>\n",
       "    </tr>\n",
       "    <tr>\n",
       "      <th>2</th>\n",
       "      <td>262500</td>\n",
       "      <td>tt2908446</td>\n",
       "      <td>13.112507</td>\n",
       "      <td>110000000</td>\n",
       "      <td>295238201</td>\n",
       "      <td>Insurgent</td>\n",
       "      <td>Shailene Woodley|Theo James|Kate Winslet|Ansel...</td>\n",
       "      <td>http://www.thedivergentseries.movie/#insurgent</td>\n",
       "      <td>Robert Schwentke</td>\n",
       "      <td>One Choice Can Destroy You</td>\n",
       "      <td>...</td>\n",
       "      <td>Beatrice Prior must confront her inner demons ...</td>\n",
       "      <td>119</td>\n",
       "      <td>Adventure|Science Fiction|Thriller</td>\n",
       "      <td>Summit Entertainment|Mandeville Films|Red Wago...</td>\n",
       "      <td>3/18/15</td>\n",
       "      <td>2480</td>\n",
       "      <td>6.3</td>\n",
       "      <td>2015</td>\n",
       "      <td>1.012000e+08</td>\n",
       "      <td>2.716190e+08</td>\n",
       "    </tr>\n",
       "    <tr>\n",
       "      <th>3</th>\n",
       "      <td>140607</td>\n",
       "      <td>tt2488496</td>\n",
       "      <td>11.173104</td>\n",
       "      <td>200000000</td>\n",
       "      <td>2068178225</td>\n",
       "      <td>Star Wars: The Force Awakens</td>\n",
       "      <td>Harrison Ford|Mark Hamill|Carrie Fisher|Adam D...</td>\n",
       "      <td>http://www.starwars.com/films/star-wars-episod...</td>\n",
       "      <td>J.J. Abrams</td>\n",
       "      <td>Every generation has a story.</td>\n",
       "      <td>...</td>\n",
       "      <td>Thirty years after defeating the Galactic Empi...</td>\n",
       "      <td>136</td>\n",
       "      <td>Action|Adventure|Science Fiction|Fantasy</td>\n",
       "      <td>Lucasfilm|Truenorth Productions|Bad Robot</td>\n",
       "      <td>12/15/15</td>\n",
       "      <td>5292</td>\n",
       "      <td>7.5</td>\n",
       "      <td>2015</td>\n",
       "      <td>1.839999e+08</td>\n",
       "      <td>1.902723e+09</td>\n",
       "    </tr>\n",
       "    <tr>\n",
       "      <th>4</th>\n",
       "      <td>168259</td>\n",
       "      <td>tt2820852</td>\n",
       "      <td>9.335014</td>\n",
       "      <td>190000000</td>\n",
       "      <td>1506249360</td>\n",
       "      <td>Furious 7</td>\n",
       "      <td>Vin Diesel|Paul Walker|Jason Statham|Michelle ...</td>\n",
       "      <td>http://www.furious7.com/</td>\n",
       "      <td>James Wan</td>\n",
       "      <td>Vengeance Hits Home</td>\n",
       "      <td>...</td>\n",
       "      <td>Deckard Shaw seeks revenge against Dominic Tor...</td>\n",
       "      <td>137</td>\n",
       "      <td>Action|Crime|Thriller</td>\n",
       "      <td>Universal Pictures|Original Film|Media Rights ...</td>\n",
       "      <td>4/1/15</td>\n",
       "      <td>2947</td>\n",
       "      <td>7.3</td>\n",
       "      <td>2015</td>\n",
       "      <td>1.747999e+08</td>\n",
       "      <td>1.385749e+09</td>\n",
       "    </tr>\n",
       "  </tbody>\n",
       "</table>\n",
       "<p>5 rows × 21 columns</p>\n",
       "</div>"
      ],
      "text/plain": [
       "       id    imdb_id  popularity     budget     revenue  \\\n",
       "0  135397  tt0369610   32.985763  150000000  1513528810   \n",
       "1   76341  tt1392190   28.419936  150000000   378436354   \n",
       "2  262500  tt2908446   13.112507  110000000   295238201   \n",
       "3  140607  tt2488496   11.173104  200000000  2068178225   \n",
       "4  168259  tt2820852    9.335014  190000000  1506249360   \n",
       "\n",
       "                 original_title  \\\n",
       "0                Jurassic World   \n",
       "1            Mad Max: Fury Road   \n",
       "2                     Insurgent   \n",
       "3  Star Wars: The Force Awakens   \n",
       "4                     Furious 7   \n",
       "\n",
       "                                                cast  \\\n",
       "0  Chris Pratt|Bryce Dallas Howard|Irrfan Khan|Vi...   \n",
       "1  Tom Hardy|Charlize Theron|Hugh Keays-Byrne|Nic...   \n",
       "2  Shailene Woodley|Theo James|Kate Winslet|Ansel...   \n",
       "3  Harrison Ford|Mark Hamill|Carrie Fisher|Adam D...   \n",
       "4  Vin Diesel|Paul Walker|Jason Statham|Michelle ...   \n",
       "\n",
       "                                            homepage          director  \\\n",
       "0                      http://www.jurassicworld.com/   Colin Trevorrow   \n",
       "1                        http://www.madmaxmovie.com/     George Miller   \n",
       "2     http://www.thedivergentseries.movie/#insurgent  Robert Schwentke   \n",
       "3  http://www.starwars.com/films/star-wars-episod...       J.J. Abrams   \n",
       "4                           http://www.furious7.com/         James Wan   \n",
       "\n",
       "                         tagline  ...  \\\n",
       "0              The park is open.  ...   \n",
       "1             What a Lovely Day.  ...   \n",
       "2     One Choice Can Destroy You  ...   \n",
       "3  Every generation has a story.  ...   \n",
       "4            Vengeance Hits Home  ...   \n",
       "\n",
       "                                            overview runtime  \\\n",
       "0  Twenty-two years after the events of Jurassic ...     124   \n",
       "1  An apocalyptic story set in the furthest reach...     120   \n",
       "2  Beatrice Prior must confront her inner demons ...     119   \n",
       "3  Thirty years after defeating the Galactic Empi...     136   \n",
       "4  Deckard Shaw seeks revenge against Dominic Tor...     137   \n",
       "\n",
       "                                      genres  \\\n",
       "0  Action|Adventure|Science Fiction|Thriller   \n",
       "1  Action|Adventure|Science Fiction|Thriller   \n",
       "2         Adventure|Science Fiction|Thriller   \n",
       "3   Action|Adventure|Science Fiction|Fantasy   \n",
       "4                      Action|Crime|Thriller   \n",
       "\n",
       "                                production_companies release_date vote_count  \\\n",
       "0  Universal Studios|Amblin Entertainment|Legenda...       6/9/15       5562   \n",
       "1  Village Roadshow Pictures|Kennedy Miller Produ...      5/13/15       6185   \n",
       "2  Summit Entertainment|Mandeville Films|Red Wago...      3/18/15       2480   \n",
       "3          Lucasfilm|Truenorth Productions|Bad Robot     12/15/15       5292   \n",
       "4  Universal Pictures|Original Film|Media Rights ...       4/1/15       2947   \n",
       "\n",
       "   vote_average  release_year    budget_adj   revenue_adj  \n",
       "0           6.5          2015  1.379999e+08  1.392446e+09  \n",
       "1           7.1          2015  1.379999e+08  3.481613e+08  \n",
       "2           6.3          2015  1.012000e+08  2.716190e+08  \n",
       "3           7.5          2015  1.839999e+08  1.902723e+09  \n",
       "4           7.3          2015  1.747999e+08  1.385749e+09  \n",
       "\n",
       "[5 rows x 21 columns]"
      ]
     },
     "execution_count": 6,
     "metadata": {},
     "output_type": "execute_result"
    }
   ],
   "source": [
    "# load the Movie Database (TMDB) dataset \n",
    "\n",
    "df_mdb = pd.read_csv('tmdb-movies.csv')\n",
    "\n",
    "# view the first 5 rows of the loaded dataset\n",
    "\n",
    "df_mdb.head(5)"
   ]
  },
  {
   "cell_type": "markdown",
   "metadata": {},
   "source": [
    "# Data Cleaning"
   ]
  },
  {
   "cell_type": "code",
   "execution_count": 7,
   "metadata": {},
   "outputs": [],
   "source": [
    "# convert dataset to dataframe\n",
    "df_mdb = pd.DataFrame(df_mdb)"
   ]
  },
  {
   "cell_type": "code",
   "execution_count": 8,
   "metadata": {},
   "outputs": [
    {
     "name": "stdout",
     "output_type": "stream",
     "text": [
      "<class 'pandas.core.frame.DataFrame'>\n",
      "RangeIndex: 10866 entries, 0 to 10865\n",
      "Data columns (total 21 columns):\n",
      " #   Column                Non-Null Count  Dtype  \n",
      "---  ------                --------------  -----  \n",
      " 0   id                    10866 non-null  int64  \n",
      " 1   imdb_id               10856 non-null  object \n",
      " 2   popularity            10866 non-null  float64\n",
      " 3   budget                10866 non-null  int64  \n",
      " 4   revenue               10866 non-null  int64  \n",
      " 5   original_title        10866 non-null  object \n",
      " 6   cast                  10790 non-null  object \n",
      " 7   homepage              2936 non-null   object \n",
      " 8   director              10822 non-null  object \n",
      " 9   tagline               8042 non-null   object \n",
      " 10  keywords              9373 non-null   object \n",
      " 11  overview              10862 non-null  object \n",
      " 12  runtime               10866 non-null  int64  \n",
      " 13  genres                10843 non-null  object \n",
      " 14  production_companies  9836 non-null   object \n",
      " 15  release_date          10866 non-null  object \n",
      " 16  vote_count            10866 non-null  int64  \n",
      " 17  vote_average          10866 non-null  float64\n",
      " 18  release_year          10866 non-null  int64  \n",
      " 19  budget_adj            10866 non-null  float64\n",
      " 20  revenue_adj           10866 non-null  float64\n",
      "dtypes: float64(4), int64(6), object(11)\n",
      "memory usage: 1.7+ MB\n"
     ]
    }
   ],
   "source": [
    "df_mdb.info();"
   ]
  },
  {
   "cell_type": "code",
   "execution_count": 9,
   "metadata": {},
   "outputs": [
    {
     "data": {
      "text/plain": [
       "Index(['id', 'imdb_id', 'popularity', 'budget', 'revenue', 'original_title',\n",
       "       'cast', 'homepage', 'director', 'tagline', 'keywords', 'overview',\n",
       "       'runtime', 'genres', 'production_companies', 'release_date',\n",
       "       'vote_count', 'vote_average', 'release_year', 'budget_adj',\n",
       "       'revenue_adj'],\n",
       "      dtype='object')"
      ]
     },
     "execution_count": 9,
     "metadata": {},
     "output_type": "execute_result"
    }
   ],
   "source": [
    "df_mdb.columns"
   ]
  },
  {
   "cell_type": "code",
   "execution_count": 13,
   "metadata": {},
   "outputs": [],
   "source": [
    "# drop features not needed in the analysis ( imdb_id, homepage, tagline, keywords, overview, and production_companies.)\n",
    "df_mdb = df_mdb.drop(['id', 'imdb_id', 'original_title', 'homepage', 'tagline', 'keywords', 'overview', 'production_companies'], axis =1 )\n"
   ]
  },
  {
   "cell_type": "code",
   "execution_count": 14,
   "metadata": {},
   "outputs": [
    {
     "data": {
      "text/plain": [
       "Index(['popularity', 'budget', 'revenue', 'cast', 'director', 'runtime',\n",
       "       'genres', 'release_date', 'vote_count', 'vote_average', 'release_year',\n",
       "       'budget_adj', 'revenue_adj'],\n",
       "      dtype='object')"
      ]
     },
     "execution_count": 14,
     "metadata": {},
     "output_type": "execute_result"
    }
   ],
   "source": [
    "#check the dataset to confirm drop\n",
    "df_mdb.columns"
   ]
  },
  {
   "cell_type": "code",
   "execution_count": 15,
   "metadata": {},
   "outputs": [
    {
     "name": "stdout",
     "output_type": "stream",
     "text": [
      "<class 'pandas.core.frame.DataFrame'>\n",
      "RangeIndex: 10866 entries, 0 to 10865\n",
      "Data columns (total 13 columns):\n",
      " #   Column        Non-Null Count  Dtype  \n",
      "---  ------        --------------  -----  \n",
      " 0   popularity    10866 non-null  float64\n",
      " 1   budget        10866 non-null  int64  \n",
      " 2   revenue       10866 non-null  int64  \n",
      " 3   cast          10790 non-null  object \n",
      " 4   director      10822 non-null  object \n",
      " 5   runtime       10866 non-null  int64  \n",
      " 6   genres        10843 non-null  object \n",
      " 7   release_date  10866 non-null  object \n",
      " 8   vote_count    10866 non-null  int64  \n",
      " 9   vote_average  10866 non-null  float64\n",
      " 10  release_year  10866 non-null  int64  \n",
      " 11  budget_adj    10866 non-null  float64\n",
      " 12  revenue_adj   10866 non-null  float64\n",
      "dtypes: float64(4), int64(5), object(4)\n",
      "memory usage: 1.1+ MB\n"
     ]
    }
   ],
   "source": [
    "df_mdb.info();"
   ]
  },
  {
   "cell_type": "code",
   "execution_count": 16,
   "metadata": {},
   "outputs": [
    {
     "data": {
      "text/plain": [
       "popularity       0\n",
       "budget           0\n",
       "revenue          0\n",
       "cast            76\n",
       "director        44\n",
       "runtime          0\n",
       "genres          23\n",
       "release_date     0\n",
       "vote_count       0\n",
       "vote_average     0\n",
       "release_year     0\n",
       "budget_adj       0\n",
       "revenue_adj      0\n",
       "dtype: int64"
      ]
     },
     "execution_count": 16,
     "metadata": {},
     "output_type": "execute_result"
    }
   ],
   "source": [
    "df_mdb.isnull().sum()"
   ]
  },
  {
   "cell_type": "code",
   "execution_count": 24,
   "metadata": {},
   "outputs": [],
   "source": [
    "## correct data type on columns\n",
    "\"\"\" convert the datatype\n",
    "release_date  from String to Date format\n",
    "\"\"\"\n",
    "\n",
    "# df_mdb['release_date'] = df_mdb['release_date'].astype(datetime)\n",
    "\n",
    "df_mdb['release_date'] = pd.to_datetime(df_mdb['release_date'])"
   ]
  },
  {
   "cell_type": "code",
   "execution_count": 25,
   "metadata": {},
   "outputs": [
    {
     "name": "stdout",
     "output_type": "stream",
     "text": [
      "<class 'pandas.core.frame.DataFrame'>\n",
      "RangeIndex: 10866 entries, 0 to 10865\n",
      "Data columns (total 13 columns):\n",
      " #   Column        Non-Null Count  Dtype         \n",
      "---  ------        --------------  -----         \n",
      " 0   popularity    10866 non-null  float64       \n",
      " 1   budget        10866 non-null  int64         \n",
      " 2   revenue       10866 non-null  int64         \n",
      " 3   cast          10790 non-null  object        \n",
      " 4   director      10822 non-null  object        \n",
      " 5   runtime       10866 non-null  int64         \n",
      " 6   genres        10843 non-null  object        \n",
      " 7   release_date  10866 non-null  datetime64[ns]\n",
      " 8   vote_count    10866 non-null  int64         \n",
      " 9   vote_average  10866 non-null  float64       \n",
      " 10  release_year  10866 non-null  int64         \n",
      " 11  budget_adj    10866 non-null  float64       \n",
      " 12  revenue_adj   10866 non-null  float64       \n",
      "dtypes: datetime64[ns](1), float64(4), int64(5), object(3)\n",
      "memory usage: 1.1+ MB\n"
     ]
    }
   ],
   "source": [
    "df_mdb.info()"
   ]
  },
  {
   "cell_type": "code",
   "execution_count": 32,
   "metadata": {},
   "outputs": [
    {
     "name": "stdout",
     "output_type": "stream",
     "text": [
      "['Action|Adventure|Science Fiction|Thriller', 'Adventure|Science Fiction|Thriller', 'Action|Adventure|Science Fiction|Fantasy', 'Action|Crime|Thriller', 'Western|Drama|Adventure|Thriller', 'Science Fiction|Action|Thriller|Adventure', 'Drama|Adventure|Science Fiction', 'Family|Animation|Adventure|Comedy', 'Comedy|Animation|Family', 'Action|Adventure|Crime', 'Science Fiction|Fantasy|Action|Adventure', 'Drama|Science Fiction', 'Action|Comedy|Science Fiction', 'Action|Adventure|Science Fiction', 'Crime|Drama|Mystery|Western', 'Crime|Action|Thriller', 'Science Fiction|Action|Adventure', 'Romance|Fantasy|Family|Drama', 'War|Adventure|Science Fiction', 'Action|Family|Science Fiction|Adventure|Mystery', 'Action|Drama', 'Action|Drama|Thriller', 'Drama|Romance', 'Comedy|Drama', 'Action', 'Comedy', 'Crime|Comedy|Action|Adventure', 'Drama|Thriller|History', 'Action|Science Fiction|Thriller', 'Mystery|Drama', 'Crime|Action|Science Fiction', 'Comedy|Music', 'Thriller|Drama', 'Adventure|Horror|Comedy', 'Drama|Thriller', 'Crime|Drama|Mystery', 'Adventure|Animation|Comedy|Family|Fantasy', 'Action|Crime|Drama|Mystery|Thriller', 'Drama|Music', 'Fantasy|Action|Adventure', 'History|Drama', 'Comedy|Action|Adventure', 'Fantasy|Drama|Romance', 'Fantasy|Comedy|Animation|Science Fiction|Family', 'Drama|Mystery|Romance', 'Thriller|Crime|Drama', 'Thriller|Comedy|Drama|Romance|Science Fiction', 'Romance|Drama', 'Adventure|Drama', 'Drama', 'Science Fiction|Mystery|Thriller', 'Comedy|Adventure', 'Mystery|Crime|Action|Thriller|Drama', 'Mystery|Horror', 'Action|Comedy|Crime', 'Romance|Comedy|Crime|Drama', 'Thriller|Drama|Adventure|Action|History', 'Crime|Thriller|Action', 'Drama|Thriller|War', 'Crime|Thriller', 'Thriller', 'Adventure|Family|Fantasy', 'Action|Adventure|Fantasy', 'Adventure|Animation|Comedy|Family', 'Drama|Horror|Thriller', 'Animation|Comedy|Family', 'Family|Comedy', 'Adventure|Drama|Thriller', 'Action|Crime|Drama', 'Adventure|Comedy', 'Horror|Thriller', 'Horror', 'Drama|Romance|Science Fiction', 'Thriller|Mystery', 'Thriller|Science Fiction|Action|Adventure', 'Adventure|Animation|Fantasy', 'Romance|Comedy', 'Action|Adventure|Comedy|Family', 'Adventure|Animation|Family', 'Action|Drama|Science Fiction', 'Thriller|Action', 'Comedy|Horror', 'Crime|Drama', 'Horror|Comedy|Fantasy', 'Drama|Mystery|Thriller', 'Action|Thriller', 'Crime|Drama|Comedy', 'Comedy|Action', 'Action|Fantasy|Adventure', 'Science Fiction|Thriller', 'Comedy|Science Fiction', 'Thriller|Action|Crime', 'Mystery|Thriller|Fantasy|Horror|Drama', 'Comedy|Drama|Music', 'Romance|Thriller|Western', 'Family|Animation', 'Adventure|Drama|Family', 'Family|Animation|Comedy|Adventure', 'Action|Drama|Crime', 'Action|Crime|Comedy', 'Drama|Science Fiction|Thriller', 'Animation|Comedy|Drama|Romance', 'Horror|Western|Adventure|Drama', 'Horror|Mystery|Thriller', 'Horror|Thriller|Comedy|Crime', 'Action|Adventure', 'Romance|Fantasy|Horror', 'Drama|History', 'Comedy|Drama|Romance', 'Action|Comedy|Science Fiction|Fantasy', 'Crime|Drama|Mystery|Thriller', 'Drama|Comedy', 'Drama|Action|Crime|Thriller', 'Comedy|Western', 'Comedy|Thriller', 'Drama|Music|Romance', 'Adventure|Action|Comedy', 'History|Drama|War', 'Music|Action|Adventure|Comedy|Family', 'Music|Romance|Comedy', 'Comedy|Drama|War', 'Action|Adventure|Animation|Family', 'Adventure|Comedy|Romance', 'Action|Animation|Science Fiction', 'Animation|Comedy|Family|Adventure', 'Western|Drama', 'Documentary|Music', 'Fantasy|Horror', 'Comedy|Music|War', 'Thriller|Horror', 'Mystery|Science Fiction|Thriller', 'Animation|Comedy|Family|Fantasy|Music', 'Thriller|Science Fiction', 'Drama|Horror|Science Fiction', 'Mystery|Drama|Horror', 'Drama|Adventure|Comedy', 'Action|Adventure|Animation', 'Adventure|Documentary', 'Fantasy|Thriller', 'Music|Documentary', 'War|Drama', 'Horror|Mystery', 'Animation|Adventure|Comedy', 'Documentary', 'Horror|TV Movie', 'Fantasy|Comedy|Animation', 'Adventure|Science Fiction|Action', 'TV Movie', 'Action|Drama|Family', 'Drama|Documentary', 'Music|Drama|Crime|Comedy', 'Music|Animation|Family|Fantasy', 'Horror|Science Fiction', 'Action|Animation|Fantasy', 'Fantasy|Thriller|Horror|Science Fiction', 'Action|Science Fiction|Adventure|Fantasy', 'Thriller|Drama|Horror', 'Animation|Family', 'Horror|Comedy', 'Thriller|Horror|Comedy|Drama', 'Thriller|Comedy|Crime', 'Family|Science Fiction|Action|Adventure', 'Drama|Music|Adventure|Fantasy', 'Thriller|Action|Drama', 'Action|Horror|Thriller', 'Drama|War', 'Thriller|Mystery|Science Fiction', 'Family|TV Movie', 'Crime|Horror|Thriller', 'Thriller|Drama|Comedy', 'Family|TV Movie|Animation', 'Thriller|Romance|Drama', 'Science Fiction|Action', 'Adventure|Action', 'Horror|Romance|Science Fiction', 'Animation|Family|Fantasy', 'Science Fiction|Action|Horror', 'Horror|Action', 'Thriller|Action|Horror', 'Comedy|Romance', 'Thriller|Drama|Science Fiction', 'TV Movie|Adventure|Comedy', 'Horror|Thriller|Science Fiction', 'TV Movie|Action|Science Fiction', 'Science Fiction|Drama|Family', 'Drama|Romance|Comedy', 'Crime|Drama|Thriller', 'War|Action', 'Adventure|Action|Comedy|Science Fiction', 'Animation|Music|Family', 'Drama|Horror|Science Fiction|Thriller', 'Animation|Documentary', 'Animation', 'Drama|TV Movie|Crime|Mystery', 'Drama|TV Movie', 'Science Fiction|Thriller|Fantasy', 'Action|Science Fiction', 'Science Fiction|Comedy|Horror', 'Action|Animation|Family', 'Action|Adventure|Science Fiction|Romance', 'Science Fiction|Horror', 'Drama|History|Romance', 'Drama|Music|TV Movie', 'Family|Adventure', 'Romance|Comedy|Drama', 'Mystery|Drama|Thriller', 'TV Movie|Horror|Science Fiction', 'Drama|Crime', 'Horror|Science Fiction|TV Movie', 'Science Fiction|Action|Animation|Adventure', 'Drama|Thriller|Horror', 'Drama|Thriller|Mystery', 'Horror|Science Fiction|Thriller', 'History|Documentary|Family', 'Horror|Comedy|Romance', 'Music|Comedy|Drama', 'History|Crime|Drama', 'Romance|Drama|Comedy|Mystery', 'Fantasy|Drama', 'TV Movie|Comedy', nan, 'History|Drama|Family', 'Crime|Action', 'Science Fiction|Drama|Thriller', 'Comedy|TV Movie|Romance', 'Mystery|Thriller|Horror|Science Fiction', 'Thriller|Horror|Science Fiction', 'Romance|Music|TV Movie|Comedy', 'Science Fiction|Comedy|Animation|Family', 'Mystery|Horror|Comedy', 'Mystery|Comedy', 'Crime', 'Thriller|Crime', 'Action|Crime|Drama|Thriller', 'Drama|Thriller|Science Fiction', 'Drama|Family', 'Thriller|Action|Adventure|Crime', 'Action|Comedy|Romance', 'Comedy|TV Movie|Animation|Science Fiction', 'TV Movie|Drama', 'Thriller|Horror|Mystery', 'Horror|Animation|Mystery', 'Romance|Drama|Music', 'Drama|Horror', 'Drama|History|Thriller|Science Fiction', 'Horror|Documentary', 'Fantasy|Adventure|Comedy', 'Romance|Comedy|Drama|Mystery', 'Romance|TV Movie', 'Mystery|Horror|Thriller', 'Thriller|Mystery|Drama|Horror', 'Music|Drama|Documentary|Crime', 'Documentary|Science Fiction', 'Thriller|Documentary', 'Drama|Science Fiction|Comedy', 'Thriller|Drama|Action|Crime', 'Family|Action|Drama', 'Thriller|TV Movie|Science Fiction|Drama', 'Thriller|Mystery|Horror|Fantasy', 'Mystery|Drama|History|Family|Thriller', 'Crime|Thriller|Action|Horror', 'Thriller|Adventure|Drama', 'Thriller|Crime|Documentary', 'Thriller|Drama|Fantasy', 'Romance|War|Documentary|Drama', 'Documentary|History', 'Music|Drama', 'Drama|Thriller|Horror|Mystery', 'Science Fiction|Action|Animation', 'Science Fiction|Comedy', 'Family|Documentary', 'Thriller|Mystery|Horror|Drama', 'Animation|Comedy|Science Fiction', 'Horror|Comedy|Drama', 'Science Fiction|Mystery|Horror|Thriller', 'Comedy|Drama|Family', 'Adventure|Drama|Science Fiction', 'Action|Science Fiction|Adventure', 'Science Fiction|Adventure|Thriller', 'Adventure|Fantasy', 'Adventure|Family|Animation|Action|Comedy', 'History|Drama|Thriller|War', 'Action|Mystery|Science Fiction|Thriller', 'Mystery|Thriller|Drama', 'War|Drama|Action', 'Adventure|Comedy|Fantasy|Family', 'Action|Adventure|Fantasy|Science Fiction', 'Science Fiction|Action|Adventure|Fantasy|Comedy', 'Science Fiction|Action|Drama|Thriller', 'Action|Comedy', 'Adventure|Drama|Action', 'Fantasy|Adventure|Action|Family|Romance', 'Fantasy|Action|Adventure|Animation|Comedy', 'Action|Adventure|Thriller', 'Adventure|Fantasy|Animation|Comedy|Action', 'Horror|Action|Drama|Fantasy|War', 'Fantasy|Comedy|Music', 'Action|War', 'Crime|Comedy|Action', 'Thriller|Action|Science Fiction', 'Action|Thriller|Crime|Drama', 'Drama|Adventure', 'Science Fiction|Drama', 'Comedy|Romance|Crime|Drama|Mystery', 'Action|Thriller|Mystery', 'Thriller|Science Fiction|Drama|Mystery', 'Animation|Adventure|Family', 'Animation|Adventure|Comedy|Family', 'Mystery|Thriller', 'War|Drama|History|Action', 'Thriller|Romance', 'Action|Adventure|History|Romance|Drama', 'Music|Comedy|Drama|Family', 'Romance|Animation|Adventure|Comedy|Family', 'Thriller|Crime|Action', 'Animation|Comedy|Family|Fantasy', 'Adventure', 'Family|Animation|Fantasy', 'Comedy|Action|Drama|Thriller|Fantasy', 'Action|Drama|Thriller|Crime', 'Animation|Comedy|Adventure|Family', 'Thriller|Action|Drama|War', 'Comedy|Drama|Mystery', 'Drama|Romance|War', 'Mystery|Drama|Action|Crime', 'Drama|Fantasy|Mystery|Romance', 'Mystery|Thriller|Action', 'Fantasy|Comedy|Drama', 'Drama|Action', 'Science Fiction|TV Movie', 'Thriller|Science Fiction|Drama', 'Comedy|Drama|Crime', 'Adventure|Drama|Comedy', 'Thriller|Animation|Action|Crime', 'Drama|Fantasy|Science Fiction', 'Horror|Comedy|Thriller', 'Thriller|Drama|Action|Mystery', 'Romance|Comedy|Animation|Drama|Family', 'Drama|Comedy|Romance', 'Thriller|Crime|Horror', 'Thriller|Crime|Drama|Mystery', 'Drama|Comedy|Science Fiction', 'Music|Documentary|Drama', 'Family|Drama', 'Thriller|Horror|Drama', 'Comedy|Adventure|Crime|Family', 'Horror|Fantasy|Thriller', 'Comedy|Drama|Horror', 'Action|Comedy|Thriller', 'Family', 'Adventure|Animation|Family|Fantasy', 'Documentary|Family', 'Horror|Action|Comedy', 'Fantasy|Comedy', 'Action|Fantasy|Comedy|Horror|Mystery', 'Romance|Comedy|Horror', 'Romance|Action|Comedy', 'Action|Drama|Romance|TV Movie', 'Drama|Action|Crime', 'Crime|Comedy', 'Comedy|Romance|Music', 'Romance', 'Action|Comedy|Crime|Thriller', 'Thriller|Drama|Romance', 'Horror|Romance', 'TV Movie|Romance|Family', 'Animation|Action|Adventure', 'Family|Adventure|Science Fiction', 'Fantasy|Adventure', 'Action|Horror|Science Fiction', 'Western|Action|Drama|Science Fiction', 'TV Movie|Crime|Mystery|Thriller', 'Crime|Drama|Family|Romance', 'Family|Animation|Music', 'Drama|Action|Adventure', 'Adventure|Science Fiction|Action|Thriller', 'Drama|Action|Comedy|Crime', 'Documentary|Drama', 'Drama|Thriller|Action', 'Science Fiction|Adventure|Comedy', 'Drama|Mystery|Thriller|TV Movie', 'Drama|Crime|TV Movie', 'Music|Romance|Drama', 'Science Fiction', 'Comedy|Drama|Music|Romance', 'Action|Comedy|Horror', 'Comedy|Family|Romance', 'War|Adventure', 'TV Movie|Documentary', 'Science Fiction|Comedy|Drama|Romance', 'Drama|Thriller|Action|Crime', 'Thriller|Drama|Crime|Mystery', 'Drama|Western', 'Adventure|Science Fiction|Fantasy|Family', 'Family|Fantasy|Comedy|Romance', 'Thriller|War|Adventure|Drama', 'Mystery|Thriller|Crime', 'Animation|Science Fiction|Action', 'Action|Drama|Horror|Thriller', 'Animation|Comedy|Family|Mystery', 'History|Documentary|Animation', 'Thriller|Science Fiction|Action', 'Music|Drama|Comedy', 'Adventure|Romance|Drama', 'Action|Adventure|Thriller|Romance', 'TV Movie|Drama|History', 'Drama|Crime|Thriller', 'Horror|Thriller|Action', 'Adventure|Animation|Science Fiction', 'Adventure|Family', 'TV Movie|Romance|Drama|Thriller', 'Adventure|Animation|Action', 'Documentary|War', 'Action|Animation', 'Drama|War|Thriller', 'Drama|Documentary|Comedy', 'Drama|Fantasy|Romance', 'Family|Science Fiction', 'Science Fiction|Action|Fantasy', 'Action|War|Drama', 'History|Comedy|Documentary', 'Adventure|Action|Animation|Fantasy', 'Family|Animation|Action|Science Fiction', 'Action|Thriller|War', 'Science Fiction|Adventure|Drama|Fantasy', 'Romance|Drama|Fantasy', 'Thriller|Drama|Crime', 'Music', 'TV Movie|Science Fiction|Action|Adventure|Horror', 'Drama|Science Fiction|TV Movie', 'Thriller|Science Fiction|Horror', 'Crime|Documentary', 'War|Documentary', 'Mystery|Thriller|Horror', 'Drama|Horror|Mystery|Science Fiction|Thriller', 'History|Crime|Horror|Documentary', 'Comedy|Family', 'War|Documentary|History', 'Thriller|Drama|Horror|Mystery', 'Romance|Adventure|Drama', 'Drama|Music|Comedy', 'Adventure|Fantasy|Romance|Science Fiction', 'Comedy|Animation', 'Family|Fantasy|Horror', 'Romance|Music|Comedy', 'Comedy|Documentary', 'Thriller|Crime|Action|Drama', 'War|Action|Drama', 'Documentary|Drama|Music', 'Mystery|Drama|Fantasy', 'Documentary|Thriller', 'Adventure|Action|Science Fiction', 'Adventure|Action|Thriller', 'Fantasy|Family|Animation|Adventure', 'Fantasy|Animation|Comedy|Family', 'Drama|History|War', 'Romance|Comedy|Family|Action|Adventure', 'Action|Adventure|Family|Fantasy|Science Fiction', 'Action|Adventure|Drama|War', 'Action|Adventure|Comedy', 'Drama|Action|History|War', 'Fantasy|Drama|Horror|Thriller', 'Horror|Thriller|Fantasy', 'Action|Adventure|Drama|Thriller', 'Science Fiction|Fantasy|Horror|Drama', 'Adventure|Drama|Action|History', 'History|Adventure', 'Drama|Mystery', 'Western', 'Drama|Adventure|Horror', 'Action|Thriller|Adventure', 'Animation|Fantasy|Science Fiction', 'Mystery|Thriller|Adventure', 'Science Fiction|Horror|Thriller', 'Horror|Drama|Mystery', 'Drama|Comedy|Family', 'Drama|Action|Thriller|War', 'Fantasy|Action|Adventure|Science Fiction|Thriller', 'Adventure|Fantasy|Family', 'Drama|Action|Thriller|Science Fiction', 'Action|Thriller|Science Fiction', 'Adventure|Drama|Action|Comedy|Thriller', 'Action|Mystery|Science Fiction', 'Action|Adventure|Animation|Science Fiction|Thriller', 'Romance|Family|Animation|Music', 'Adventure|Fantasy|Drama|Romance', 'Comedy|Romance|Drama', 'Adventure|Action|Thriller|Science Fiction', 'Comedy|Mystery', 'Adventure|Fantasy|Action|Comedy|Family', 'Animation|Drama', 'Action|Thriller|Crime', 'Action|Horror|Mystery|Science Fiction|Thriller', 'Animation|Family|Adventure|Fantasy', 'Action|Adventure|Drama|Mystery|Science Fiction', 'Fantasy|Action|Adventure|Family|Comedy', 'Comedy|Romance|Fantasy', 'Fantasy|Comedy|Romance', 'Science Fiction|Drama|Romance|Fantasy', 'Animation|Family|Adventure|Science Fiction', 'Horror|Thriller|Mystery', 'Comedy|Family|Animation|Fantasy|Music', 'Drama|Horror|Mystery|Thriller', 'Comedy|Crime|Drama|Thriller', 'Adventure|Family|Fantasy|Science Fiction|Thriller', 'Fantasy|Horror|Action|Thriller|Science Fiction', 'Drama|Romance|Fantasy', 'Adventure|Fantasy|Drama', 'Thriller|Mystery|Adventure', 'Action|Crime|Mystery|Thriller', 'Comedy|War', 'Comedy|Drama|Family|Music', 'Family|Fantasy', 'Science Fiction|Thriller|Drama|Crime', 'Adventure|Comedy|Science Fiction', 'Science Fiction|Animation|Family|Comedy|Adventure', 'Fantasy|Drama|Thriller', 'Horror|Action|Thriller', 'Adventure|Fantasy|Animation|Family', 'Science Fiction|Action|Adventure|Drama', 'Drama|Action|Comedy|Thriller|Crime', 'Adventure|Drama|History', 'Animation|Comedy|Drama', 'Adventure|Fantasy|Mystery', 'Crime|Drama|Horror|Mystery|Thriller', 'Action|Drama|Horror|Science Fiction|Thriller', 'Drama|Foreign|History', 'Adventure|Fantasy|Action|Thriller', 'Animation|Action|Science Fiction', 'Animation|Action|Family|Science Fiction', 'Drama|Thriller|Crime', 'Thriller|Adventure|Fantasy', 'Adventure|Action|Science Fiction|Thriller', 'Horror|Comedy|Music', 'Drama|History|TV Movie', 'Comedy|Crime|Drama', 'Drama|Comedy|Crime', 'Comedy|Drama|Family|Music|Romance', 'Action|Adventure|Crime|Drama|Thriller', 'Adventure|Comedy|Family|Fantasy|Science Fiction', 'Adventure|Horror|Thriller', 'Drama|Foreign|Mystery', 'War|Drama|History|Thriller', 'Fantasy|Drama|Action|Thriller|Animation', 'Action|Adventure|Animation|Science Fiction', 'Adventure|Thriller|Science Fiction', 'Action|Drama|History', 'Mystery|Animation|Comedy|Fantasy', 'Fantasy', 'Drama|Foreign|Romance', 'Action|Drama|Crime|Thriller', 'Science Fiction|Animation|Comedy', 'Crime|Thriller|Horror|Drama', 'Science Fiction|Adventure|Animation|Action|Family', 'Thriller|Crime|Drama|Action', 'Action|Drama|Foreign|Thriller', 'Drama|Action|Thriller', 'TV Movie|Comedy|Family|Fantasy|Romance', 'Animation|Drama|Science Fiction|Thriller', 'Drama|Romance|Foreign', 'TV Movie|Action|Adventure|Comedy|Family', 'Crime|Drama|Thriller|Mystery', 'Adventure|Fantasy|Action|Science Fiction', 'Action|Comedy|Music', 'Action|Horror|Thriller|Science Fiction', 'Thriller|Mystery|Crime|Drama', 'TV Movie|Animation|Family|Comedy', 'Thriller|Crime|Science Fiction|Mystery', 'Drama|Romance|Science Fiction|Thriller', 'Drama|Adventure|Romance', 'Crime|Thriller|Comedy', 'Action|Crime|Mystery', 'Drama|Thriller|Romance', 'Animation|Adventure|Comedy|Family|Fantasy', 'Fantasy|Drama|Science Fiction', 'Animation|Comedy', 'Comedy|Drama|Family|Fantasy', 'Music|Comedy|Drama|Romance', 'Animation|Fantasy|Family', 'Horror|Drama|Thriller', 'Action|Adventure|Fantasy|Science Fiction|Thriller', 'Drama|History|Horror', 'Comedy|Crime', 'Adventure|Fantasy|Drama|Thriller', 'Horror|Thriller|Crime|Mystery', 'War|Action|Thriller', 'Drama|Horror|Romance', 'Drama|Fantasy|Comedy', 'Animation|Adventure|Action|Comedy', 'Animation|Horror|Action', 'Drama|Romance|Thriller', 'Comedy|Fantasy|Romance|TV Movie', 'Fantasy|Drama|Comedy|Science Fiction', 'Action|Animation|Fantasy|Science Fiction', 'Drama|History|Foreign', 'Drama|Comedy|Science Fiction|Romance', 'Thriller|Mystery|Romance', 'Action|Adventure|Animation|Family|Science Fiction', 'Mystery|Adventure|Family', 'Fantasy|Drama|Science Fiction|Foreign', 'Comedy|Romance|Family', 'Action|Comedy|Crime|Drama', 'Action|Adventure|Drama|Family', 'Animation|Horror|Action|Comedy', 'Crime|Horror|Mystery|Thriller', 'Foreign|Action|Science Fiction|Thriller|Horror', 'Fantasy|Drama|Comedy|Science Fiction|Romance', 'Adventure|Comedy|Drama|Family|Fantasy', 'Comedy|Drama|Foreign', 'Comedy|Thriller|Mystery', 'Comedy|Drama|Family|TV Movie', 'Action|Comedy|Horror|Science Fiction', 'Family|Science Fiction|TV Movie|Adventure|Drama', 'Action|Fantasy', 'Action|Comedy|Mystery|Romance|Thriller', 'Action|Foreign|Horror|Thriller', 'Horror|Action|Thriller|Science Fiction', 'Documentary|Comedy', 'Action|Thriller|Horror', 'Drama|Action|Comedy', 'Drama|Family|Foreign', 'Music|Comedy', 'Comedy|Fantasy', 'Drama|Foreign', 'Crime|Mystery|Thriller', 'Horror|Drama|Mystery|Thriller', 'Documentary|Horror', 'Action|Adventure|Comedy|Science Fiction', 'Science Fiction|Adventure|Family', 'Animation|Fantasy|Mystery', 'Foreign|Romance|Thriller', 'Drama|Horror|Thriller|Foreign', 'Drama|Foreign|Romance|Thriller', 'Animation|Science Fiction', 'Action|Comedy|Foreign', 'Documentary|Drama|Foreign', 'Comedy|Horror|Thriller', 'Action|Thriller|Science Fiction|Mystery|Adventure', 'Family|Fantasy|Adventure', 'Fantasy|Adventure|Animation|Family', 'Animation|Family|Comedy', 'Action|Thriller|Crime|Mystery', 'Action|Crime', 'Action|Thriller|Romance', 'Adventure|Fantasy|Action|Romance', 'Drama|Adventure|Western', 'Adventure|Fantasy|Action', 'Fantasy|Adventure|Action|Comedy|Drama', 'Action|Science Fiction|Adventure|Thriller', 'Comedy|Adventure|Fantasy|Animation|Family', 'Thriller|Action|Adventure|Comedy|Crime', 'Action|Adventure|Comedy|Crime|Thriller', 'Animation|Action|Comedy|Family|Science Fiction', 'Action|Adventure|Family|Fantasy', 'Drama|Adventure|History', 'Action|Science Fiction|Thriller|Crime', 'Fantasy|Horror|Thriller', 'Animation|Adventure|Family|Fantasy', 'Horror|Crime', 'Romance|Drama|Thriller|Crime', 'Action|Adventure|Crime|Mystery|Thriller', 'Action|Western|Drama|Fantasy|Thriller', 'Animation|Adventure|Fantasy|Family', 'Action|Comedy|Thriller|Romance', 'Science Fiction|Comedy|Adventure', 'Drama|Horror|Mystery', 'Crime|Drama|Action|Thriller', 'Crime|Drama|Horror|Thriller', 'Adventure|Comedy|Drama', 'Fantasy|Action|Family', 'Comedy|Family|Fantasy', 'TV Movie|Drama|Comedy|Music|Romance', 'Horror|Thriller|Drama', 'Comedy|Documentary|Action', 'Drama|Family|Fantasy', 'Thriller|Action|Comedy', 'Comedy|Drama|Fantasy|Horror|Mystery', 'Action|Comedy|Family', 'Drama|Horror|Action|Thriller|Mystery', 'Drama|Mystery|Thriller|Crime|Romance', 'Drama|Fantasy', 'Crime|Drama|Action|Thriller|Science Fiction', 'Crime|Drama|History', 'Action|Adventure|Foreign|Thriller', 'Action|Thriller|Western', 'TV Movie|Animation|Fantasy', 'Crime|Drama|Thriller|History', 'Adventure|Comedy|Family|Fantasy', 'Drama|Family|Romance', 'Drama|Horror|Crime', 'Fantasy|Drama|Horror|Action|Thriller', 'Mystery|Horror|Action', 'War', 'Mystery|Fantasy|Comedy|Adventure', 'Fantasy|Drama|Family', 'Comedy|Romance|TV Movie', 'Adventure|Action|Comedy|Thriller', 'Comedy|Family|Animation|Adventure', 'Comedy|Action|Drama', 'Romance|Science Fiction', 'Fantasy|Animation|Drama|Comedy|Science Fiction', 'Animation|Fantasy', 'Action|Adventure|Fantasy|Horror', 'Adventure|Fantasy|Animation|Action|Thriller', 'Fantasy|Comedy|Science Fiction', 'Animation|Action', 'Action|Adventure|Drama', 'Action|Comedy|Drama|Mystery|Thriller', 'Animation|Fantasy|Comedy|Science Fiction', 'Science Fiction|Comedy|Mystery', 'Animation|Action|Thriller|Science Fiction', 'Drama|Thriller|Foreign', 'Mystery|Horror|Thriller|Crime', 'Action|Thriller|Crime|Romance', 'Crime|Horror|Mystery', 'Crime|Comedy|Drama', 'Drama|Action|Romance', 'TV Movie|Science Fiction', 'War|Drama|Action|Adventure|History', 'Action|Thriller|Science Fiction|Foreign', 'Horror|Action|Science Fiction|Thriller', 'Action|Comedy|Horror|Mystery|Science Fiction', 'TV Movie|Animation|Adventure', 'Family|History|Action|Drama', 'Drama|Thriller|Crime|Mystery', 'Animation|Horror|Science Fiction', 'Drama|Horror|Action|Thriller|Science Fiction', 'Animation|Action|Western', 'Adventure|Fantasy|Action|Western|Thriller', 'Action|Comedy|Drama', 'Action|Adventure|Drama|Horror|Science Fiction', 'Foreign|Horror|Thriller', 'Action|Comedy|Animation', 'History|Music', 'Adventure|Drama|History|Romance', 'Family|Drama|Romance|Comedy', 'Documentary|Foreign', 'Science Fiction|Thriller|Drama', 'Drama|Action|Thriller|Crime', 'Drama|Action|Thriller|Foreign', 'Horror|Thriller|Foreign', 'Horror|Comedy|Science Fiction|Thriller', 'Comedy|Drama|History', 'Action|Adventure|Horror|Science Fiction', 'Action|Adventure|Animation|Fantasy|Horror', 'Thriller|War', 'Comedy|Thriller|Crime', 'Family|Fantasy|Horror|TV Movie', 'Comedy|Documentary|Drama', 'Drama|Comedy|History|Family', 'Fantasy|Science Fiction|Horror', 'Action|Drama|Family|Thriller', 'Drama|Romance|Foreign|Comedy', 'Animation|Music|Romance', 'Action|Horror|Science Fiction|Thriller', 'Drama|Comedy|Romance|Foreign', 'Action|Foreign', 'TV Movie|Fantasy|Comedy|Romance|Family', 'Drama|Comedy|Romance|Family', 'Animation|Adventure', 'Action|Animation|Drama|Fantasy|Thriller', 'Adventure|Fantasy|Horror|Action|Thriller', 'Fantasy|Drama|Crime', 'Drama|Fantasy|Thriller|Mystery', 'Adventure|Animation|Drama|Family', 'Romance|Drama|Mystery', 'Crime|Adventure|Action|Comedy|Science Fiction', 'Comedy|Family|Science Fiction', 'Fantasy|Drama|Comedy', 'Drama|Mystery|Thriller|Crime', 'Action|Adventure|Comedy|Drama|Science Fiction', 'Action|Fantasy|Horror|Mystery', 'Adventure|Animation|Family|Fantasy|Science Fiction', 'Animation|Comedy|Music', 'Thriller|Science Fiction|Mystery', 'Thriller|Crime|Mystery', 'Fantasy|Comedy|Adventure', 'Horror|Thriller|Fantasy|Mystery', 'Horror|Action|Science Fiction', 'Horror|Comedy|Action|Science Fiction|Thriller', 'Adventure|Fantasy|Action|Comedy|Science Fiction', 'Crime|Comedy|Thriller', 'Music|Family|Comedy', 'Crime|Action|Horror|Thriller', 'Drama|Comedy|Crime|Romance', 'Action|Thriller|Science Fiction|Horror', 'Thriller|Action|Comedy|Crime', 'Drama|History|Thriller', 'Comedy|Action|Crime|Adventure', 'Comedy|Crime|Romance', 'Comedy|Romance|Science Fiction', 'Western|Horror|Thriller', 'Comedy|Drama|Family|Science Fiction', 'Fantasy|Drama|Comedy|Romance', 'Drama|Action|Thriller|Crime|Mystery', 'Adventure|Fantasy|Animation|Science Fiction|Mystery', 'Fantasy|Comedy|Science Fiction|Family', 'TV Movie|Action|Drama|Western', 'Thriller|Comedy|Horror', 'Action|Drama|Romance', 'Thriller|Drama|Crime|Romance', 'Comedy|Crime|Thriller', 'Action|Mystery|Thriller', 'Fantasy|Family', 'Comedy|Drama|Thriller', 'Adventure|Drama|Action|History|War', 'Drama|Family|Science Fiction|Fantasy', 'Action|Science Fiction|Thriller|Adventure|Horror', 'Family|Drama|Comedy', 'Adventure|Fantasy|Action|Science Fiction|Family', 'Comedy|Foreign', 'Drama|War|Romance|Western', 'Animation|Drama|Family', 'Action|Drama|Science Fiction|Adventure', 'Crime|Drama|Horror', 'Comedy|History', 'Fantasy|Horror|Science Fiction', 'Animation|Action|Family', 'TV Movie|Adventure|Comedy|Family', 'Documentary|Animation', 'TV Movie|Family|Drama', 'TV Movie|Comedy|Documentary', 'TV Movie|Drama|Mystery|Romance', 'Foreign', 'Thriller|Drama|Mystery', 'Fantasy|Drama|Mystery', 'Fantasy|Animation|Family|Comedy', 'Drama|Science Fiction|Adventure', 'History|Romance|War', 'Action|Adventure|Drama|Fantasy|Horror', 'Action|History|War', 'Adventure|Drama|Romance|Action', 'Adventure|Fantasy|Animation|Action|Comedy', 'Drama|Mystery|Romance|Science Fiction|Thriller', 'Adventure|Action|Animation|Fantasy|Science Fiction', 'Drama|Thriller|Mystery|Romance', 'Comedy|Family|Romance|Fantasy', 'Action|Drama|Thriller|War', 'Comedy|Fantasy|Romance|Science Fiction', 'Crime|Mystery|Thriller|Action', 'Comedy|Crime|Mystery', 'Action|Comedy|Crime|Romance', 'Action|Comedy|Horror|Science Fiction|Thriller', 'Crime|Comedy|Romance', 'Action|Drama|War', 'Mystery|Adventure|Comedy|Romance|Drama', 'Fantasy|Comedy|Science Fiction|Romance', 'Action|Adventure|Comedy|Thriller|Crime', 'Comedy|Romance|Crime', 'Comedy|Crime|Mystery|Romance|Thriller', 'Adventure|Animation|Action|Comedy|Family', 'Drama|Comedy|War|Crime|Thriller', 'Mystery|Drama|Thriller|Romance|War', 'Drama|Family|Romance|Music', 'Action|Comedy|Family|Adventure', 'Comedy|Fantasy|Science Fiction', 'Action|Family|Adventure|Romance|TV Movie', 'Action|Western', 'Crime|Drama|Thriller|Horror', 'Action|Adventure|Drama|Western', 'Adventure|Fantasy|Comedy|Science Fiction|Romance', 'Drama|History|Romance|War', 'Action|Adventure|Crime|Thriller', 'Adventure|Drama|Fantasy', 'Comedy|Family|Fantasy|Science Fiction', 'War|Action|Adventure|Drama|History', 'Action|Comedy|Drama|History', 'TV Movie|Fantasy|Family|Adventure', 'TV Movie|Drama|History|War', 'Adventure|Comedy|Fantasy', 'Drama|Mystery|Romance|Thriller', 'Adventure|Comedy|Family|Science Fiction|TV Movie', 'TV Movie|Family|Comedy|Drama', 'Action|Adventure|Horror|Thriller', 'Adventure|Comedy|Drama|Romance', 'Comedy|Drama|Science Fiction', 'Action|Horror|Mystery|Thriller', 'TV Movie|Thriller|Drama|History|Romance', 'Adventure|Family|Fantasy|TV Movie', 'Fantasy|Science Fiction', 'Adventure|Fantasy|Science Fiction', 'Romance|Drama|Foreign', 'TV Movie|Comedy|Family|Adventure', 'Adventure|Drama|Action|Comedy|Romance', 'Comedy|Horror|Fantasy', 'Adventure|Action|Thriller|Crime', 'Comedy|Adventure|Romance', 'Fantasy|Drama|Thriller|Mystery|Romance', 'Action|Science Fiction|Adventure|Comedy|Family', 'Action|Adventure|Thriller|Crime', 'Drama|Thriller|History|War', 'Adventure|Action|Drama|Fantasy', 'Fantasy|Action', 'Music|Drama|Romance', 'Animation|Family|Adventure|Comedy', 'Fantasy|Comedy|Family|Romance', 'Crime|Action|Drama', 'Adventure|Science Fiction', 'Thriller|Animation|Action|Science Fiction|Adventure', 'Horror|Thriller|Crime', 'Family|Action|Science Fiction', 'Animation|Comedy|Family|Adventure|Fantasy', 'Action|Drama|History|War', 'Family|Fantasy|Drama', 'Fantasy|Action|Science Fiction', 'Drama|Mystery|Science Fiction|Thriller', 'Action|Comedy|Thriller|Crime|Science Fiction', 'Drama|Western|Crime', 'Adventure|Fantasy|Drama|Science Fiction|Romance', 'Drama|Animation|War', 'Animation|Family|Adventure|Drama|Fantasy', 'Adventure|Comedy|Family', 'Animation|Comedy|Science Fiction|Fantasy', 'Romance|Science Fiction|Thriller', 'Comedy|Drama|Family|Music|TV Movie', 'Comedy|Fantasy|Romance', 'Animation|Horror|Science Fiction|Thriller', 'TV Movie|Comedy|Fantasy', 'Comedy|Science Fiction|Adventure|Family', 'Romance|Horror|Thriller', 'Comedy|Drama|Family|Romance', 'Horror|Comedy|Crime|Thriller', 'Drama|Mystery|Thriller|Romance', 'Adventure|Comedy|Drama|Family', 'Horror|Thriller|Drama|Mystery', 'Action|Family|Science Fiction', 'Action|Adventure|Drama|Foreign|History', 'Crime|Horror', 'Action|Adventure|Comedy|Thriller', 'Fantasy|Action|Adventure|Comedy', 'Drama|History|Music', 'Adventure|Action|Fantasy|Horror|Science Fiction', 'Comedy|Crime|Mystery|Thriller', 'Thriller|Documentary|Crime|History', 'Thriller|Drama|Action|Crime|War', 'Drama|War|History', 'Mystery|Drama|Crime|Thriller|Horror', 'Horror|Comedy|Music|Science Fiction', 'Action|History|Drama', 'Comedy|War|Adventure|Drama', 'Horror|Mystery|Science Fiction', 'Action|Thriller|War|History', 'Drama|Thriller|Mystery|Horror', 'Adventure|Horror|Action|Science Fiction', 'Action|Adventure|Foreign', 'Adventure|Fantasy|Animation|Action|Science Fiction', 'War|Drama|Foreign|History', 'Drama|Comedy|Foreign', 'Comedy|Drama|Family|Fantasy|Foreign', 'Action|Fantasy|Horror', 'Drama|Action|Science Fiction|Thriller', 'Action|Adventure|Drama|Horror|Thriller', 'Comedy|Drama|Foreign|Romance', 'TV Movie|Comedy|Science Fiction|Family|Adventure', 'Action|Drama|Foreign|Mystery|Thriller', 'Adventure|Action|Comedy|Science Fiction|Music', 'Adventure|Animation|Comedy|Science Fiction|Family', 'Drama|Action|Crime|Foreign', 'Drama|Horror|Comedy|Thriller|Foreign', 'Horror|Drama|Thriller|Crime', 'Adventure|Drama|Family|Science Fiction', 'Action|Adventure|Comedy|Crime', 'Animation|Drama|Music|Romance', 'Drama|Fantasy|Adventure', 'Action|Horror|Western', 'Music|Romance', 'Documentary|History|War', 'Drama|Romance|War|History', 'Action|Animation|Horror', 'Adventure|Action|Fantasy', 'Thriller|Action|Drama|Science Fiction', 'Fantasy|Thriller|Action|Crime', 'Thriller|Crime|Mystery|Drama', 'Action|Science Fiction|Drama', 'Adventure|Action|Crime|Mystery', 'Adventure|Animation|Action|Family|Mystery', 'Action|Fantasy|Thriller', 'Adventure|Fantasy|Romance', 'Animation|Family|TV Movie', 'Action|Thriller|Science Fiction|Adventure', 'Action|Science Fiction|Thriller|Western', 'Animation|Comedy|Family|Western|Adventure', 'Adventure|Action|Thriller|Comedy', 'Action|Fantasy|Horror|Science Fiction|Thriller', 'Drama|Animation|Family|Comedy', 'Thriller|Action|Mystery', 'Thriller|Romance|Fantasy', 'Fantasy|Action|Drama', 'Action|Adventure|Animation|Family|Fantasy', 'Crime|Adventure|Action|Comedy|Thriller', 'Animation|Comedy|Adventure', 'Horror|Science Fiction|Mystery|Thriller', 'Adventure|Fantasy|Action|Comedy', 'Music|Family|Animation|Comedy', 'Comedy|Fantasy|Family|Music|Animation', 'Animation|Family|Adventure|Comedy|Fantasy', 'Drama|Science Fiction|Romance', 'Mystery|Comedy|Crime', 'Horror|Comedy|Science Fiction', 'Action|Comedy|Thriller|Crime', 'War|Action|Thriller|Drama', 'Comedy|Family|Music', 'Family|Comedy|Action', 'Comedy|Family|Animation|Fantasy', 'Family|Comedy|Adventure', 'Thriller|Crime|Drama|Action|Comedy', 'Drama|Crime|History', 'Action|Comedy|Adventure', 'Action|Adventure|Animation|Science Fiction|Crime', 'Crime|Thriller|Mystery', 'Animation|Action|Comedy|Family', 'Science Fiction|Drama|Mystery', 'Adventure|Fantasy|Drama|Action', 'Action|Crime|Comedy|Romance', 'Animation|Comedy|Family|TV Movie', 'Action|Crime|Thriller|Drama', 'Documentary|Family|Adventure', 'Adventure|Action|Western', 'Comedy|Family|Adventure', 'Adventure|Fantasy|Science Fiction|Action', 'Action|Drama|Horror|Science Fiction', 'Science Fiction|Fantasy', 'Drama|Action|Thriller|Crime|War', 'Fantasy|Drama|Thriller|Science Fiction', 'Romance|Adventure|Action|History', 'Drama|Thriller|Science Fiction|Mystery', 'Fantasy|Animation|Action|Comedy', 'Family|TV Movie|Romance', 'Horror|Thriller|Romance', 'Horror|Thriller|Science Fiction|Mystery', 'Comedy|Thriller|Action|Drama', 'Fantasy|Drama|Action', 'Comedy|Crime|Drama|Mystery|Thriller', 'Drama|Action|History', 'Comedy|Family|Action', 'Adventure|Comedy|Drama|Family|TV Movie', 'Documentary|Music|Family', 'Thriller|Science Fiction|Foreign', 'Action|Drama|Family|History|War', 'TV Movie|Romance|Drama', 'Action|Fantasy|Science Fiction|Thriller', 'Thriller|Science Fiction|Horror|Mystery', 'Comedy|Horror|Science Fiction', 'Comedy|Documentary|Music', 'Action|Thriller|Fantasy|Crime', 'Adventure|Comedy|Horror', 'Documentary|Comedy|Drama', 'TV Movie|Comedy|Romance', 'Fantasy|Horror|Thriller|War', 'Drama|Comedy|Documentary|Romance|Family', 'Foreign|Documentary', 'Fantasy|Comedy|Science Fiction|Romance|Thriller', 'Adventure|Animation', 'Action|Comedy|Drama|Foreign|Romance', 'Documentary|Crime', 'Drama|Comedy|Family|Foreign', 'Fantasy|Drama|Science Fiction|Family', 'Documentary|Drama|Comedy', 'Drama|Animation', 'Comedy|Music|Romance|Foreign', 'Drama|Documentary|Foreign', 'Action|Drama|Mystery|Thriller', 'Action|Thriller|Science Fiction|Mystery', 'Science Fiction|Horror|Action|Thriller', 'Drama|History|Crime', 'Family|Adventure|Animation|Comedy', 'Animation|Fantasy|Romance', 'Crime|Comedy|Family', 'Adventure|Animation|Family|Romance', 'Action|Thriller|Drama', 'Science Fiction|Action|Adventure|Thriller', 'Science Fiction|Comedy|Crime|Action', 'Fantasy|Comedy|Family', 'Mystery|Adventure|Comedy', 'Thriller|Action|Comedy|Science Fiction', 'Western|Animation|Adventure|Comedy|Family', 'Science Fiction|Adventure|Action', 'Thriller|Drama|History', 'Adventure|Fantasy|Science Fiction|Family', 'Action|Comedy|Horror|Thriller', 'Drama|Fantasy|Horror', 'Adventure|Drama|Action|Family', 'Adventure|Comedy|Drama|Fantasy|Mystery', 'Action|Comedy|Crime|Drama|Music', 'Thriller|Crime|Romance', 'Drama|Science Fiction|Mystery|Romance', 'War|Adventure|Drama|Romance', 'Drama|Action|Thriller|Romance', 'Family|Animation|Adventure', 'Drama|Mystery|Thriller|Horror', 'Comedy|Crime|Drama|Romance|Thriller', 'Adventure|Family|Science Fiction|Thriller', 'Drama|Comedy|Family|TV Movie', 'Drama|Horror|Thriller|Romance', 'Action|Adventure|Comedy|Drama|Family', 'Mystery|Drama|Thriller|Crime', 'Drama|Thriller|Romance|Crime', 'TV Movie|Horror|Science Fiction|Thriller', 'Drama|Horror|Thriller|War', 'Crime|Thriller|Horror', 'Action|Adventure|Drama|History', 'Action|Adventure|Crime|Drama', 'Drama|Romance|Comedy|Music', 'Comedy|Drama|History|Romance', 'Mystery|Drama|Adventure', 'Comedy|Family|Mystery|TV Movie', 'Action|Family', 'Comedy|Horror|Thriller|Mystery|Fantasy', 'Documentary|Drama|Music|Thriller', 'Action|Adventure|Family|Foreign', 'Action|Drama|Foreign|Science Fiction|Thriller', 'Action|Thriller|Crime|Foreign', 'Comedy|Drama|Fantasy', 'Fantasy|Drama|Science Fiction|Romance|Family', 'Action|Crime|Drama|Romance', 'Action|Adventure|Animation|Fantasy', 'Action|Adventure|Animation|Comedy|Family', 'Action|Drama|Foreign', 'Family|Animation|Drama', 'Comedy|Action|Crime', 'Adventure|Animation|Romance', 'Romance|Comedy|Crime|Fantasy', 'Action|Adventure|Comedy|Drama|Western', 'Crime|Thriller|Drama', 'Fantasy|Drama|Comedy|Family', 'Drama|Western|War|Romance', 'Adventure|Drama|Fantasy|Horror', 'Action|Comedy|Drama|Family', 'Fantasy|Action|Thriller', 'Drama|Thriller|Crime|Mystery|Romance', 'Horror|Thriller|Mystery|Fantasy', 'Adventure|Fantasy|Action|Thriller|Science Fiction', 'Fantasy|Science Fiction|Family|Animation', 'Comedy|Crime|Music', 'Animation|Family|Adventure', 'Thriller|Drama|Romance|Mystery', 'Thriller|Science Fiction|Action|Crime', 'Drama|Action|Western', 'Animation|Drama|Family|Fantasy', 'Action|Fantasy|Science Fiction', 'Family|Comedy|Crime', 'Drama|Horror|Science Fiction|Romance', 'Comedy|Thriller|Action|Crime', 'Fantasy|Animation|Science Fiction|Family', 'Crime|Comedy|Drama|Thriller', 'Mystery|Crime|Drama|Thriller', 'Thriller|Foreign', 'Action|Drama|Science Fiction|Thriller', 'Western|Action|Comedy', 'Comedy|Drama|Family|Fantasy|Science Fiction', 'Action|Comedy|Drama|Western', 'Action|Comedy|Western', 'Romance|Drama|Comedy', 'Romance|Comedy|Family', 'Adventure|Action|Comedy|Family', 'Drama|Family|Adventure', 'Action|Adventure|Horror|Science Fiction|Foreign', 'Action|Adventure|Fantasy|TV Movie', 'Science Fiction|Action|Adventure|Animation', 'Comedy|Family|Thriller', 'Thriller|Comedy', 'Action|Comedy|Romance|Foreign', 'Action|Adventure|Comedy|Western', 'Fantasy|Action|Horror', 'Science Fiction|Adventure|Mystery', 'Animation|Adventure|Comedy|Family|Action', 'Comedy|Music|Romance', 'Science Fiction|Adventure|Fantasy', 'Fantasy|Animation|Family', 'Action|Horror|Fantasy', 'Romance|Science Fiction|Drama|Fantasy', 'Thriller|Action|Adventure|Science Fiction', 'Animation|Family|Fantasy|Adventure', 'Adventure|Fantasy|Drama|Comedy|Science Fiction', 'Thriller|Action|Drama|Crime', 'Animation|Family|Romance', 'Animation|Adventure|Family|Comedy', 'Adventure|Drama|Romance', 'Horror|Crime|Mystery|Thriller', 'Horror|Thriller|Comedy', 'War|Action|Thriller|Science Fiction', 'Comedy|Crime|Family', 'Drama|Fantasy|Thriller', 'Action|Comedy|Thriller|Crime|Romance', 'Comedy|Romance|Fantasy|Drama', 'Drama|Action|Adventure|History|War', 'TV Movie|Adventure', 'Action|Science Fiction|Thriller|War', 'Drama|Comedy|Romance|Science Fiction', 'Animation|Comedy|Action|Family', 'Family|Adventure|Comedy', 'Adventure|History', 'Thriller|Action|Science Fiction|Horror|Mystery', 'Horror|Romance|Thriller', 'Action|History', 'Adventure|Science Fiction|Thriller|Mystery', 'Thriller|Action|Crime|Drama', 'Thriller|Comedy|Action', 'Comedy|Fantasy|Thriller', 'Adventure|Comedy|Crime', 'Comedy|Romance|Science Fiction|Drama', 'Action|Horror', 'Adventure|Drama|Action|Thriller', 'Science Fiction|Comedy|Drama|Crime', 'Drama|Family|TV Movie', 'Adventure|Horror|Action|Thriller|Science Fiction', 'Drama|Science Fiction|Mystery', 'Music|Comedy|Romance|Drama', 'Fantasy|Animation', 'Action|Animation|Thriller', 'Science Fiction|Romance', 'Horror|Mystery|Fantasy|Thriller', 'Science Fiction|Comedy|Thriller|Horror', 'Thriller|Horror|Romance', 'Adventure|TV Movie', 'Comedy|Horror|Thriller|Mystery', 'Action|Romance|Thriller', 'Action|Animation|Adventure', 'Thriller|Mystery|Foreign', 'TV Movie|Comedy|Drama', 'Thriller|Horror|Comedy', 'Adventure|Animation|Action|Foreign', 'Family|Animation|Comedy|Romance', 'Romance|Drama|Mystery|Thriller|Horror', 'Drama|Comedy|Thriller|Mystery|Romance', 'Drama|Horror|Romance|Thriller', 'Family|Music|TV Movie', 'Comedy|Romance|Horror', 'Comedy|Mystery|Thriller', 'Drama|History|Romance|TV Movie', 'Family|Animation|Comedy', 'Drama|Thriller|Crime|Romance', 'Documentary|Adventure', 'Comedy|TV Movie', 'Drama|Foreign|Thriller', 'Comedy|Science Fiction|Music', 'Fantasy|Animation|Comedy|Drama', 'Crime|Drama|History|Documentary', 'Romance|Comedy|Family|Fantasy', 'Fantasy|Action|Crime|Science Fiction|Thriller', 'Fantasy|Action|Thriller|Science Fiction', 'Drama|Action|War|History', 'Adventure|Action|Comedy|Thriller|Crime', 'Action|Adventure|Fantasy|Thriller', 'Action|Thriller|Adventure|Science Fiction', 'Fantasy|Animation|Science Fiction|Family|Action', 'Comedy|Fantasy|Family', 'Action|Adventure|Mystery|Science Fiction|Thriller', 'Thriller|Fantasy|Comedy|Family|Mystery', 'Adventure|Family|Drama|Comedy', 'Thriller|Fantasy|Action|Comedy', 'Action|Drama|Mystery|Thriller|Crime', 'Comedy|Drama|Crime|Thriller', 'Comedy|Adventure|Family', 'Action|Comedy|Fantasy', 'Action|Adventure|Comedy|Family|Science Fiction', 'Action|Comedy|Romance|Thriller', 'Drama|Fantasy|Horror|Mystery|Romance', 'Comedy|Music|Mystery|Crime', 'Comedy|Adventure|Crime', 'Drama|Romance|Adventure|War', 'TV Movie|Comedy|Family', 'Adventure|Drama|Science Fiction|Action', 'Romance|Action|Comedy|Crime|Mystery', 'Action|Adventure|Drama|History|War', 'Comedy|Drama|Mystery|Science Fiction', 'Drama|Thriller|Foreign|Action|Crime', 'Fantasy|Animation|Comedy|Science Fiction|Family', 'Thriller|Western|Adventure', 'Science Fiction|Animation', 'Drama|Comedy|Thriller|Romance|Foreign', 'Drama|Science Fiction|Fantasy|Adventure', 'Crime|Thriller|Mystery|Drama', 'Documentary|Action|Adventure', 'Drama|Romance|Crime', 'Drama|Horror|Comedy|Thriller|Romance', 'War|Action|Drama|Romance', 'Drama|Romance|Western', 'Comedy|Drama|Romance|Science Fiction|Thriller', 'Horror|Action|Comedy|Science Fiction', 'Animation|Science Fiction|Music', 'Comedy|Drama|Fantasy|Music', 'Family|Comedy|Drama', 'Animation|Drama|Science Fiction', 'Drama|Science Fiction|Family', 'Animation|Family|Fantasy|Adventure|Comedy', 'Thriller|Science Fiction|Mystery|Romance', 'Action|Crime|Fantasy|Science Fiction', 'Action|Adventure|Science Fiction|Comedy', 'Science Fiction|Horror|Action', 'Horror|Science Fiction|Mystery', 'Science Fiction|Comedy|Crime', 'Action|Crime|Science Fiction|Thriller', 'Action|Thriller|Adventure|Crime', 'Thriller|Action|Romance|Science Fiction|Adventure', 'Adventure|Comedy|Family|Romance', 'History|Drama|Adventure|War', 'Adventure|Comedy|Family|Science Fiction|Action', 'Adventure|Action|Drama|Thriller', 'Action|Adventure|Fantasy|Horror|Science Fiction', 'Action|Drama|Horror|Mystery|Thriller', 'Fantasy|Drama|Comedy|Thriller|Science Fiction', 'Fantasy|Adventure|Comedy|Family', 'Adventure|Fantasy|Drama|Comedy|Music', 'Comedy|Family|Drama', 'Drama|Horror|Thriller|TV Movie', 'Animation|Comedy|Family|Music', 'Fantasy|Animation|Romance|Family', 'Comedy|Thriller|Crime|Action', 'Action|Family|Fantasy', 'Science Fiction|Drama|Comedy', 'Action|Adventure|Comedy|Family|Fantasy', 'Drama|History|Mystery', 'Action|Adventure|Mystery|Thriller', 'Action|Drama|Foreign|History|Thriller', 'Thriller|Comedy|Family|Horror', 'Fantasy|Mystery', 'Family|Fantasy|Music|Romance|Science Fiction', 'Fantasy|Horror|Comedy', 'Science Fiction|Thriller|Action|Adventure', 'Action|Science Fiction|Adventure|Mystery', 'Romance|Science Fiction|Drama', 'Science Fiction|Action|Thriller', 'Adventure|Comedy|Drama|Fantasy', 'Action|Crime|Drama|Comedy|Thriller', 'Comedy|Action|Science Fiction', 'Fantasy|Horror|Action', 'Action|Adventure|Drama|Mystery|Romance', 'Fantasy|Action|Comedy|Crime', 'Comedy|Music|Romance|Drama', 'Action|Adventure|Western', 'Fantasy|Adventure|Family', 'Mystery|Drama|Crime|Thriller', 'Action|Adventure|Romance|Science Fiction|Thriller', 'Drama|Thriller|Mystery|Action', 'Action|Science Fiction|Horror', 'Animation|Comedy|Adventure|Family|Science Fiction', 'Animation|Action|Adventure|Family', 'Science Fiction|Thriller|Horror', 'Drama|Romance|Crime|Mystery', 'Fantasy|Family|Comedy|Animation', 'Thriller|Horror|Drama|Fantasy', 'Science Fiction|Adventure', 'Action|Comedy|Drama|Romance|Thriller', 'Mystery|Romance|Thriller', 'Thriller|Horror|Crime', 'Drama|Comedy|Music', 'Family|Fantasy|Animation|Adventure', 'History|Action|Adventure', 'Fantasy|Science Fiction|Animation|Action|Adventure', 'Comedy|Fantasy|Horror', 'Action|Adventure|Drama|Fantasy', 'TV Movie|Horror', 'Western|Drama|Crime|Romance', 'Western|Thriller', 'Drama|Science Fiction|Animation', 'Thriller|Action|Crime|Drama|Mystery', 'Action|Animation|Comedy', 'Adventure|Fantasy|Horror|Comedy', 'Drama|Fantasy|Science Fiction|Thriller', 'Comedy|Action|Science Fiction|Thriller', 'Mystery|Science Fiction|Romance', 'Horror|Science Fiction|Action', 'Comedy|Animation|Family|Fantasy', 'History|Drama|Thriller|Mystery', 'Horror|Thriller|Comedy|Action', 'Documentary|Drama|War|Crime|Mystery', 'Family|Fantasy|Comedy', 'Animation|Romance', 'Thriller|Mystery|Crime', 'TV Movie|Science Fiction|Action', 'Crime|Horror|Action|Thriller', 'Crime|Drama|Romance', 'Music|Drama|Fantasy|Romance', 'Mystery|Action|Adventure|Horror', 'Documentary|History|Music', 'Music|Romance|Comedy|Drama', 'TV Movie|Action|Adventure|Documentary', 'Family|Adventure|Animation', 'Romance|Crime|Comedy', 'Drama|Adventure|Documentary', 'Adventure|Horror|Thriller|Mystery', 'Horror|Documentary|Mystery', 'Horror|Fantasy', 'TV Movie|Romance|Comedy|Drama', 'Adventure|Comedy|Science Fiction|Family', 'Action|Adventure|Drama|Science Fiction', 'Action|Adventure|Fantasy|Romance', 'Action|Adventure|Drama|Thriller|War', 'Crime|Drama|Romance|Thriller', 'Comedy|Thriller|Crime|Mystery', 'Adventure|Comedy|Fantasy|Science Fiction|Family', 'Romance|Western', 'Action|Adventure|Comedy|Romance', 'Action|Science Fiction|Thriller|Horror|Fantasy', 'Adventure|Drama|Action|Thriller|Crime', 'Comedy|Thriller|Drama', 'Action|Crime|Drama|Western', 'Action|Adventure|Comedy|Crime|Drama', 'Action|Adventure|Crime|Drama|Family', 'Drama|Action|Comedy|Romance', 'Action|Adventure|Comedy|Drama', 'Comedy|Family|Music|Romance', 'Adventure|Family|Fantasy|Romance|Science Fiction', 'Drama|History|Western', 'Action|Adventure|War', 'Adventure|Fantasy|Animation|Comedy|Science Fiction', 'Action|Thriller|Fantasy', 'Adventure|Comedy|Family|Science Fiction', 'Action|Comedy|Drama|Family|Thriller', 'Animation|Comedy|Family|Science Fiction', 'Action|Crime|Adventure', 'Action|Comedy|Drama|Thriller', 'Family|Fantasy|Science Fiction|Adventure', 'Romance|Fantasy|Animation|Music', 'Drama|Mystery|Thriller|Fantasy', 'Adventure|Horror', 'Comedy|Family|Adventure|Fantasy|Romance', 'Action|Comedy|Crime|Mystery', 'Romance|Drama|History', 'Action|Adventure|Science Fiction|Thriller|Horror', 'Adventure|Fantasy|Action|Comedy|Thriller', 'Drama|Action|History|Thriller', 'Fantasy|Comedy|Family|Adventure', 'Crime|Drama|Family', 'Crime|Drama|Thriller|Action', 'Comedy|Drama|Mystery|Romance', 'Adventure|Fantasy|Drama|Science Fiction|Family', 'Comedy|Family|Adventure|Romance', 'Thriller|Science Fiction|Adventure|Action', 'Horror|Adventure|Drama|Thriller', 'Action|Adventure|Comedy|Drama|Mystery', 'Action|Comedy|Crime|Drama|Thriller', 'Fantasy|Animation|Horror|Action|Thriller', 'Adventure|Fantasy|Action|Family', 'Adventure|Crime|Drama|Mystery|Western', 'Family|Romance', 'Family|Adventure|Comedy|Music|Fantasy', 'Comedy|Crime|Drama|Romance', 'Action|Fantasy|Horror|Thriller', 'Thriller|Horror|Drama|Mystery', 'Comedy|Drama|Family|Fantasy|TV Movie', 'Thriller|Mystery|Drama', 'Animation|Thriller|Family', 'Drama|Foreign|War', 'Comedy|Drama|Romance|TV Movie', 'Action|Adventure|Drama|Romance', 'Fantasy|Adventure|Action|Drama', 'Science Fiction|Action|Comedy', 'Thriller|Drama|Mystery|Crime', 'Drama|Foreign|Horror|Mystery|Thriller', 'Comedy|Foreign|Romance', 'Action|Adventure|Animation|Drama|Family', 'Documentary|Drama|History', 'Action|Documentary|Science Fiction', 'Adventure|Drama|Thriller|Action', 'Drama|Horror|Comedy|Thriller|Science Fiction', 'Drama|Thriller|Mystery|Foreign', 'Action|Adventure|Drama|Fantasy|Science Fiction', 'Documentary|Comedy|TV Movie', 'Drama|Crime|Mystery', 'Drama|Thriller|Science Fiction|Romance|Foreign', 'Fantasy|Action|Science Fiction|Thriller', 'Music|Drama|Romance|Crime', 'Animation|Family|Comedy|Adventure', 'Comedy|Drama|Fantasy|Romance', 'Crime|Fantasy|Drama', 'Drama|Adventure|Science Fiction|Romance', 'Music|Animation|Comedy|Family', 'Fantasy|Action|Adventure|Family', 'Thriller|Action|Adventure|Drama', 'Fantasy|Adventure|Animation|Comedy|Family', 'Comedy|Drama|Family|Fantasy|Romance', 'War|Drama|History', 'Fantasy|Drama|Thriller|Romance', 'Action|Comedy|Crime|Mystery|Family', 'Animation|Science Fiction|Thriller', 'Horror|Action|Crime|Thriller', 'Action|Comedy|Documentary', 'Adventure|Action|Family', 'Fantasy|Romance|Family|Comedy', 'Adventure|Drama|War', 'Drama|History|Crime|Thriller|Action', 'Adventure|Family|Foreign', 'War|Crime|Drama|Mystery|Romance', 'Action|Adventure|Drama|History|Romance', 'Fantasy|Drama|Action|Comedy|Crime', 'Action|Adventure|Family|TV Movie', 'Romance|Comedy|Drama|Foreign', 'Mystery|Thriller|Crime|Horror', 'Romance|Drama|Family', 'Action|Adventure|Animation|Comedy|Drama', 'Comedy|Drama|Romance|Thriller', 'TV Movie|Fantasy|Animation|Action|Thriller', 'Comedy|War|History', 'Adventure|Comedy|Drama|Science Fiction', 'Animation|Comedy|Foreign', 'Drama|Horror|Thriller|Music', 'Romance|Comedy|Drama|Horror', 'Drama|Thriller|Fantasy|Mystery', 'Action|Crime|Drama|Foreign|Thriller', 'Horror|Adventure|Fantasy', 'TV Movie|Comedy|Family|Romance', 'Action|Fantasy|Mystery', 'Animation|Family|Foreign', 'Animation|Family|Science Fiction', 'Action|Documentary', 'Adventure|Comedy|Family|Fantasy|TV Movie', 'Animation|Family|Music', 'Comedy|Romance|Adventure', 'Action|Adventure|Romance|Thriller', 'Family|Comedy|Romance', 'TV Movie|Family|Comedy|Adventure|Crime', 'Action|Crime|Drama|Music|Thriller', 'Drama|Action|Foreign', 'Drama|Fantasy|Horror|Thriller|Mystery', 'Science Fiction|Drama|Romance', 'War|Adventure|Drama', 'Adventure|Action|Thriller|Mystery', 'Horror|Adventure|Action', 'Science Fiction|Action|Horror|Thriller|Adventure', 'Adventure|Fantasy|Comedy|Family', 'Mystery|Action|Thriller|Science Fiction|Adventure', 'Animation|Comedy|Family|Action', 'Mystery|Fantasy|Adventure|Comedy', 'War|History|Action|Adventure|Drama', 'Horror|Mystery|Crime', 'Adventure|War|History', 'Western|History|War', 'Western|Animation|Family|Comedy|Music', 'Western|Adventure', 'War|Drama|Mystery|Romance', 'Music|Adventure|Animation|Action|Comedy', 'Action|Comedy|Horror|Western', 'Drama|Action|Science Fiction', 'Music|Comedy|Family|Romance', 'Adventure|Action|Horror|Science Fiction|Thriller', 'Drama|Comedy|Music|Romance', 'Romance|Action|Adventure|Crime|Mystery', 'Action|Animation|Fantasy|Horror', 'Crime|Drama|Horror|Mystery|Science Fiction', 'Action|Drama|War|Thriller', 'Thriller|Adventure|Action|Comedy|Drama', 'Mystery|Action|Drama|Thriller|Crime', 'Action|Horror|Comedy|Science Fiction|Thriller', 'Comedy|Family|Music|TV Movie', 'Family|Action|Adventure', 'Romance|Comedy|Drama|Family', 'Action|Animation|Science Fiction|Thriller', 'Horror|Thriller|Western', 'Action|Comedy|Romance|Science Fiction|Thriller', 'Drama|Horror|Science Fiction|Mystery', 'Horror|Romance|Comedy', 'Comedy|Thriller|Crime|Foreign', 'TV Movie|Comedy|Adventure|Family', 'Action|Adventure|Comedy|Crime|Foreign', 'Drama|Adventure|Thriller', 'Comedy|Drama|Fantasy|Science Fiction', 'Action|Drama|Western', 'Music|Comedy|Action|Crime', 'Action|Comedy|Drama|Romance|Western', 'Action|Drama|History|Western', 'Science Fiction|Drama|Fantasy|Romance', 'Action|Adventure|Comedy|Family|Music', 'Drama|Action|Thriller|Crime|Foreign', 'Adventure|Action|Thriller|Foreign', 'Mystery|Drama|Fantasy|Science Fiction|Thriller', 'History|Adventure|Drama', 'Comedy|Drama|Horror|Thriller', 'Fantasy|Music|Romance', 'Western|History', 'Fantasy|Horror|Thriller|Science Fiction|Mystery', 'Adventure|Horror|Mystery|Thriller', 'Adventure|Fantasy|Family|Mystery', 'Adventure|Fantasy|Romance|Family', 'Thriller|Action|Fantasy|Horror', 'Crime|Action|Comedy', 'Drama|Horror|Music', 'Comedy|Music|Family|Fantasy|Animation', 'Comedy|Family|Fantasy|Romance', 'Comedy|Adventure|Fantasy|Action|Science Fiction', 'Fantasy|Action|Science Fiction|Thriller|Horror', 'Drama|Crime|Mystery|Thriller', 'Animation|Romance|Family|Fantasy', 'Drama|Thriller|Crime|History', 'Action|Thriller|Comedy|Crime', 'Comedy|Drama|Adventure', 'Action|Horror|Crime', 'Thriller|Crime|Drama|Horror', 'Adventure|Fantasy|Action|Drama', 'Animation|Adventure|Action|Drama|Fantasy', 'Adventure|Animation|Comedy|Fantasy|Family', 'History|Drama|Thriller|Crime|Mystery', 'Drama|Fantasy|Mystery|Science Fiction|Thriller', 'Action|Adventure|Drama|Fantasy|Family', 'Adventure|Drama|Fantasy|Family|Thriller', 'Science Fiction|Action|Adventure|Animation|Family', 'Action|Animation|Family|Fantasy|Science Fiction', 'Action|Adventure|Crime|Drama|Fantasy', 'Adventure|Drama|Music|Romance', 'Action|Adventure|Thriller|Drama', 'Drama|Mystery|Crime', 'Drama|Fantasy|Horror|Romance', 'Adventure|Drama|Horror', 'Horror|Thriller|Science Fiction|Mystery|Foreign', 'TV Movie|Fantasy|Animation|Horror|Action', 'Crime|Drama|Music', 'Action|Thriller|Foreign', 'Comedy|Drama|Romance|Fantasy|Music', 'Action|Adventure|Fantasy|War', 'Drama|Horror|Action|Thriller', 'Thriller|Drama|Horror|Fantasy', 'Comedy|Crime|Thriller|Romance', 'Animation|Family|Fantasy|Romance', 'Fantasy|Horror|Action|Science Fiction', 'Adventure|Action|Comedy|Romance', 'Drama|Crime|War', 'Drama|Comedy|Thriller', 'Comedy|Crime|Horror|Thriller', 'Fantasy|Action|Horror|Science Fiction|Drama', 'Action|Adventure|Horror', 'Action|Adventure|Crime|Family|Mystery', 'Action|Adventure|Animation|Family|Mystery', 'Horror|Foreign', 'Fantasy|Comedy|Mystery', 'TV Movie|Drama|Fantasy', 'Fantasy|Horror|Family', 'Mystery|Crime|Drama', 'Drama|Foreign|Science Fiction', 'Drama|Romance|War|Foreign', 'Drama|Action|History|Western|Romance', 'TV Movie|Comedy|Romance|Family', 'Adventure|Fantasy|Drama|Action|Science Fiction', 'Drama|Family|Fantasy|TV Movie', 'Action|Adventure|Thriller|Science Fiction', 'Drama|Comedy|History|Music', 'Adventure|Family|Science Fiction|Action', 'Adventure|Drama|Comedy|Science Fiction|Thriller', 'Western|Comedy', 'Thriller|Adventure|Drama|Crime', 'Drama|Comedy|Western|Romance', 'Comedy|Family|Western', 'Fantasy|Action|Comedy|Science Fiction|Family', 'Drama|Family|Fantasy|Adventure', 'Drama|Family|Music|Romance', 'Action|Adventure|Drama|Romance|Science Fiction', 'Mystery|Thriller|Crime|Drama', 'TV Movie|Fantasy|Drama|Comedy|Family', 'Adventure|Horror|Science Fiction|Thriller', 'Music|Drama|Crime|Romance', 'Horror|Science Fiction|Crime', 'Action|Adventure|Crime|Drama|Mystery', 'Adventure|Drama|Action|Romance', 'Action|Adventure|Thriller|War', 'Drama|Fantasy|Horror|Thriller', 'Science Fiction|Action|Comedy|Horror', 'Action|Thriller|Music', 'Adventure|Drama|Fantasy|Romance|Science Fiction', 'Action|Adventure|Comedy|Drama|Thriller', 'Drama|Mystery|War', 'Thriller|Crime|Science Fiction', 'Action|Science Fiction|Comedy', 'Crime|Drama|Science Fiction|Thriller', 'Adventure|Fantasy|Thriller', 'Music|Family|Drama', 'Comedy|Action|Adventure|Fantasy|Science Fiction', 'Action|Drama|Romance|Thriller', 'Mystery|Drama|Horror|Thriller', 'Science Fiction|Action|Thriller|Crime|Drama', 'Drama|Fantasy|Horror|Science Fiction|Thriller', 'Action|Adventure|Crime|Drama|Romance', 'Drama|Action|Music|Romance', 'Action|Thriller|Drama|Western|Crime', 'Drama|Science Fiction|Action|Adventure', 'Horror|Music', 'Action|Adventure|Animation|Fantasy|Science Fiction', 'Drama|Foreign|Horror', 'Adventure|Crime|Drama', 'Fantasy|Mystery|Thriller', 'Science Fiction|Thriller|Mystery', 'Science Fiction|Fantasy|Action|Crime', 'Romance|Animation|Family|Comedy|Adventure', 'Crime|Drama|Mystery|Thriller|Action', 'Adventure|Action|Drama|Science Fiction|Thriller', 'Fantasy|Drama|Comedy|Thriller', 'Action|Adventure|Science Fiction|Family|Fantasy', 'Action|Adventure|Drama|Thriller|Western', 'Action|Fantasy|Comedy|Science Fiction', 'Drama|Fantasy|Western', 'Drama|Horror|Science Fiction|Mystery|Thriller', 'Action|Crime|Drama|History', 'Adventure|Action|Comedy|Crime|Family', 'Adventure|Fantasy|Comedy|Science Fiction|Family', 'Action|Thriller|Mystery|Romance', 'Comedy|Horror|Romance', 'Comedy|Thriller|Crime|Drama', 'Drama|History|War|Romance', 'Foreign|Horror|Mystery', 'Romance|Drama|Crime', 'Adventure|Action|Western|Thriller|Mystery', 'Comedy|Documentary|Foreign', 'Action|Adventure|Comedy|Family|Thriller', 'Animation|Family|Comedy|Adventure|Fantasy', 'Comedy|Family|Adventure|Crime', 'Action|Crime|Fantasy|Science Fiction|Thriller', 'Romance|Horror', 'Thriller|Action|Science Fiction|Crime', 'Thriller|Action|Drama|Music|Romance', 'Comedy|Family|Fantasy|Drama', 'Horror|Thriller|War', 'Drama|Comedy|Thriller|Mystery', 'Animation|Comedy|Fantasy', 'Romance|Crime|Drama|Thriller', 'Action|Comedy|Drama|Fantasy|Science Fiction', 'Adventure|Drama|Romance|Western', 'Thriller|Comedy|Horror|Science Fiction', 'Comedy|Horror|Mystery|Thriller', 'Fantasy|Thriller|Horror', 'Adventure|Action|Family|Comedy', 'Thriller|Action|Horror|Science Fiction|Crime', 'Drama|Music|Family', 'Drama|Horror|Thriller|Crime', 'Comedy|Horror|Thriller|Crime', 'Crime|History', 'Action|Drama|History|Thriller', 'Adventure|War|Drama|History', 'Romance|Crime|Drama', 'Family|Fantasy|Science Fiction|Adventure|Comedy', 'Horror|Drama|Romance', 'Horror|Crime|Drama|Thriller', 'Crime|Family|Comedy', 'Comedy|Horror|Mystery', 'Drama|Horror|Thriller|Mystery', 'TV Movie|Horror|Mystery', 'Animation|Music', 'Family|Fantasy|Animation', 'Animation|Comedy|Drama|Family|Fantasy', 'Drama|Fantasy|Romance|Science Fiction', 'Horror|Action|Thriller|Crime', 'Fantasy|Comedy|Romance|Science Fiction', 'Drama|Thriller|Mystery|War', 'History|Drama|Music', 'Action|Comedy|Music|Family|Adventure', 'Romance|Animation|Family|Adventure|Fantasy', 'Family|Comedy|Fantasy', 'TV Movie|Adventure|Drama|Science Fiction', 'Comedy|Science Fiction|Thriller|Adventure', 'Comedy|Fantasy|Horror|Science Fiction', 'TV Movie|Comedy|Drama|Romance', 'Comedy|Thriller|Crime|Romance', 'Action|Drama|Adventure', 'Drama|History|War|Action', 'Comedy|Crime|Action', 'Drama|Crime|Music', 'Horror|Drama|Thriller|Mystery', 'Comedy|Drama|Romance|Fantasy', 'Adventure|Fantasy|Animation|Science Fiction|Family', 'Adventure|Action|Comedy|Western', 'Comedy|Drama|Romance|Music', 'Science Fiction|Comedy|Family|Romance', 'Drama|Adventure|Romance|Thriller', 'Animation|Action|Science Fiction|Family|Adventure', 'Action|Adventure|Comedy|Fantasy', 'History|Drama|Romance', 'Adventure|Comedy|Family|Fantasy|Mystery', 'Action|Adventure|Drama|Romance|Thriller', 'Action|Comedy|Drama|Romance', 'Fantasy|Animation|Horror|Comedy|Thriller', 'Comedy|Drama|Romance|Science Fiction', 'Crime|Horror|Thriller|Mystery', 'Romance|Drama|Adventure', 'Drama|Music|Romance|War', 'History|Comedy|Drama', 'Action|Crime|Foreign|Thriller', 'Drama|Romance|Family', 'Action|Adventure|Comedy|Crime|Romance', 'Drama|Family|Comedy|TV Movie', 'Horror|Family|Foreign', 'Family|Animation|Music|Drama', 'Science Fiction|Adventure|Family|Fantasy', 'Thriller|Action|Comedy|Crime|Drama', 'Science Fiction|Action|Adventure|Drama|Thriller', 'Fantasy|Animation|Drama|Family', 'Drama|History|Mystery|Thriller', 'Animation|Drama|Fantasy', 'Western|Comedy|Drama|Music', 'War|Drama|Romance', 'Horror|Action|Crime|Drama|Thriller', 'Comedy|Crime|Drama|Mystery|Romance', 'Drama|Action|Western|Romance', 'Drama|Horror|Fantasy', 'Adventure|Animation|Drama', 'Comedy|Mystery|Romance', 'TV Movie|Crime|Drama', 'Drama|Foreign|Crime', 'Adventure|Animation|Drama|Family|Music', 'Action|Thriller|Crime|Adventure', 'Mystery|Science Fiction', 'Adventure|Animation|Romance|Family', 'Adventure|Family|Science Fiction', 'History', 'Adventure|Comedy|Western|Romance|Thriller', 'Comedy|Family|Drama|Fantasy', 'Comedy|Adventure|Fantasy|Science Fiction|Action', 'Romance|Comedy|Crime', 'Thriller|Fantasy|Crime|Drama', 'Fantasy|Animation|Drama|Romance|Family', 'Crime|Drama|History|Romance', 'Comedy|Family|Fantasy|Thriller|TV Movie', 'Action|Drama|Fantasy|Horror|Thriller', 'Crime|Mystery', 'Romance|Comedy|Drama|Music', 'Music|Action|Comedy|Crime', 'Adventure|Drama|Action|History|Thriller', 'Action|Animation|Crime', 'Adventure|Action|Horror|Science Fiction', 'Drama|Thriller|Mystery|Music|Romance', 'Action|War|Science Fiction', 'Mystery|Thriller|Drama|Romance|Crime', 'Drama|Romance|Music', 'Adventure|Comedy|Family|Fantasy|Horror', 'Drama|Horror|Romance|Foreign', 'Drama|Thriller|TV Movie', 'Adventure|Fantasy|Horror|Science Fiction', 'Action|Adventure|Drama|Foreign', 'Mystery|Drama|Science Fiction', 'Crime|Drama|Romance|Foreign', 'Action|Drama|Fantasy', 'Action|Comedy|Thriller|Crime|Family', 'Foreign|Crime|Drama', 'Drama|Animation|Family|Comedy|Fantasy', 'Comedy|Fantasy|Foreign', 'Comedy|Horror|Action', 'Fantasy|Horror|Mystery', 'Fantasy|Drama|Comedy|Science Fiction|Family', 'Comedy|Horror|Action|Science Fiction', 'War|Drama|History|Action|Romance', 'Mystery|Drama|Science Fiction|Thriller', 'Adventure|Fantasy|Comedy', 'Action|Comedy|Mystery|Thriller', 'Adventure|Comedy|Drama|Family|Romance', 'Action|Adventure|Comedy|Drama|Romance', 'Drama|Western|Adventure', 'Drama|Horror|Comedy', 'Action|Comedy|Crime|Mystery|Thriller', 'Romance|Family|Animation|Fantasy|Music', 'Action|Adventure|Science Fiction|Family', 'Drama|Thriller|Crime|Adventure', 'Science Fiction|Adventure|Action|Comedy|Family', 'Comedy|Drama|Horror|Mystery|Thriller', 'Action|Comedy|War', 'Drama|Action|Comedy|Music|Romance', 'Horror|Comedy|Family', 'Action|Comedy|Family|Science Fiction', 'Mystery', 'Fantasy|Drama|Horror|Action|Comedy', 'Thriller|Horror|Comedy|Science Fiction', 'Action|Comedy|Thriller|Family', 'Action|Adventure|Drama|Mystery|Thriller', 'Fantasy|Drama|Comedy|Romance|Family', 'Fantasy|Animation|Comedy|Crime|Family', 'Comedy|Family|Science Fiction|Drama', 'Fantasy|Horror|Comedy|Science Fiction', 'Crime|Science Fiction|Thriller', 'Family|Fantasy|Science Fiction', 'Horror|Fantasy|Comedy', 'Drama|Comedy|Music|Romance|Family', 'Action|Crime|Music|Fantasy|Thriller', 'Action|Comedy|Drama|Horror|Science Fiction', 'TV Movie|Animation|Family', 'Music|Comedy|Drama|Romance|Science Fiction', 'War|History', 'Mystery|Documentary|Crime', 'Action|Adventure|Crime|Romance|Thriller', 'Thriller|Drama|Horror|Science Fiction', 'TV Movie|Animation|Family|Mystery|Comedy', 'Adventure|Thriller', 'Adventure|Family|Fantasy|Comedy|Romance', 'Crime|Drama|History|Thriller', 'Horror|Drama|Romance|Thriller', 'Thriller|Comedy|Crime|Adventure', 'Action|Fantasy|Science Fiction|Adventure|Thriller', 'Crime|Drama|Action|Thriller|Mystery', 'Adventure|Drama|Fantasy|Family|Mystery', 'Action|Comedy|Drama|Science Fiction', 'Horror|Comedy|Action|Fantasy|Science Fiction', 'Action|Adventure|Family', 'Animation|Science Fiction|Fantasy|Adventure', 'Drama|Crime|Romance', 'Music|Romance|Family', 'Comedy|Thriller|Music|Romance', 'TV Movie|Drama|Family', 'Science Fiction|Mystery|Adventure', 'Adventure|Science Fiction|Mystery', 'Animation|Fantasy|Music', 'Drama|Family|Music', 'Romance|Crime|Thriller|Drama', 'Action|Adventure|Romance', 'Drama|Horror|History', 'Comedy|Fantasy|Horror|Music|Thriller', 'Action|Crime|Drama|Thriller|Western', 'Action|Adventure|Drama|History|TV Movie', 'Adventure|Family|Romance', 'Horror|Thriller|Adventure', 'Comedy|Horror|Music|Science Fiction', 'Thriller|Horror|War', 'Thriller|Western|Mystery', 'Science Fiction|Horror|Mystery', 'History|Drama|Thriller', 'Action|Crime|Western', 'Action|Animation|Comedy|Crime|Drama', 'Adventure|Drama|History|War', 'Western|Action|Adventure|Drama', 'Comedy|Music|Family', 'Fantasy|Drama|Comedy|Romance|Foreign', 'Thriller|Comedy|Horror|Mystery', 'Drama|Mystery|Horror', 'Drama|Comedy|War', 'Comedy|Music|Family|Fantasy', 'Drama|Thriller|Crime|Mystery|Comedy', 'Animation|Comedy|Family|Fantasy|Science Fiction', 'Thriller|Action|War', 'Western|Action', 'Music|Comedy|Crime', 'Adventure|Fantasy|Animation|Comedy|Family', 'Horror|Action|Mystery|Thriller', 'Romance|Drama|War', 'Mystery|Comedy|Drama', 'Adventure|Action|Comedy|Science Fiction|Family', 'Adventure|Drama|Western', 'Science Fiction|Action|Adventure|Comedy|Family', 'Adventure|Fantasy|Horror', 'Action|Adventure|Crime|Science Fiction|Thriller', 'Adventure|Animation|Family|Comedy|Fantasy', 'War|Action|Science Fiction', 'Action|Thriller|Science Fiction|Crime|Horror', 'Action|Science Fiction|Crime', 'Adventure|Animation|Crime|Family|Fantasy', 'Thriller|Drama|Romance|Crime', 'Action|Drama|Fantasy|Horror', 'Drama|Action|Comedy|Crime|Thriller', 'Romance|Action|Adventure|Western|Drama', 'Action|Comedy|Thriller|Crime|Mystery', 'Drama|War|Action', 'TV Movie|Horror|Thriller', 'Music|Crime|Drama', 'Drama|Crime|Mystery|Comedy', 'Western|Action|Adventure', 'Action|Drama|History|Romance|War', 'Fantasy|Science Fiction|Family', 'Fantasy|Drama|Action|Foreign|Adventure', 'Thriller|Adventure|Fantasy|Science Fiction|Romance', 'Thriller|Music|Comedy|Crime', 'Crime|Western', 'Action|Drama|Romance|Western', 'Action|Adventure|Drama|History|Western', 'Action|Drama|Foreign|History|War', 'Adventure|Action|Romance|Science Fiction', 'Adventure|Drama|Action|Thriller|War', 'Comedy|Crime|Romance|Thriller', 'Thriller|Mystery|Horror', 'Drama|Action|Comedy|Music|Family', 'Action|Foreign|Fantasy', 'Horror|Mystery|Thriller|Crime', 'Romance|Fantasy|Drama|Comedy', 'Adventure|Action|Thriller|Crime|Mystery', 'Action|Drama|Thriller|Crime|Mystery', 'Comedy|Crime|Romance|Drama', 'Crime|Action|Mystery|Thriller', 'Drama|Music|Mystery', 'Comedy|Science Fiction|Family', 'Fantasy|Comedy|Drama|Romance', 'History|War|Action|Drama', 'Action|Adventure|History|War', 'Mystery|Drama|Comedy', 'Western|Drama|Comedy|Romance', 'Animation|Science Fiction|Family', 'Adventure|Action|Comedy|Foreign', 'Comedy|History|Horror', 'Drama|Action|Adventure|Crime|Thriller', 'Adventure|Fantasy|Comedy|Family|Music', 'Comedy|Mystery|Romance|Thriller', 'Comedy|Adventure|Action|Crime', 'Adventure|Drama|History|Thriller|War', 'Adventure|Drama|Foreign|Thriller', 'Adventure|Comedy|History|Romance', 'Comedy|Romance|Western', 'Drama|Family|Animation|Adventure', 'Adventure|Drama|Action|Romance|Family', 'Family|Science Fiction|Adventure', 'Action|Comedy|Drama|War', 'Horror|Science Fiction|Fantasy', 'Drama|Music|Mystery|Romance', 'Romance|Comedy|Thriller', 'Drama|Action|Crime|Mystery', 'Horror|Thriller|Crime|Drama', 'Romance|Science Fiction|Horror|Action|Crime', 'Mystery|Drama|Horror|Science Fiction', 'Drama|Family|Fantasy|Science Fiction', 'Comedy|Horror|Music', 'Animation|Comedy|Drama|War', 'Fantasy|Drama|Music|Romance', 'Drama|Romance|History', 'Science Fiction|Comedy|Romance', 'Action|Adventure|Drama|Family|Fantasy', 'Action|Thriller|Drama|Crime', 'Action|Adventure|Comedy|Drama|War', 'History|Action|Drama|Adventure|War', 'TV Movie|Animation|Family|Fantasy', 'War|Comedy|Drama', 'Music|Drama|Crime', 'Adventure|Comedy|Crime|Mystery|Romance', 'Action|Drama|Foreign|History', 'Crime|Fantasy|Science Fiction|Thriller', 'Animation|Family|Comedy|TV Movie', 'Action|Drama|History|Thriller|War', 'Action|Adventure|War|Western', 'Drama|Horror|Thriller|Science Fiction|Foreign', 'History|Drama|Western|Crime', 'Adventure|Western', 'Family|Animation|TV Movie', 'Drama|Action|Comedy|Western|Music', 'Thriller|Fantasy|Action|Science Fiction|Western', 'Action|Comedy|Drama|Romance|War', 'Action|Adventure|Comedy|Fantasy|Science Fiction', 'Drama|Animation|Adventure', 'Action|Adventure|War|Thriller', 'Adventure|Family|Fantasy|Music|Science Fiction', 'Horror|Drama|Thriller|Science Fiction', 'Horror|Mystery|TV Movie|Thriller', 'Thriller|Adventure|History|Drama', 'Family|Adventure|Comedy|Science Fiction|Crime', 'Comedy|Drama|Foreign|Thriller', 'Action|Adventure|Drama|War|Romance', 'War|Action|Adventure|Drama', 'Adventure|Drama|War|History|Action', 'Adventure|Comedy|Fantasy|Science Fiction', 'Adventure|Drama|Action|Family|Foreign', 'Comedy|Family|Mystery|Romance', 'Mystery|Science Fiction|Thriller|Drama']\n"
     ]
    }
   ],
   "source": [
    "print(list(df_mdb['genres'].unique()))"
   ]
  },
  {
   "cell_type": "code",
   "execution_count": 30,
   "metadata": {},
   "outputs": [
    {
     "data": {
      "text/plain": [
       "5067"
      ]
     },
     "execution_count": 30,
     "metadata": {},
     "output_type": "execute_result"
    }
   ],
   "source": [
    "df_mdb['director'].nunique()"
   ]
  },
  {
   "cell_type": "markdown",
   "metadata": {},
   "source": [
    "# Eploratory analysis\n"
   ]
  },
  {
   "cell_type": "code",
   "execution_count": 35,
   "metadata": {},
   "outputs": [
    {
     "data": {
      "text/html": [
       "<div>\n",
       "<style scoped>\n",
       "    .dataframe tbody tr th:only-of-type {\n",
       "        vertical-align: middle;\n",
       "    }\n",
       "\n",
       "    .dataframe tbody tr th {\n",
       "        vertical-align: top;\n",
       "    }\n",
       "\n",
       "    .dataframe thead th {\n",
       "        text-align: right;\n",
       "    }\n",
       "</style>\n",
       "<table border=\"1\" class=\"dataframe\">\n",
       "  <thead>\n",
       "    <tr style=\"text-align: right;\">\n",
       "      <th></th>\n",
       "      <th>popularity</th>\n",
       "      <th>budget</th>\n",
       "      <th>revenue</th>\n",
       "      <th>runtime</th>\n",
       "      <th>vote_count</th>\n",
       "      <th>vote_average</th>\n",
       "      <th>release_year</th>\n",
       "      <th>budget_adj</th>\n",
       "      <th>revenue_adj</th>\n",
       "    </tr>\n",
       "  </thead>\n",
       "  <tbody>\n",
       "    <tr>\n",
       "      <th>count</th>\n",
       "      <td>10866.000000</td>\n",
       "      <td>1.086600e+04</td>\n",
       "      <td>1.086600e+04</td>\n",
       "      <td>10866.000000</td>\n",
       "      <td>10866.000000</td>\n",
       "      <td>10866.000000</td>\n",
       "      <td>10866.000000</td>\n",
       "      <td>1.086600e+04</td>\n",
       "      <td>1.086600e+04</td>\n",
       "    </tr>\n",
       "    <tr>\n",
       "      <th>mean</th>\n",
       "      <td>0.646441</td>\n",
       "      <td>1.462570e+07</td>\n",
       "      <td>3.982332e+07</td>\n",
       "      <td>102.070863</td>\n",
       "      <td>217.389748</td>\n",
       "      <td>5.974922</td>\n",
       "      <td>2001.322658</td>\n",
       "      <td>1.755104e+07</td>\n",
       "      <td>5.136436e+07</td>\n",
       "    </tr>\n",
       "    <tr>\n",
       "      <th>std</th>\n",
       "      <td>1.000185</td>\n",
       "      <td>3.091321e+07</td>\n",
       "      <td>1.170035e+08</td>\n",
       "      <td>31.381405</td>\n",
       "      <td>575.619058</td>\n",
       "      <td>0.935142</td>\n",
       "      <td>12.812941</td>\n",
       "      <td>3.430616e+07</td>\n",
       "      <td>1.446325e+08</td>\n",
       "    </tr>\n",
       "    <tr>\n",
       "      <th>min</th>\n",
       "      <td>0.000065</td>\n",
       "      <td>0.000000e+00</td>\n",
       "      <td>0.000000e+00</td>\n",
       "      <td>0.000000</td>\n",
       "      <td>10.000000</td>\n",
       "      <td>1.500000</td>\n",
       "      <td>1960.000000</td>\n",
       "      <td>0.000000e+00</td>\n",
       "      <td>0.000000e+00</td>\n",
       "    </tr>\n",
       "    <tr>\n",
       "      <th>25%</th>\n",
       "      <td>0.207583</td>\n",
       "      <td>0.000000e+00</td>\n",
       "      <td>0.000000e+00</td>\n",
       "      <td>90.000000</td>\n",
       "      <td>17.000000</td>\n",
       "      <td>5.400000</td>\n",
       "      <td>1995.000000</td>\n",
       "      <td>0.000000e+00</td>\n",
       "      <td>0.000000e+00</td>\n",
       "    </tr>\n",
       "    <tr>\n",
       "      <th>50%</th>\n",
       "      <td>0.383856</td>\n",
       "      <td>0.000000e+00</td>\n",
       "      <td>0.000000e+00</td>\n",
       "      <td>99.000000</td>\n",
       "      <td>38.000000</td>\n",
       "      <td>6.000000</td>\n",
       "      <td>2006.000000</td>\n",
       "      <td>0.000000e+00</td>\n",
       "      <td>0.000000e+00</td>\n",
       "    </tr>\n",
       "    <tr>\n",
       "      <th>75%</th>\n",
       "      <td>0.713817</td>\n",
       "      <td>1.500000e+07</td>\n",
       "      <td>2.400000e+07</td>\n",
       "      <td>111.000000</td>\n",
       "      <td>145.750000</td>\n",
       "      <td>6.600000</td>\n",
       "      <td>2011.000000</td>\n",
       "      <td>2.085325e+07</td>\n",
       "      <td>3.369710e+07</td>\n",
       "    </tr>\n",
       "    <tr>\n",
       "      <th>max</th>\n",
       "      <td>32.985763</td>\n",
       "      <td>4.250000e+08</td>\n",
       "      <td>2.781506e+09</td>\n",
       "      <td>900.000000</td>\n",
       "      <td>9767.000000</td>\n",
       "      <td>9.200000</td>\n",
       "      <td>2015.000000</td>\n",
       "      <td>4.250000e+08</td>\n",
       "      <td>2.827124e+09</td>\n",
       "    </tr>\n",
       "  </tbody>\n",
       "</table>\n",
       "</div>"
      ],
      "text/plain": [
       "         popularity        budget       revenue       runtime    vote_count  \\\n",
       "count  10866.000000  1.086600e+04  1.086600e+04  10866.000000  10866.000000   \n",
       "mean       0.646441  1.462570e+07  3.982332e+07    102.070863    217.389748   \n",
       "std        1.000185  3.091321e+07  1.170035e+08     31.381405    575.619058   \n",
       "min        0.000065  0.000000e+00  0.000000e+00      0.000000     10.000000   \n",
       "25%        0.207583  0.000000e+00  0.000000e+00     90.000000     17.000000   \n",
       "50%        0.383856  0.000000e+00  0.000000e+00     99.000000     38.000000   \n",
       "75%        0.713817  1.500000e+07  2.400000e+07    111.000000    145.750000   \n",
       "max       32.985763  4.250000e+08  2.781506e+09    900.000000   9767.000000   \n",
       "\n",
       "       vote_average  release_year    budget_adj   revenue_adj  \n",
       "count  10866.000000  10866.000000  1.086600e+04  1.086600e+04  \n",
       "mean       5.974922   2001.322658  1.755104e+07  5.136436e+07  \n",
       "std        0.935142     12.812941  3.430616e+07  1.446325e+08  \n",
       "min        1.500000   1960.000000  0.000000e+00  0.000000e+00  \n",
       "25%        5.400000   1995.000000  0.000000e+00  0.000000e+00  \n",
       "50%        6.000000   2006.000000  0.000000e+00  0.000000e+00  \n",
       "75%        6.600000   2011.000000  2.085325e+07  3.369710e+07  \n",
       "max        9.200000   2015.000000  4.250000e+08  2.827124e+09  "
      ]
     },
     "execution_count": 35,
     "metadata": {},
     "output_type": "execute_result"
    }
   ],
   "source": [
    "# full data statistical describtion \n",
    "df_mdb.describe()"
   ]
  },
  {
   "cell_type": "markdown",
   "metadata": {},
   "source": [
    "### which movies are the high revuene generating movies based on the adjusted renvenue  \n"
   ]
  },
  {
   "cell_type": "code",
   "execution_count": 113,
   "metadata": {},
   "outputs": [
    {
     "data": {
      "text/plain": [
       "51364363.25325093"
      ]
     },
     "execution_count": 113,
     "metadata": {},
     "output_type": "execute_result"
    }
   ],
   "source": [
    "# describe the adjusted revenue columns to get the percentage breakdown \n",
    "df_mdb['revenue_adj'].describe()"
   ]
  },
  {
   "cell_type": "code",
   "execution_count": 116,
   "metadata": {},
   "outputs": [
    {
     "data": {
      "text/plain": [
       "popularity      2261\n",
       "budget          2261\n",
       "revenue         2261\n",
       "cast            2261\n",
       "director        2261\n",
       "runtime         2261\n",
       "genres          2261\n",
       "release_date    2261\n",
       "vote_count      2261\n",
       "vote_average    2261\n",
       "release_year    2261\n",
       "budget_adj      2261\n",
       "revenue_adj     2261\n",
       "dtype: int64"
      ]
     },
     "execution_count": 116,
     "metadata": {},
     "output_type": "execute_result"
    }
   ],
   "source": [
    "# count number of movies with adjusted revenue above average\n",
    "df_mdb.query('revenue_adj >= 51364363.25325093').count()"
   ]
  },
  {
   "cell_type": "code",
   "execution_count": 117,
   "metadata": {},
   "outputs": [],
   "source": [
    "df_top_adj_revenue_movies = df_mdb.query('revenue_adj >= 51364363.25325093')"
   ]
  },
  {
   "cell_type": "code",
   "execution_count": 118,
   "metadata": {},
   "outputs": [
    {
     "data": {
      "text/plain": [
       "count    2.261000e+03\n",
       "mean     2.282261e+08\n",
       "std      2.461158e+08\n",
       "min      5.152769e+07\n",
       "25%      8.361457e+07\n",
       "50%      1.421194e+08\n",
       "75%      2.682159e+08\n",
       "max      2.827124e+09\n",
       "Name: revenue_adj, dtype: float64"
      ]
     },
     "execution_count": 118,
     "metadata": {},
     "output_type": "execute_result"
    }
   ],
   "source": [
    "df_top_adj_revenue_movies['revenue_adj'].describe()"
   ]
  },
  {
   "cell_type": "code",
   "execution_count": 119,
   "metadata": {},
   "outputs": [
    {
     "data": {
      "text/plain": [
       "Index(['Steven Spielberg', 'James Cameron', 'Peter Jackson', 'George Lucas',\n",
       "       'Robert Zemeckis'],\n",
       "      dtype='object', name='director')"
      ]
     },
     "execution_count": 119,
     "metadata": {},
     "output_type": "execute_result"
    }
   ],
   "source": [
    "# top 5 directors based on their movie revenue for high revenue generating movies\n",
    "top_5_directors = df_top_adj_revenue_movies.groupby('director')['revenue_adj'].sum().sort_values(ascending = False).head(5)\n",
    "top_5_directors.index"
   ]
  },
  {
   "cell_type": "code",
   "execution_count": 120,
   "metadata": {},
   "outputs": [
    {
     "data": {
      "text/plain": [
       "<matplotlib.axes._subplots.AxesSubplot at 0x1cf605082c8>"
      ]
     },
     "execution_count": 120,
     "metadata": {},
     "output_type": "execute_result"
    },
    {
     "data": {
      "image/png": "[encoded data removed]",
      "text/plain": [
       "<Figure size 432x288 with 1 Axes>"
      ]
     },
     "metadata": {
      "needs_background": "light"
     },
     "output_type": "display_data"
    }
   ],
   "source": [
    "top_5_directors.plot(kind = 'bar')"
   ]
  },
  {
   "cell_type": "code",
   "execution_count": 121,
   "metadata": {},
   "outputs": [],
   "source": [
    "# movie count for the director with move is 75% category\n",
    "directors_movie_count = df_top_adj_revenue_movies.groupby(['director'])['revenue_adj'].count().sort_values(ascending = False)"
   ]
  },
  {
   "cell_type": "code",
   "execution_count": 124,
   "metadata": {},
   "outputs": [
    {
     "data": {
      "text/plain": [
       "director\n",
       "Steven Spielberg    27\n",
       "Clint Eastwood      24\n",
       "Ridley Scott        17\n",
       "Ron Howard          17\n",
       "Tim Burton          14\n",
       "Name: revenue_adj, dtype: int64"
      ]
     },
     "execution_count": 124,
     "metadata": {},
     "output_type": "execute_result"
    }
   ],
   "source": [
    "top_5_directors_movie_coun = directors_movie_count.head(5)"
   ]
  },
  {
   "cell_type": "code",
   "execution_count": 123,
   "metadata": {},
   "outputs": [
    {
     "data": {
      "text/plain": [
       "<matplotlib.axes._subplots.AxesSubplot at 0x1cf60565888>"
      ]
     },
     "execution_count": 123,
     "metadata": {},
     "output_type": "execute_result"
    },
    {
     "data": {
      "image/png": "[encoded data removed]",
      "text/plain": [
       "<Figure size 432x288 with 1 Axes>"
      ]
     },
     "metadata": {
      "needs_background": "light"
     },
     "output_type": "display_data"
    }
   ],
   "source": [
    "top_5_directors_movie_count.plot(kind = 'bar')"
   ]
  },
  {
   "cell_type": "code",
   "execution_count": 190,
   "metadata": {},
   "outputs": [
    {
     "data": {
      "text/plain": [
       "Index(['Steven Spielberg', 'Clint Eastwood', 'Ridley Scott', 'Ron Howard',\n",
       "       'Tim Burton'],\n",
       "      dtype='object', name='director')"
      ]
     },
     "execution_count": 190,
     "metadata": {},
     "output_type": "execute_result"
    }
   ],
   "source": [
    "directors_movie_count.head(5).index"
   ]
  },
  {
   "cell_type": "code",
   "execution_count": 185,
   "metadata": {},
   "outputs": [],
   "source": [
    "# top revenue directors movie count\n",
    "\n",
    "top5_revenue_director_movie_count = directors_movie_count.loc[['Steven Spielberg', 'James Cameron', 'Peter Jackson', 'George Lucas',\n",
    "       'Robert Zemeckis']]"
   ]
  },
  {
   "cell_type": "code",
   "execution_count": 189,
   "metadata": {},
   "outputs": [
    {
     "data": {
      "text/plain": [
       "Index(['Steven Spielberg', 'James Cameron', 'Peter Jackson', 'George Lucas',\n",
       "       'Robert Zemeckis'],\n",
       "      dtype='object', name='director')"
      ]
     },
     "execution_count": 189,
     "metadata": {},
     "output_type": "execute_result"
    }
   ],
   "source": [
    "top5_revenue_director_movie_count.index"
   ]
  },
  {
   "cell_type": "code",
   "execution_count": 187,
   "metadata": {},
   "outputs": [
    {
     "data": {
      "text/plain": [
       "<matplotlib.axes._subplots.AxesSubplot at 0x1cf63311108>"
      ]
     },
     "execution_count": 187,
     "metadata": {},
     "output_type": "execute_result"
    },
    {
     "data": {
      "image/png": "[encoded data removed]",
      "text/plain": [
       "<Figure size 432x288 with 1 Axes>"
      ]
     },
     "metadata": {
      "needs_background": "light"
     },
     "output_type": "display_data"
    }
   ],
   "source": [
    "top5_revenue_director_movie_count.plot(kind = 'bar')"
   ]
  },
  {
   "cell_type": "code",
   "execution_count": 188,
   "metadata": {},
   "outputs": [
    {
     "data": {
      "text/plain": [
       "<matplotlib.axes._subplots.AxesSubplot at 0x1cf6336a448>"
      ]
     },
     "execution_count": 188,
     "metadata": {},
     "output_type": "execute_result"
    },
    {
     "data": {
      "image/png": "[encoded data removed]",
      "text/plain": [
       "<Figure size 432x288 with 1 Axes>"
      ]
     },
     "metadata": {
      "needs_background": "light"
     },
     "output_type": "display_data"
    }
   ],
   "source": [
    "top_5_directors.plot(kind = 'bar')"
   ]
  },
  {
   "cell_type": "markdown",
   "metadata": {},
   "source": [
    "Considering movies with revenue above the average adjusted revenue from the database. The top 5 performing director in terms of their cummulative revenue for all their movies with revenue above the avaerge revenue are 'Steven Spielberg', 'James Cameron', 'Peter Jackson', 'George Lucas', and 'Robert Zemeckis'.\n",
    "Top 5 directors leading the chart in terms of movie count with revenue above average adjested revenue are 'Steven Spielberg', 'Clint Eastwood', 'Ridley Scott', 'Ron Howard' and 'Tim Burton'.\n",
    "\n",
    "It will be save to look out for 'Steven Spielberg' to direct a movie for a high revenue returns on the movie production.\n",
    "\n",
    "limitations\n",
    "- the cast used for the high revenue movies were not consider however, revenue on a movie is also impacted by the cast as they drive the popularity of a movie  which also may impact the revenue it may generate.\n",
    " - \n"
   ]
  },
  {
   "cell_type": "code",
   "execution_count": 195,
   "metadata": {},
   "outputs": [],
   "source": [
    "ff = pd.DataFrame(top_5_directors)"
   ]
  },
  {
   "cell_type": "code",
   "execution_count": 196,
   "metadata": {},
   "outputs": [],
   "source": [
    "rr = pd.DataFrame(top5_revenue_director_movie_count)"
   ]
  },
  {
   "cell_type": "code",
   "execution_count": 201,
   "metadata": {},
   "outputs": [],
   "source": [
    "both = ff.merge(rr, on = rr.index)"
   ]
  },
  {
   "cell_type": "code",
   "execution_count": 202,
   "metadata": {},
   "outputs": [
    {
     "data": {
      "text/html": [
       "<div>\n",
       "<style scoped>\n",
       "    .dataframe tbody tr th:only-of-type {\n",
       "        vertical-align: middle;\n",
       "    }\n",
       "\n",
       "    .dataframe tbody tr th {\n",
       "        vertical-align: top;\n",
       "    }\n",
       "\n",
       "    .dataframe thead th {\n",
       "        text-align: right;\n",
       "    }\n",
       "</style>\n",
       "<table border=\"1\" class=\"dataframe\">\n",
       "  <thead>\n",
       "    <tr style=\"text-align: right;\">\n",
       "      <th></th>\n",
       "      <th>key_0</th>\n",
       "      <th>revenue_adj_x</th>\n",
       "      <th>revenue_adj_y</th>\n",
       "    </tr>\n",
       "  </thead>\n",
       "  <tbody>\n",
       "    <tr>\n",
       "      <th>0</th>\n",
       "      <td>Steven Spielberg</td>\n",
       "      <td>1.520245e+10</td>\n",
       "      <td>27</td>\n",
       "    </tr>\n",
       "    <tr>\n",
       "      <th>1</th>\n",
       "      <td>James Cameron</td>\n",
       "      <td>7.307021e+09</td>\n",
       "      <td>7</td>\n",
       "    </tr>\n",
       "    <tr>\n",
       "      <th>2</th>\n",
       "      <td>Peter Jackson</td>\n",
       "      <td>6.974169e+09</td>\n",
       "      <td>8</td>\n",
       "    </tr>\n",
       "    <tr>\n",
       "      <th>3</th>\n",
       "      <td>George Lucas</td>\n",
       "      <td>6.300795e+09</td>\n",
       "      <td>5</td>\n",
       "    </tr>\n",
       "    <tr>\n",
       "      <th>4</th>\n",
       "      <td>Robert Zemeckis</td>\n",
       "      <td>5.624649e+09</td>\n",
       "      <td>14</td>\n",
       "    </tr>\n",
       "  </tbody>\n",
       "</table>\n",
       "</div>"
      ],
      "text/plain": [
       "              key_0  revenue_adj_x  revenue_adj_y\n",
       "0  Steven Spielberg   1.520245e+10             27\n",
       "1     James Cameron   7.307021e+09              7\n",
       "2     Peter Jackson   6.974169e+09              8\n",
       "3      George Lucas   6.300795e+09              5\n",
       "4   Robert Zemeckis   5.624649e+09             14"
      ]
     },
     "execution_count": 202,
     "metadata": {},
     "output_type": "execute_result"
    }
   ],
   "source": [
    "both"
   ]
  },
  {
   "cell_type": "code",
   "execution_count": 199,
   "metadata": {},
   "outputs": [
    {
     "data": {
      "text/html": [
       "<div>\n",
       "<style scoped>\n",
       "    .dataframe tbody tr th:only-of-type {\n",
       "        vertical-align: middle;\n",
       "    }\n",
       "\n",
       "    .dataframe tbody tr th {\n",
       "        vertical-align: top;\n",
       "    }\n",
       "\n",
       "    .dataframe thead th {\n",
       "        text-align: right;\n",
       "    }\n",
       "</style>\n",
       "<table border=\"1\" class=\"dataframe\">\n",
       "  <thead>\n",
       "    <tr style=\"text-align: right;\">\n",
       "      <th></th>\n",
       "      <th>revenue_adj_x</th>\n",
       "      <th>revenue_adj_y</th>\n",
       "    </tr>\n",
       "    <tr>\n",
       "      <th>key_0</th>\n",
       "      <th></th>\n",
       "      <th></th>\n",
       "    </tr>\n",
       "  </thead>\n",
       "  <tbody>\n",
       "    <tr>\n",
       "      <th>Steven Spielberg</th>\n",
       "      <td>1.520245e+10</td>\n",
       "      <td>27</td>\n",
       "    </tr>\n",
       "    <tr>\n",
       "      <th>James Cameron</th>\n",
       "      <td>7.307021e+09</td>\n",
       "      <td>7</td>\n",
       "    </tr>\n",
       "    <tr>\n",
       "      <th>Peter Jackson</th>\n",
       "      <td>6.974169e+09</td>\n",
       "      <td>8</td>\n",
       "    </tr>\n",
       "    <tr>\n",
       "      <th>George Lucas</th>\n",
       "      <td>6.300795e+09</td>\n",
       "      <td>5</td>\n",
       "    </tr>\n",
       "    <tr>\n",
       "      <th>Robert Zemeckis</th>\n",
       "      <td>5.624649e+09</td>\n",
       "      <td>14</td>\n",
       "    </tr>\n",
       "  </tbody>\n",
       "</table>\n",
       "</div>"
      ],
      "text/plain": [
       "                  revenue_adj_x  revenue_adj_y\n",
       "key_0                                         \n",
       "Steven Spielberg   1.520245e+10             27\n",
       "James Cameron      7.307021e+09              7\n",
       "Peter Jackson      6.974169e+09              8\n",
       "George Lucas       6.300795e+09              5\n",
       "Robert Zemeckis    5.624649e+09             14"
      ]
     },
     "execution_count": 199,
     "metadata": {},
     "output_type": "execute_result"
    }
   ],
   "source": [
    "both.set_index('key_0')"
   ]
  },
  {
   "cell_type": "code",
   "execution_count": 208,
   "metadata": {},
   "outputs": [
    {
     "data": {
      "text/plain": [
       "Index(['popularity', 'budget', 'revenue', 'cast', 'director', 'runtime',\n",
       "       'genres', 'release_date', 'vote_count', 'vote_average', 'release_year',\n",
       "       'budget_adj', 'revenue_adj'],\n",
       "      dtype='object')"
      ]
     },
     "execution_count": 208,
     "metadata": {},
     "output_type": "execute_result"
    }
   ],
   "source": [
    "df_mdb.columns"
   ]
  },
  {
   "cell_type": "code",
   "execution_count": 218,
   "metadata": {},
   "outputs": [
    {
     "data": {
      "image/png": "[encoded data removed]",
      "text/plain": [
       "<Figure size 432x288 with 1 Axes>"
      ]
     },
     "metadata": {
      "needs_background": "light"
     },
     "output_type": "display_data"
    }
   ],
   "source": [
    "plt.scatter(y = df_mdb['revenue_adj'], x = df_mdb['popularity'] )\n",
    "plt.xlabel('Movie Popularity')\n",
    "plt.ylabel('Adjusted Revenue')\n",
    "plt.title('Scatter plot of Movie Adjusted Revenue against Movie Popularity \\n')\n",
    "plt.show()"
   ]
  },
  {
   "cell_type": "markdown",
   "metadata": {},
   "source": [
    "From the scatter plot of Movie Adjusted Revenue against Movie Popularity there is no distinct correlation. The revenue generated from a movie can not be inferred from the movie populairty."
   ]
  },
  {
   "cell_type": "code",
   "execution_count": 221,
   "metadata": {},
   "outputs": [
    {
     "data": {
      "image/png": "[encoded data removed]",
      "text/plain": [
       "<Figure size 432x288 with 1 Axes>"
      ]
     },
     "metadata": {
      "needs_background": "light"
     },
     "output_type": "display_data"
    }
   ],
   "source": [
    "plt.scatter(y = df_mdb['revenue_adj'], x = df_mdb['vote_average'], color = 'orange')\n",
    "plt.xlabel('Movie Average Vote')\n",
    "plt.ylabel('Adjusted Revenue')\n",
    "plt.title('Scatter plot of Movie Adjusted Revenue against Movie Average Vote \\n')\n",
    "plt.show()"
   ]
  },
  {
   "cell_type": "markdown",
   "metadata": {},
   "source": [
    ">>From the Scatter plot of Movie Adjusted Revenue against Movie Average Vote a quick glance may show that higher movie vote average may give a high revenue returns. This is not certain as a deep dive into the scatter plot shows movies with very high vote average having extremly low adjusted revenue."
   ]
  },
  {
   "cell_type": "code",
   "execution_count": 222,
   "metadata": {},
   "outputs": [
    {
     "data": {
      "image/png": "[encoded data removed]",
      "text/plain": [
       "<Figure size 432x288 with 1 Axes>"
      ]
     },
     "metadata": {
      "needs_background": "light"
     },
     "output_type": "display_data"
    }
   ],
   "source": [
    "plt.scatter(y = df_mdb['revenue_adj'], x = df_mdb['runtime'], color = 'green')\n",
    "plt.xlabel('Movie Runtime')\n",
    "plt.ylabel('Adjusted Revenue')\n",
    "plt.title('Scatter plot of Movie Adjusted Revenue against Movie Runtime \\n')\n",
    "plt.show()"
   ]
  },
  {
   "cell_type": "markdown",
   "metadata": {},
   "source": [
    ">>There is no correlation of the movie runtime having impact on the revenue generated by the movie based on the scatter plot of adjusted revenue against runtime"
   ]
  },
  {
   "cell_type": "code",
   "execution_count": 224,
   "metadata": {},
   "outputs": [
    {
     "data": {
      "image/png": "[encoded data removed]",
      "text/plain": [
       "<Figure size 432x288 with 1 Axes>"
      ]
     },
     "metadata": {
      "needs_background": "light"
     },
     "output_type": "display_data"
    }
   ],
   "source": [
    "sns.scatterplot(data=df_mdb, y = df_mdb['revenue_adj'], x = df_mdb['runtime'],)\n",
    "plt.xlabel('Movie Runtime')\n",
    "plt.ylabel('Adjusted Revenue')\n",
    "plt.title('Scatter plot of Movie Adjusted Revenue against Movie Runtime \\n')\n",
    "plt.show()"
   ]
  },
  {
   "cell_type": "markdown",
   "metadata": {},
   "source": [
    "## Movie reveunue against genres "
   ]
  },
  {
   "cell_type": "code",
   "execution_count": 226,
   "metadata": {},
   "outputs": [
    {
     "data": {
      "text/plain": [
       "0        Action|Adventure|Science Fiction|Thriller\n",
       "1        Action|Adventure|Science Fiction|Thriller\n",
       "2               Adventure|Science Fiction|Thriller\n",
       "3         Action|Adventure|Science Fiction|Fantasy\n",
       "4                            Action|Crime|Thriller\n",
       "                           ...                    \n",
       "10861                                  Documentary\n",
       "10862                       Action|Adventure|Drama\n",
       "10863                               Mystery|Comedy\n",
       "10864                                Action|Comedy\n",
       "10865                                       Horror\n",
       "Name: genres, Length: 10866, dtype: object"
      ]
     },
     "execution_count": 226,
     "metadata": {},
     "output_type": "execute_result"
    }
   ],
   "source": [
    "df_mdb['genres']"
   ]
  },
  {
   "cell_type": "code",
   "execution_count": 227,
   "metadata": {},
   "outputs": [
    {
     "data": {
      "text/plain": [
       "genres\n",
       "Action                                      63\n",
       "Action|Adventure                            15\n",
       "Action|Adventure|Animation                   4\n",
       "Action|Adventure|Animation|Comedy|Drama      1\n",
       "Action|Adventure|Animation|Comedy|Family     1\n",
       "                                            ..\n",
       "Western|Drama|Crime|Romance                  1\n",
       "Western|History                              1\n",
       "Western|History|War                          1\n",
       "Western|Horror|Thriller                      1\n",
       "Western|Thriller                             1\n",
       "Name: revenue_adj, Length: 2039, dtype: int64"
      ]
     },
     "execution_count": 227,
     "metadata": {},
     "output_type": "execute_result"
    }
   ],
   "source": [
    "df_mdb.groupby('genres')['revenue_adj'].count()"
   ]
  },
  {
   "cell_type": "code",
   "execution_count": 230,
   "metadata": {},
   "outputs": [],
   "source": [
    "genre_by_revenue = df_mdb.groupby('genres')['revenue_adj'].sum().sort_values(ascending = False)"
   ]
  },
  {
   "cell_type": "code",
   "execution_count": 231,
   "metadata": {},
   "outputs": [],
   "source": [
    "top_5_genre = genre_by_revenue.head(5)"
   ]
  },
  {
   "cell_type": "code",
   "execution_count": 236,
   "metadata": {},
   "outputs": [
    {
     "data": {
      "text/html": [
       "<div>\n",
       "<style scoped>\n",
       "    .dataframe tbody tr th:only-of-type {\n",
       "        vertical-align: middle;\n",
       "    }\n",
       "\n",
       "    .dataframe tbody tr th {\n",
       "        vertical-align: top;\n",
       "    }\n",
       "\n",
       "    .dataframe thead th {\n",
       "        text-align: right;\n",
       "    }\n",
       "</style>\n",
       "<table border=\"1\" class=\"dataframe\">\n",
       "  <thead>\n",
       "    <tr style=\"text-align: right;\">\n",
       "      <th></th>\n",
       "      <th>revenue_adj</th>\n",
       "    </tr>\n",
       "    <tr>\n",
       "      <th>genres</th>\n",
       "      <th></th>\n",
       "    </tr>\n",
       "  </thead>\n",
       "  <tbody>\n",
       "    <tr>\n",
       "      <th>Comedy</th>\n",
       "      <td>2.485195e+10</td>\n",
       "    </tr>\n",
       "    <tr>\n",
       "      <th>Drama</th>\n",
       "      <td>2.090257e+10</td>\n",
       "    </tr>\n",
       "    <tr>\n",
       "      <th>Comedy|Romance</th>\n",
       "      <td>1.453401e+10</td>\n",
       "    </tr>\n",
       "    <tr>\n",
       "      <th>Adventure|Action|Thriller</th>\n",
       "      <td>1.088981e+10</td>\n",
       "    </tr>\n",
       "    <tr>\n",
       "      <th>Comedy|Drama|Romance</th>\n",
       "      <td>1.057819e+10</td>\n",
       "    </tr>\n",
       "  </tbody>\n",
       "</table>\n",
       "</div>"
      ],
      "text/plain": [
       "                            revenue_adj\n",
       "genres                                 \n",
       "Comedy                     2.485195e+10\n",
       "Drama                      2.090257e+10\n",
       "Comedy|Romance             1.453401e+10\n",
       "Adventure|Action|Thriller  1.088981e+10\n",
       "Comedy|Drama|Romance       1.057819e+10"
      ]
     },
     "execution_count": 236,
     "metadata": {},
     "output_type": "execute_result"
    }
   ],
   "source": [
    "top_5_genre = pd.DataFrame(top_5_genre)\n",
    "top_5_genre"
   ]
  },
  {
   "cell_type": "code",
   "execution_count": 238,
   "metadata": {},
   "outputs": [
    {
     "data": {
      "text/plain": [
       "<matplotlib.axes._subplots.AxesSubplot at 0x1cf6388bb88>"
      ]
     },
     "execution_count": 238,
     "metadata": {},
     "output_type": "execute_result"
    },
    {
     "data": {
      "image/png": "[encoded data removed]",
      "text/plain": [
       "<Figure size 432x288 with 1 Axes>"
      ]
     },
     "metadata": {
      "needs_background": "light"
     },
     "output_type": "display_data"
    }
   ],
   "source": [
    "sns.barplot(y = top_5_genre.index, x = top_5_genre['revenue_adj'], data = top_5_genre)"
   ]
  },
  {
   "cell_type": "markdown",
   "metadata": {},
   "source": [
    "## top directors based on genre\n",
    "limitations on the conclusion : some genre has a mix of comedy in their genre which if considers will give a different view on the cummulative adjusted revenue performace of some directors "
   ]
  },
  {
   "cell_type": "code",
   "execution_count": 239,
   "metadata": {},
   "outputs": [],
   "source": [
    "# popularity cate"
   ]
  },
  {
   "cell_type": "code",
   "execution_count": 240,
   "metadata": {},
   "outputs": [
    {
     "data": {
      "text/plain": [
       "count    10866.000000\n",
       "mean         0.646441\n",
       "std          1.000185\n",
       "min          0.000065\n",
       "25%          0.207583\n",
       "50%          0.383856\n",
       "75%          0.713817\n",
       "max         32.985763\n",
       "Name: popularity, dtype: float64"
      ]
     },
     "execution_count": 240,
     "metadata": {},
     "output_type": "execute_result"
    }
   ],
   "source": [
    "df_mdb['popularity'].describe()"
   ]
  },
  {
   "cell_type": "code",
   "execution_count": 244,
   "metadata": {},
   "outputs": [],
   "source": [
    "bin_edges = [ 0.000065, 0.207583, 0.383856, 0.713817, 32.985763]"
   ]
  },
  {
   "cell_type": "code",
   "execution_count": 245,
   "metadata": {},
   "outputs": [],
   "source": [
    "bin_names = [ 'High Popularity', 'Moderately Popularity','Medium Popularity' ,'Low Popularity' ]"
   ]
  },
  {
   "cell_type": "code",
   "execution_count": 246,
   "metadata": {},
   "outputs": [
    {
     "data": {
      "text/html": [
       "<div>\n",
       "<style scoped>\n",
       "    .dataframe tbody tr th:only-of-type {\n",
       "        vertical-align: middle;\n",
       "    }\n",
       "\n",
       "    .dataframe tbody tr th {\n",
       "        vertical-align: top;\n",
       "    }\n",
       "\n",
       "    .dataframe thead th {\n",
       "        text-align: right;\n",
       "    }\n",
       "</style>\n",
       "<table border=\"1\" class=\"dataframe\">\n",
       "  <thead>\n",
       "    <tr style=\"text-align: right;\">\n",
       "      <th></th>\n",
       "      <th>popularity</th>\n",
       "      <th>budget</th>\n",
       "      <th>revenue</th>\n",
       "      <th>cast</th>\n",
       "      <th>director</th>\n",
       "      <th>runtime</th>\n",
       "      <th>genres</th>\n",
       "      <th>release_date</th>\n",
       "      <th>vote_count</th>\n",
       "      <th>vote_average</th>\n",
       "      <th>release_year</th>\n",
       "      <th>budget_adj</th>\n",
       "      <th>revenue_adj</th>\n",
       "      <th>popularity_levels</th>\n",
       "    </tr>\n",
       "  </thead>\n",
       "  <tbody>\n",
       "    <tr>\n",
       "      <th>0</th>\n",
       "      <td>32.985763</td>\n",
       "      <td>150000000</td>\n",
       "      <td>1513528810</td>\n",
       "      <td>Chris Pratt|Bryce Dallas Howard|Irrfan Khan|Vi...</td>\n",
       "      <td>Colin Trevorrow</td>\n",
       "      <td>124</td>\n",
       "      <td>Action|Adventure|Science Fiction|Thriller</td>\n",
       "      <td>2015-06-09</td>\n",
       "      <td>5562</td>\n",
       "      <td>6.5</td>\n",
       "      <td>2015</td>\n",
       "      <td>1.379999e+08</td>\n",
       "      <td>1.392446e+09</td>\n",
       "      <td>Low Popularity</td>\n",
       "    </tr>\n",
       "    <tr>\n",
       "      <th>1</th>\n",
       "      <td>28.419936</td>\n",
       "      <td>150000000</td>\n",
       "      <td>378436354</td>\n",
       "      <td>Tom Hardy|Charlize Theron|Hugh Keays-Byrne|Nic...</td>\n",
       "      <td>George Miller</td>\n",
       "      <td>120</td>\n",
       "      <td>Action|Adventure|Science Fiction|Thriller</td>\n",
       "      <td>2015-05-13</td>\n",
       "      <td>6185</td>\n",
       "      <td>7.1</td>\n",
       "      <td>2015</td>\n",
       "      <td>1.379999e+08</td>\n",
       "      <td>3.481613e+08</td>\n",
       "      <td>Low Popularity</td>\n",
       "    </tr>\n",
       "    <tr>\n",
       "      <th>2</th>\n",
       "      <td>13.112507</td>\n",
       "      <td>110000000</td>\n",
       "      <td>295238201</td>\n",
       "      <td>Shailene Woodley|Theo James|Kate Winslet|Ansel...</td>\n",
       "      <td>Robert Schwentke</td>\n",
       "      <td>119</td>\n",
       "      <td>Adventure|Science Fiction|Thriller</td>\n",
       "      <td>2015-03-18</td>\n",
       "      <td>2480</td>\n",
       "      <td>6.3</td>\n",
       "      <td>2015</td>\n",
       "      <td>1.012000e+08</td>\n",
       "      <td>2.716190e+08</td>\n",
       "      <td>Low Popularity</td>\n",
       "    </tr>\n",
       "    <tr>\n",
       "      <th>3</th>\n",
       "      <td>11.173104</td>\n",
       "      <td>200000000</td>\n",
       "      <td>2068178225</td>\n",
       "      <td>Harrison Ford|Mark Hamill|Carrie Fisher|Adam D...</td>\n",
       "      <td>J.J. Abrams</td>\n",
       "      <td>136</td>\n",
       "      <td>Action|Adventure|Science Fiction|Fantasy</td>\n",
       "      <td>2015-12-15</td>\n",
       "      <td>5292</td>\n",
       "      <td>7.5</td>\n",
       "      <td>2015</td>\n",
       "      <td>1.839999e+08</td>\n",
       "      <td>1.902723e+09</td>\n",
       "      <td>Low Popularity</td>\n",
       "    </tr>\n",
       "    <tr>\n",
       "      <th>4</th>\n",
       "      <td>9.335014</td>\n",
       "      <td>190000000</td>\n",
       "      <td>1506249360</td>\n",
       "      <td>Vin Diesel|Paul Walker|Jason Statham|Michelle ...</td>\n",
       "      <td>James Wan</td>\n",
       "      <td>137</td>\n",
       "      <td>Action|Crime|Thriller</td>\n",
       "      <td>2015-04-01</td>\n",
       "      <td>2947</td>\n",
       "      <td>7.3</td>\n",
       "      <td>2015</td>\n",
       "      <td>1.747999e+08</td>\n",
       "      <td>1.385749e+09</td>\n",
       "      <td>Low Popularity</td>\n",
       "    </tr>\n",
       "  </tbody>\n",
       "</table>\n",
       "</div>"
      ],
      "text/plain": [
       "   popularity     budget     revenue  \\\n",
       "0   32.985763  150000000  1513528810   \n",
       "1   28.419936  150000000   378436354   \n",
       "2   13.112507  110000000   295238201   \n",
       "3   11.173104  200000000  2068178225   \n",
       "4    9.335014  190000000  1506249360   \n",
       "\n",
       "                                                cast          director  \\\n",
       "0  Chris Pratt|Bryce Dallas Howard|Irrfan Khan|Vi...   Colin Trevorrow   \n",
       "1  Tom Hardy|Charlize Theron|Hugh Keays-Byrne|Nic...     George Miller   \n",
       "2  Shailene Woodley|Theo James|Kate Winslet|Ansel...  Robert Schwentke   \n",
       "3  Harrison Ford|Mark Hamill|Carrie Fisher|Adam D...       J.J. Abrams   \n",
       "4  Vin Diesel|Paul Walker|Jason Statham|Michelle ...         James Wan   \n",
       "\n",
       "   runtime                                     genres release_date  \\\n",
       "0      124  Action|Adventure|Science Fiction|Thriller   2015-06-09   \n",
       "1      120  Action|Adventure|Science Fiction|Thriller   2015-05-13   \n",
       "2      119         Adventure|Science Fiction|Thriller   2015-03-18   \n",
       "3      136   Action|Adventure|Science Fiction|Fantasy   2015-12-15   \n",
       "4      137                      Action|Crime|Thriller   2015-04-01   \n",
       "\n",
       "   vote_count  vote_average  release_year    budget_adj   revenue_adj  \\\n",
       "0        5562           6.5          2015  1.379999e+08  1.392446e+09   \n",
       "1        6185           7.1          2015  1.379999e+08  3.481613e+08   \n",
       "2        2480           6.3          2015  1.012000e+08  2.716190e+08   \n",
       "3        5292           7.5          2015  1.839999e+08  1.902723e+09   \n",
       "4        2947           7.3          2015  1.747999e+08  1.385749e+09   \n",
       "\n",
       "  popularity_levels  \n",
       "0    Low Popularity  \n",
       "1    Low Popularity  \n",
       "2    Low Popularity  \n",
       "3    Low Popularity  \n",
       "4    Low Popularity  "
      ]
     },
     "execution_count": 246,
     "metadata": {},
     "output_type": "execute_result"
    }
   ],
   "source": [
    "df_mdb['popularity_levels'] = pd.cut(df_mdb['popularity'], bin_edges, labels=bin_names)\n",
    "df_mdb.head(5)"
   ]
  },
  {
   "cell_type": "code",
   "execution_count": 256,
   "metadata": {},
   "outputs": [
    {
     "data": {
      "text/plain": [
       "<matplotlib.axes._subplots.AxesSubplot at 0x1cf6bb27448>"
      ]
     },
     "execution_count": 256,
     "metadata": {},
     "output_type": "execute_result"
    },
    {
     "data": {
      "image/png": "[encoded data removed]",
      "text/plain": [
       "<Figure size 432x288 with 1 Axes>"
      ]
     },
     "metadata": {
      "needs_background": "light"
     },
     "output_type": "display_data"
    }
   ],
   "source": [
    "sns.countplot(y=df_mdb['popularity_levels'], data=df_mdb)"
   ]
  },
  {
   "cell_type": "code",
   "execution_count": 260,
   "metadata": {},
   "outputs": [
    {
     "data": {
      "text/plain": [
       "popularity_levels\n",
       "High Popularity          2702\n",
       "Moderately Popularity    2709\n",
       "Medium Popularity        2715\n",
       "Low Popularity           2717\n",
       "Name: genres, dtype: int64"
      ]
     },
     "execution_count": 260,
     "metadata": {},
     "output_type": "execute_result"
    }
   ],
   "source": [
    "df_mdb.groupby('popularity_levels')['genres'].count()"
   ]
  },
  {
   "cell_type": "code",
   "execution_count": 247,
   "metadata": {},
   "outputs": [],
   "source": [
    "## high popular movie genre\n",
    "df_hpgm = df_mdb.query('popularity_levels == \"High Popularity\"')\n"
   ]
  },
  {
   "cell_type": "code",
   "execution_count": 261,
   "metadata": {},
   "outputs": [
    {
     "data": {
      "text/plain": [
       "genres\n",
       "Comedy          224\n",
       "Documentary     207\n",
       "Drama           184\n",
       "Horror           94\n",
       "Comedy|Drama     72\n",
       "Name: popularity, dtype: int64"
      ]
     },
     "execution_count": 261,
     "metadata": {},
     "output_type": "execute_result"
    }
   ],
   "source": [
    "# top 5 highly popular genre\n",
    "df_hpgm.groupby('genres')['popularity'].count().sort_values(ascending = False).head(5)"
   ]
  },
  {
   "cell_type": "markdown",
   "metadata": {},
   "source": [
    "## genre and their vote average"
   ]
  },
  {
   "cell_type": "code",
   "execution_count": 268,
   "metadata": {},
   "outputs": [
    {
     "data": {
      "text/plain": [
       "count    10866.000000\n",
       "mean         5.974922\n",
       "std          0.935142\n",
       "min          1.500000\n",
       "25%          5.400000\n",
       "50%          6.000000\n",
       "75%          6.600000\n",
       "max          9.200000\n",
       "Name: vote_average, dtype: float64"
      ]
     },
     "execution_count": 268,
     "metadata": {},
     "output_type": "execute_result"
    }
   ],
   "source": [
    "df_mdb['vote_average'].describe()"
   ]
  },
  {
   "cell_type": "code",
   "execution_count": 269,
   "metadata": {},
   "outputs": [],
   "source": [
    "vbin_edges = [ 1.500000, 5.400000, 9.200000, 9.200000, 9.200000]"
   ]
  },
  {
   "cell_type": "code",
   "execution_count": 271,
   "metadata": {},
   "outputs": [],
   "source": [
    "vbin_names = [ 'High vote Average', 'Moderately vote Average','Medium vote Average' ,'Low vote Average' ]"
   ]
  },
  {
   "cell_type": "code",
   "execution_count": 272,
   "metadata": {},
   "outputs": [
    {
     "ename": "ValueError",
     "evalue": "Bin edges must be unique: array([1.5, 5.4, 9.2, 9.2, 9.2]).\nYou can drop duplicate edges by setting the 'duplicates' kwarg",
     "output_type": "error",
     "traceback": [
      "\u001b[1;31m---------------------------------------------------------------------------\u001b[0m",
      "\u001b[1;31mValueError\u001b[0m                                Traceback (most recent call last)",
      "\u001b[1;32m<ipython-input-272-269c4ecb53dc>\u001b[0m in \u001b[0;36m<module>\u001b[1;34m\u001b[0m\n\u001b[1;32m----> 1\u001b[1;33m \u001b[0mdf_mdb\u001b[0m\u001b[1;33m[\u001b[0m\u001b[1;34m'vote_average_levels'\u001b[0m\u001b[1;33m]\u001b[0m \u001b[1;33m=\u001b[0m \u001b[0mpd\u001b[0m\u001b[1;33m.\u001b[0m\u001b[0mcut\u001b[0m\u001b[1;33m(\u001b[0m\u001b[0mdf_mdb\u001b[0m\u001b[1;33m[\u001b[0m\u001b[1;34m'vote_average'\u001b[0m\u001b[1;33m]\u001b[0m\u001b[1;33m,\u001b[0m \u001b[0mvbin_edges\u001b[0m\u001b[1;33m,\u001b[0m \u001b[0mlabels\u001b[0m\u001b[1;33m=\u001b[0m\u001b[0mvbin_names\u001b[0m\u001b[1;33m)\u001b[0m\u001b[1;33m\u001b[0m\u001b[1;33m\u001b[0m\u001b[0m\n\u001b[0m\u001b[0;32m      2\u001b[0m \u001b[0mdf_mdb\u001b[0m\u001b[1;33m.\u001b[0m\u001b[0mhead\u001b[0m\u001b[1;33m(\u001b[0m\u001b[1;36m5\u001b[0m\u001b[1;33m)\u001b[0m\u001b[1;33m\u001b[0m\u001b[1;33m\u001b[0m\u001b[0m\n",
      "\u001b[1;32mC:\\ProgramData\\Anaconda3\\lib\\site-packages\\pandas\\core\\reshape\\tile.py\u001b[0m in \u001b[0;36mcut\u001b[1;34m(x, bins, right, labels, retbins, precision, include_lowest, duplicates)\u001b[0m\n\u001b[0;32m    263\u001b[0m         \u001b[0minclude_lowest\u001b[0m\u001b[1;33m=\u001b[0m\u001b[0minclude_lowest\u001b[0m\u001b[1;33m,\u001b[0m\u001b[1;33m\u001b[0m\u001b[1;33m\u001b[0m\u001b[0m\n\u001b[0;32m    264\u001b[0m         \u001b[0mdtype\u001b[0m\u001b[1;33m=\u001b[0m\u001b[0mdtype\u001b[0m\u001b[1;33m,\u001b[0m\u001b[1;33m\u001b[0m\u001b[1;33m\u001b[0m\u001b[0m\n\u001b[1;32m--> 265\u001b[1;33m         \u001b[0mduplicates\u001b[0m\u001b[1;33m=\u001b[0m\u001b[0mduplicates\u001b[0m\u001b[1;33m,\u001b[0m\u001b[1;33m\u001b[0m\u001b[1;33m\u001b[0m\u001b[0m\n\u001b[0m\u001b[0;32m    266\u001b[0m     )\n\u001b[0;32m    267\u001b[0m \u001b[1;33m\u001b[0m\u001b[0m\n",
      "\u001b[1;32mC:\\ProgramData\\Anaconda3\\lib\\site-packages\\pandas\\core\\reshape\\tile.py\u001b[0m in \u001b[0;36m_bins_to_cuts\u001b[1;34m(x, bins, right, labels, precision, include_lowest, dtype, duplicates)\u001b[0m\n\u001b[0;32m    379\u001b[0m         \u001b[1;32mif\u001b[0m \u001b[0mduplicates\u001b[0m \u001b[1;33m==\u001b[0m \u001b[1;34m\"raise\"\u001b[0m\u001b[1;33m:\u001b[0m\u001b[1;33m\u001b[0m\u001b[1;33m\u001b[0m\u001b[0m\n\u001b[0;32m    380\u001b[0m             raise ValueError(\n\u001b[1;32m--> 381\u001b[1;33m                 \u001b[1;34mf\"Bin edges must be unique: {repr(bins)}.\\n\"\u001b[0m\u001b[1;33m\u001b[0m\u001b[1;33m\u001b[0m\u001b[0m\n\u001b[0m\u001b[0;32m    382\u001b[0m                 \u001b[1;34mf\"You can drop duplicate edges by setting the 'duplicates' kwarg\"\u001b[0m\u001b[1;33m\u001b[0m\u001b[1;33m\u001b[0m\u001b[0m\n\u001b[0;32m    383\u001b[0m             )\n",
      "\u001b[1;31mValueError\u001b[0m: Bin edges must be unique: array([1.5, 5.4, 9.2, 9.2, 9.2]).\nYou can drop duplicate edges by setting the 'duplicates' kwarg"
     ]
    }
   ],
   "source": [
    "df_mdb['vote_average_levels'] = pd.cut(df_mdb['vote_average'], vbin_edges, labels=vbin_names)\n",
    "df_mdb.head(5)"
   ]
  },
  {
   "cell_type": "code",
   "execution_count": null,
   "metadata": {},
   "outputs": [],
   "source": []
  }
 ],
 "metadata": {
  "kernelspec": {
   "display_name": "Python 3",
   "language": "python",
   "name": "python3"
  },
  "language_info": {
   "codemirror_mode": {
    "name": "ipython",
    "version": 3
   },
   "file_extension": ".py",
   "mimetype": "text/x-python",
   "name": "python",
   "nbconvert_exporter": "python",
   "pygments_lexer": "ipython3",
   "version": "3.7.6"
  }
 },
 "nbformat": 4,
 "nbformat_minor": 4
}
