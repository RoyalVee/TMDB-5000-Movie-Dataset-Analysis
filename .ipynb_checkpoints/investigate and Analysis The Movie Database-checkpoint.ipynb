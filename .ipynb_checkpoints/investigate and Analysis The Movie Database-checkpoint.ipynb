{
 "cells": [
  {
   "cell_type": "markdown",
   "metadata": {},
   "source": [
    "\n",
    "\n",
    "# Project: The Movie Database (TMDb) Analysis\n",
    "\n",
    "## Table of Contents\n",
    "<ul>\n",
    "<li><a href=\"#intro\">Introduction</a></li>\n",
    "<li><a href=\"#wrangling\">Data Wrangling</a></li>\n",
    "<li><a href=\"#eda\">Exploratory Data Analysis</a></li>\n",
    "<li><a href=\"#conclusions\">Conclusions</a></li>\n",
    "</ul>"
   ]
  },
  {
   "cell_type": "markdown",
   "metadata": {},
   "source": [
    "<a id='intro'></a>\n",
    "## Introduction\n",
    "\n",
    "The Movie Database (TMDB) is a community built movie and TV database. \n",
    "Every piece of data has been added by an amazing community dating back to 2008.\n",
    "\n",
    "Using the Movie Database (TMDB) dataset, analysis will be carried out with the aim of finding the trends that tends to drive the Revenue of a movie. \n",
    "\n",
    "To achieve this, the following questions will be answered in the analysis:\n",
    "\n",
    "- Who are the top movie directors for higher revenue generation?. \n",
    "- How does the adjusted revenue correlate with the movie popularity, runtime and average vote\n",
    "- Which genre of movie leads in generating revenue?\n",
    "- Who are the top directors in the movie genre with leading revenue generation?\n",
    "- Which genre is more popular?\n",
    "\n",
    "To answer the above questions from the Movie Dataset, the following features will be used from the dataset:\n",
    "\n",
    "- Popularity\n",
    "- Director\n",
    "- Runtime\n",
    "- Genre\n",
    "- Vote Average \n",
    "- Revenue Adjusted \n"
   ]
  },
  {
   "cell_type": "code",
   "execution_count": 76,
   "metadata": {},
   "outputs": [],
   "source": [
    "# Import packages needed for the project\n",
    "import pandas as pd\n",
    "import numpy as np\n",
    "import matplotlib.pyplot as plt\n",
    "import seaborn as sns\n",
    "\n",
    "%matplotlib inline"
   ]
  },
  {
   "cell_type": "markdown",
   "metadata": {},
   "source": [
    "<a id='wrangling'></a>\n",
    "## Data Wrangling\n",
    "\n",
    "Movie Database (TMDB) dataset loading and cleaning operations\n",
    "\n",
    "### General Properties"
   ]
  },
  {
   "cell_type": "code",
   "execution_count": 77,
   "metadata": {},
   "outputs": [
    {
     "data": {
      "text/html": [
       "<div>\n",
       "<style scoped>\n",
       "    .dataframe tbody tr th:only-of-type {\n",
       "        vertical-align: middle;\n",
       "    }\n",
       "\n",
       "    .dataframe tbody tr th {\n",
       "        vertical-align: top;\n",
       "    }\n",
       "\n",
       "    .dataframe thead th {\n",
       "        text-align: right;\n",
       "    }\n",
       "</style>\n",
       "<table border=\"1\" class=\"dataframe\">\n",
       "  <thead>\n",
       "    <tr style=\"text-align: right;\">\n",
       "      <th></th>\n",
       "      <th>id</th>\n",
       "      <th>imdb_id</th>\n",
       "      <th>popularity</th>\n",
       "      <th>budget</th>\n",
       "      <th>revenue</th>\n",
       "      <th>original_title</th>\n",
       "      <th>cast</th>\n",
       "      <th>homepage</th>\n",
       "      <th>director</th>\n",
       "      <th>tagline</th>\n",
       "      <th>...</th>\n",
       "      <th>overview</th>\n",
       "      <th>runtime</th>\n",
       "      <th>genres</th>\n",
       "      <th>production_companies</th>\n",
       "      <th>release_date</th>\n",
       "      <th>vote_count</th>\n",
       "      <th>vote_average</th>\n",
       "      <th>release_year</th>\n",
       "      <th>budget_adj</th>\n",
       "      <th>revenue_adj</th>\n",
       "    </tr>\n",
       "  </thead>\n",
       "  <tbody>\n",
       "    <tr>\n",
       "      <th>0</th>\n",
       "      <td>135397</td>\n",
       "      <td>tt0369610</td>\n",
       "      <td>32.985763</td>\n",
       "      <td>150000000</td>\n",
       "      <td>1513528810</td>\n",
       "      <td>Jurassic World</td>\n",
       "      <td>Chris Pratt|Bryce Dallas Howard|Irrfan Khan|Vi...</td>\n",
       "      <td>http://www.jurassicworld.com/</td>\n",
       "      <td>Colin Trevorrow</td>\n",
       "      <td>The park is open.</td>\n",
       "      <td>...</td>\n",
       "      <td>Twenty-two years after the events of Jurassic ...</td>\n",
       "      <td>124</td>\n",
       "      <td>Action|Adventure|Science Fiction|Thriller</td>\n",
       "      <td>Universal Studios|Amblin Entertainment|Legenda...</td>\n",
       "      <td>6/9/15</td>\n",
       "      <td>5562</td>\n",
       "      <td>6.5</td>\n",
       "      <td>2015</td>\n",
       "      <td>1.379999e+08</td>\n",
       "      <td>1.392446e+09</td>\n",
       "    </tr>\n",
       "    <tr>\n",
       "      <th>1</th>\n",
       "      <td>76341</td>\n",
       "      <td>tt1392190</td>\n",
       "      <td>28.419936</td>\n",
       "      <td>150000000</td>\n",
       "      <td>378436354</td>\n",
       "      <td>Mad Max: Fury Road</td>\n",
       "      <td>Tom Hardy|Charlize Theron|Hugh Keays-Byrne|Nic...</td>\n",
       "      <td>http://www.madmaxmovie.com/</td>\n",
       "      <td>George Miller</td>\n",
       "      <td>What a Lovely Day.</td>\n",
       "      <td>...</td>\n",
       "      <td>An apocalyptic story set in the furthest reach...</td>\n",
       "      <td>120</td>\n",
       "      <td>Action|Adventure|Science Fiction|Thriller</td>\n",
       "      <td>Village Roadshow Pictures|Kennedy Miller Produ...</td>\n",
       "      <td>5/13/15</td>\n",
       "      <td>6185</td>\n",
       "      <td>7.1</td>\n",
       "      <td>2015</td>\n",
       "      <td>1.379999e+08</td>\n",
       "      <td>3.481613e+08</td>\n",
       "    </tr>\n",
       "  </tbody>\n",
       "</table>\n",
       "<p>2 rows × 21 columns</p>\n",
       "</div>"
      ],
      "text/plain": [
       "       id    imdb_id  popularity     budget     revenue      original_title  \\\n",
       "0  135397  tt0369610   32.985763  150000000  1513528810      Jurassic World   \n",
       "1   76341  tt1392190   28.419936  150000000   378436354  Mad Max: Fury Road   \n",
       "\n",
       "                                                cast  \\\n",
       "0  Chris Pratt|Bryce Dallas Howard|Irrfan Khan|Vi...   \n",
       "1  Tom Hardy|Charlize Theron|Hugh Keays-Byrne|Nic...   \n",
       "\n",
       "                        homepage         director             tagline  ...  \\\n",
       "0  http://www.jurassicworld.com/  Colin Trevorrow   The park is open.  ...   \n",
       "1    http://www.madmaxmovie.com/    George Miller  What a Lovely Day.  ...   \n",
       "\n",
       "                                            overview runtime  \\\n",
       "0  Twenty-two years after the events of Jurassic ...     124   \n",
       "1  An apocalyptic story set in the furthest reach...     120   \n",
       "\n",
       "                                      genres  \\\n",
       "0  Action|Adventure|Science Fiction|Thriller   \n",
       "1  Action|Adventure|Science Fiction|Thriller   \n",
       "\n",
       "                                production_companies release_date vote_count  \\\n",
       "0  Universal Studios|Amblin Entertainment|Legenda...       6/9/15       5562   \n",
       "1  Village Roadshow Pictures|Kennedy Miller Produ...      5/13/15       6185   \n",
       "\n",
       "   vote_average  release_year    budget_adj   revenue_adj  \n",
       "0           6.5          2015  1.379999e+08  1.392446e+09  \n",
       "1           7.1          2015  1.379999e+08  3.481613e+08  \n",
       "\n",
       "[2 rows x 21 columns]"
      ]
     },
     "execution_count": 77,
     "metadata": {},
     "output_type": "execute_result"
    }
   ],
   "source": [
    "# load the Movie Database (TMDB) dataset \n",
    "\n",
    "df_mdb = pd.read_csv('tmdb-movies.csv')\n",
    "\n",
    "# view the first 2 rows of the loaded dataset\n",
    "\n",
    "df_mdb.head(2)"
   ]
  },
  {
   "cell_type": "markdown",
   "metadata": {},
   "source": [
    "Get general information about the loaded dataset"
   ]
  },
  {
   "cell_type": "code",
   "execution_count": 5,
   "metadata": {},
   "outputs": [
    {
     "data": {
      "text/plain": [
       "['id',\n",
       " 'imdb_id',\n",
       " 'popularity',\n",
       " 'budget',\n",
       " 'revenue',\n",
       " 'original_title',\n",
       " 'cast',\n",
       " 'homepage',\n",
       " 'director',\n",
       " 'tagline',\n",
       " 'keywords',\n",
       " 'overview',\n",
       " 'runtime',\n",
       " 'genres',\n",
       " 'production_companies',\n",
       " 'release_date',\n",
       " 'vote_count',\n",
       " 'vote_average',\n",
       " 'release_year',\n",
       " 'budget_adj',\n",
       " 'revenue_adj']"
      ]
     },
     "execution_count": 5,
     "metadata": {},
     "output_type": "execute_result"
    }
   ],
   "source": [
    "# list dataset columns\n",
    "list_col = list(df_mdb.columns)\n",
    "list_col"
   ]
  },
  {
   "cell_type": "code",
   "execution_count": 6,
   "metadata": {},
   "outputs": [
    {
     "name": "stdout",
     "output_type": "stream",
     "text": [
      "<class 'pandas.core.frame.DataFrame'>\n",
      "RangeIndex: 10866 entries, 0 to 10865\n",
      "Data columns (total 21 columns):\n",
      " #   Column                Non-Null Count  Dtype  \n",
      "---  ------                --------------  -----  \n",
      " 0   id                    10866 non-null  int64  \n",
      " 1   imdb_id               10856 non-null  object \n",
      " 2   popularity            10866 non-null  float64\n",
      " 3   budget                10866 non-null  int64  \n",
      " 4   revenue               10866 non-null  int64  \n",
      " 5   original_title        10866 non-null  object \n",
      " 6   cast                  10790 non-null  object \n",
      " 7   homepage              2936 non-null   object \n",
      " 8   director              10822 non-null  object \n",
      " 9   tagline               8042 non-null   object \n",
      " 10  keywords              9373 non-null   object \n",
      " 11  overview              10862 non-null  object \n",
      " 12  runtime               10866 non-null  int64  \n",
      " 13  genres                10843 non-null  object \n",
      " 14  production_companies  9836 non-null   object \n",
      " 15  release_date          10866 non-null  object \n",
      " 16  vote_count            10866 non-null  int64  \n",
      " 17  vote_average          10866 non-null  float64\n",
      " 18  release_year          10866 non-null  int64  \n",
      " 19  budget_adj            10866 non-null  float64\n",
      " 20  revenue_adj           10866 non-null  float64\n",
      "dtypes: float64(4), int64(6), object(11)\n",
      "memory usage: 1.7+ MB\n"
     ]
    }
   ],
   "source": [
    "# dataset info\n",
    "df_mdb.info();"
   ]
  },
  {
   "cell_type": "markdown",
   "metadata": {},
   "source": [
    ">>From the above information gotten on the dataset. \n",
    "The dataset has 10866 rows with 21 columns. The dataset contains some null value on an overview.\n",
    "\n",
    "Let's get the count of null values in each column in the dataset."
   ]
  },
  {
   "cell_type": "code",
   "execution_count": 14,
   "metadata": {},
   "outputs": [
    {
     "data": {
      "text/plain": [
       "id                         0\n",
       "imdb_id                   10\n",
       "popularity                 0\n",
       "budget                     0\n",
       "revenue                    0\n",
       "original_title             0\n",
       "cast                      76\n",
       "homepage                7930\n",
       "director                  44\n",
       "tagline                 2824\n",
       "keywords                1493\n",
       "overview                   4\n",
       "runtime                    0\n",
       "genres                    23\n",
       "production_companies    1030\n",
       "release_date               0\n",
       "vote_count                 0\n",
       "vote_average               0\n",
       "release_year               0\n",
       "budget_adj                 0\n",
       "revenue_adj                0\n",
       "dtype: int64"
      ]
     },
     "execution_count": 14,
     "metadata": {},
     "output_type": "execute_result"
    }
   ],
   "source": [
    "# count null in each column\n",
    "df_mdb.isnull().sum()"
   ]
  },
  {
   "cell_type": "markdown",
   "metadata": {},
   "source": [
    "The columns in the dataset with null values are imdb_id, cast, homepage, director, tagline, keywords, overview, genres, and production_companies.\n",
    "\n",
    "For the Aim of this analysis, most of the columns with null are not in the features needed. Only three of our needed features have null values in their column.\n",
    "\n",
    ">>In the data cleaning phase, we will drop all un-needed features for the analysis which will take care of most null values on the dataset. For the features needed with null, the rows will be retained as the numeric columns on this rows will be useful in the analysis.\n",
    "\n",
    ">>Furthermore, we will also change the datatype for \"release_date\" from string to datatime format."
   ]
  },
  {
   "cell_type": "markdown",
   "metadata": {},
   "source": [
    "-----\n",
    "\n",
    "### Data Cleaning \n",
    "\n",
    "- Removal of the following columns 'id', 'imdb_id', 'original_title', 'homepage', 'tagline', 'keywords', 'overview', and 'production_companies' as they won't be needed in our analysis.\n",
    "- Change of data type for \"release_date \" from string to datetime"
   ]
  },
  {
   "cell_type": "code",
   "execution_count": 78,
   "metadata": {},
   "outputs": [
    {
     "data": {
      "text/plain": [
       "Index(['popularity', 'budget', 'revenue', 'cast', 'director', 'runtime',\n",
       "       'genres', 'release_date', 'vote_count', 'vote_average', 'release_year',\n",
       "       'budget_adj', 'revenue_adj'],\n",
       "      dtype='object')"
      ]
     },
     "execution_count": 78,
     "metadata": {},
     "output_type": "execute_result"
    }
   ],
   "source": [
    "# Remove the unwanted columns from the dataframe\n",
    "df_mdb = df_mdb.drop(['id', 'imdb_id', 'original_title', 'homepage', \n",
    "                      'tagline', 'keywords', 'overview', 'production_companies'], axis =1 )\n",
    "\n",
    "# confirm columns are dropped\n",
    "df_mdb.columns\n"
   ]
  },
  {
   "cell_type": "code",
   "execution_count": 79,
   "metadata": {},
   "outputs": [
    {
     "name": "stdout",
     "output_type": "stream",
     "text": [
      "<class 'pandas.core.frame.DataFrame'>\n",
      "RangeIndex: 10866 entries, 0 to 10865\n",
      "Data columns (total 13 columns):\n",
      " #   Column        Non-Null Count  Dtype         \n",
      "---  ------        --------------  -----         \n",
      " 0   popularity    10866 non-null  float64       \n",
      " 1   budget        10866 non-null  int64         \n",
      " 2   revenue       10866 non-null  int64         \n",
      " 3   cast          10790 non-null  object        \n",
      " 4   director      10822 non-null  object        \n",
      " 5   runtime       10866 non-null  int64         \n",
      " 6   genres        10843 non-null  object        \n",
      " 7   release_date  10866 non-null  datetime64[ns]\n",
      " 8   vote_count    10866 non-null  int64         \n",
      " 9   vote_average  10866 non-null  float64       \n",
      " 10  release_year  10866 non-null  int64         \n",
      " 11  budget_adj    10866 non-null  float64       \n",
      " 12  revenue_adj   10866 non-null  float64       \n",
      "dtypes: datetime64[ns](1), float64(4), int64(5), object(3)\n",
      "memory usage: 1.1+ MB\n"
     ]
    }
   ],
   "source": [
    "# change the datatype for release_date to datetime\n",
    "df_mdb['release_date'] = pd.to_datetime(df_mdb['release_date'])\n",
    "\n",
    "# confirm data type change\n",
    "df_mdb.info()"
   ]
  },
  {
   "cell_type": "markdown",
   "metadata": {},
   "source": [
    "<a id='eda'></a>\n",
    "## Exploratory Data Analysis\n",
    "\n",
    "\n",
    "###  1) Who are the top movie directors for higher revenue generation?"
   ]
  },
  {
   "cell_type": "code",
   "execution_count": 80,
   "metadata": {},
   "outputs": [
    {
     "data": {
      "text/plain": [
       "51364363.25325093"
      ]
     },
     "execution_count": 80,
     "metadata": {},
     "output_type": "execute_result"
    }
   ],
   "source": [
    "# average adjusted revenue\n",
    "adj_revenue_mean = df_mdb['revenue_adj'].mean()\n",
    "adj_revenue_mean"
   ]
  },
  {
   "cell_type": "code",
   "execution_count": 81,
   "metadata": {},
   "outputs": [],
   "source": [
    "# get movies with adjusted revenue above the average adjusted revenue\n",
    "df_top_adj_revenue_movies = df_mdb.query('revenue_adj >= @adj_revenue_mean')"
   ]
  },
  {
   "cell_type": "code",
   "execution_count": 28,
   "metadata": {},
   "outputs": [
    {
     "name": "stdout",
     "output_type": "stream",
     "text": [
      "['Steven Spielberg', 'James Cameron', 'Peter Jackson', 'George Lucas', 'Robert Zemeckis']\n"
     ]
    }
   ],
   "source": [
    "# top 5 directors based on their cumulative movie revenue for high revenue generating movies\n",
    "top_5_directors = df_top_adj_revenue_movies.groupby('director')['revenue_adj'].sum().sort_values(ascending = False).head(5)\n",
    "\n",
    "# view their names\n",
    "print(list(top_5_directors.index))"
   ]
  },
  {
   "cell_type": "code",
   "execution_count": 27,
   "metadata": {},
   "outputs": [
    {
     "data": {
      "text/html": [
       "<div>\n",
       "<style scoped>\n",
       "    .dataframe tbody tr th:only-of-type {\n",
       "        vertical-align: middle;\n",
       "    }\n",
       "\n",
       "    .dataframe tbody tr th {\n",
       "        vertical-align: top;\n",
       "    }\n",
       "\n",
       "    .dataframe thead th {\n",
       "        text-align: right;\n",
       "    }\n",
       "</style>\n",
       "<table border=\"1\" class=\"dataframe\">\n",
       "  <thead>\n",
       "    <tr style=\"text-align: right;\">\n",
       "      <th></th>\n",
       "      <th>revenue_adj</th>\n",
       "    </tr>\n",
       "    <tr>\n",
       "      <th>director</th>\n",
       "      <th></th>\n",
       "    </tr>\n",
       "  </thead>\n",
       "  <tbody>\n",
       "    <tr>\n",
       "      <th>Steven Spielberg</th>\n",
       "      <td>1.520245e+10</td>\n",
       "    </tr>\n",
       "    <tr>\n",
       "      <th>James Cameron</th>\n",
       "      <td>7.307021e+09</td>\n",
       "    </tr>\n",
       "    <tr>\n",
       "      <th>Peter Jackson</th>\n",
       "      <td>6.974169e+09</td>\n",
       "    </tr>\n",
       "    <tr>\n",
       "      <th>George Lucas</th>\n",
       "      <td>6.300795e+09</td>\n",
       "    </tr>\n",
       "    <tr>\n",
       "      <th>Robert Zemeckis</th>\n",
       "      <td>5.624649e+09</td>\n",
       "    </tr>\n",
       "  </tbody>\n",
       "</table>\n",
       "</div>"
      ],
      "text/plain": [
       "                   revenue_adj\n",
       "director                      \n",
       "Steven Spielberg  1.520245e+10\n",
       "James Cameron     7.307021e+09\n",
       "Peter Jackson     6.974169e+09\n",
       "George Lucas      6.300795e+09\n",
       "Robert Zemeckis   5.624649e+09"
      ]
     },
     "execution_count": 27,
     "metadata": {},
     "output_type": "execute_result"
    }
   ],
   "source": [
    "# top 5 directors and their cumulative revenue\n",
    "df_top_5 = pd.DataFrame(top_5_directors)\n",
    "df_top_5 "
   ]
  },
  {
   "cell_type": "code",
   "execution_count": 42,
   "metadata": {},
   "outputs": [
    {
     "data": {
      "image/png": "[encoded data removed]",
      "text/plain": [
       "<Figure size 360x360 with 1 Axes>"
      ]
     },
     "metadata": {
      "needs_background": "light"
     },
     "output_type": "display_data"
    }
   ],
   "source": [
    "#visual representation for top 5 directors based on cumulative top movie revenue\n",
    "top_5_directors.plot(kind = 'bar', figsize = (5,5), grid = True)\n",
    "plt.title(\"Total revenue for movies above average adjusted revenue for the top 5 directors \\n \\n\")\n",
    "plt.xlabel('Director')\n",
    "plt.ylabel('Cummulative Adjusted revenue')\n",
    "plt.show();"
   ]
  },
  {
   "cell_type": "markdown",
   "metadata": {},
   "source": [
    "Let's get the total movie count for the top directors to see how the count relates with the cummlative reveune"
   ]
  },
  {
   "cell_type": "code",
   "execution_count": 24,
   "metadata": {},
   "outputs": [
    {
     "data": {
      "text/plain": [
       "director\n",
       "Steven Spielberg    27\n",
       "James Cameron        7\n",
       "Peter Jackson        8\n",
       "George Lucas         5\n",
       "Robert Zemeckis     14\n",
       "Name: revenue_adj, dtype: int64"
      ]
     },
     "execution_count": 24,
     "metadata": {},
     "output_type": "execute_result"
    }
   ],
   "source": [
    "# top revenue directors movie count\n",
    "\n",
    "directors_movie_count = df_top_adj_revenue_movies.groupby(['director'])['revenue_adj'].count().sort_values(ascending = False)\n",
    "\n",
    "top5_revenue_director_movie_count = directors_movie_count.loc[['Steven Spielberg', 'James Cameron', 'Peter Jackson', 'George Lucas',\n",
    "       'Robert Zemeckis']]\n",
    "\n",
    "top5_revenue_director_movie_count"
   ]
  },
  {
   "cell_type": "code",
   "execution_count": 40,
   "metadata": {},
   "outputs": [
    {
     "data": {
      "image/png": "[encoded data removed]",
      "text/plain": [
       "<Figure size 360x360 with 1 Axes>"
      ]
     },
     "metadata": {
      "needs_background": "light"
     },
     "output_type": "display_data"
    }
   ],
   "source": [
    "#visual representation for top 5 directors based on top movie revenue count\n",
    "top5_revenue_director_movie_count.plot(kind = 'bar', figsize = (5,5), grid = True, color = 'grey')\n",
    "plt.title(\"Count of movies above average adjusted revenue for the top 5 directors \\n \\n\")\n",
    "plt.xlabel('Director')\n",
    "plt.ylabel('Total number of movies')\n",
    "plt.show();"
   ]
  },
  {
   "cell_type": "markdown",
   "metadata": {},
   "source": [
    ">>From the count chart, Steven Spielberg has directed more movies with higher cumulative adjusted revenue compared to the other top directors"
   ]
  },
  {
   "cell_type": "markdown",
   "metadata": {},
   "source": [
    "### 2) How does the adjusted revenue correlate with the movie popularity, runtime and average vote"
   ]
  },
  {
   "cell_type": "code",
   "execution_count": 82,
   "metadata": {},
   "outputs": [
    {
     "data": {
      "image/png": "[encoded data removed]",
      "text/plain": [
       "<Figure size 432x288 with 1 Axes>"
      ]
     },
     "metadata": {
      "needs_background": "light"
     },
     "output_type": "display_data"
    }
   ],
   "source": [
    "# plot adjusted revenue against popularity\n",
    "sns.scatterplot(data=df_mdb,y = df_mdb['revenue_adj'], x = df_mdb['popularity'] )\n",
    "plt.xlabel('Movie Popularity')\n",
    "plt.ylabel('Adjusted Revenue')\n",
    "plt.title('Scatter plot of Movie Adjusted Revenue against Movie Popularity \\n')\n",
    "plt.show()"
   ]
  },
  {
   "cell_type": "markdown",
   "metadata": {},
   "source": [
    ">>From the scatter plot of Movie Adjusted Revenue against Movie Popularity there is no distinct correlation. The revenue generated from a movie can not be inferred from the movie populairty."
   ]
  },
  {
   "cell_type": "code",
   "execution_count": 34,
   "metadata": {},
   "outputs": [
    {
     "data": {
      "image/png": "[encoded data removed]",
      "text/plain": [
       "<Figure size 432x288 with 1 Axes>"
      ]
     },
     "metadata": {
      "needs_background": "light"
     },
     "output_type": "display_data"
    }
   ],
   "source": [
    "# plot adjusted revenue against movie vote average\n",
    "sns.scatterplot(data=df_mdb, y = df_mdb['revenue_adj'], x = df_mdb['vote_average'], color = 'orange')\n",
    "plt.xlabel('Movie Average Vote')\n",
    "plt.ylabel('Adjusted Revenue')\n",
    "plt.title('Scatter plot of Movie Adjusted Revenue against Movie Average Vote \\n')\n",
    "plt.show()"
   ]
  },
  {
   "cell_type": "markdown",
   "metadata": {},
   "source": [
    ">>From the Scatter plot of Movie Adjusted Revenue against Movie Average Vote a quick glance may show that higher movie vote average may give a high revenue returns. This is not certain as a deep dive into the scatter plot shows movies with very high vote average having extremly low adjusted revenue."
   ]
  },
  {
   "cell_type": "code",
   "execution_count": 35,
   "metadata": {},
   "outputs": [
    {
     "data": {
      "image/png": "[encoded data removed]",
      "text/plain": [
       "<Figure size 432x288 with 1 Axes>"
      ]
     },
     "metadata": {
      "needs_background": "light"
     },
     "output_type": "display_data"
    }
   ],
   "source": [
    "# plot adjusted revenue against movie runtime\n",
    "sns.scatterplot(data=df_mdb, y = df_mdb['revenue_adj'], x = df_mdb['runtime'], color = 'green')\n",
    "plt.xlabel('Movie Runtime')\n",
    "plt.ylabel('Adjusted Revenue')\n",
    "plt.title('Scatter plot of Movie Adjusted Revenue against Movie Runtime \\n')\n",
    "plt.show()"
   ]
  },
  {
   "cell_type": "markdown",
   "metadata": {},
   "source": [
    ">>There is no correlation of the movie runtime having impact on the revenue generated by the movie based on the scatter plot of adjusted revenue against runtime"
   ]
  },
  {
   "cell_type": "markdown",
   "metadata": {},
   "source": [
    "## 3) Genres of movie leading in generating revenue"
   ]
  },
  {
   "cell_type": "code",
   "execution_count": 36,
   "metadata": {},
   "outputs": [
    {
     "data": {
      "text/plain": [
       "genres\n",
       "Comedy                       2.485195e+10\n",
       "Drama                        2.090257e+10\n",
       "Comedy|Romance               1.453401e+10\n",
       "Adventure|Action|Thriller    1.088981e+10\n",
       "Comedy|Drama|Romance         1.057819e+10\n",
       "                                 ...     \n",
       "Adventure|Horror             0.000000e+00\n",
       "Adventure|History            0.000000e+00\n",
       "Drama|Music|Comedy           0.000000e+00\n",
       "Drama|Music|Family           0.000000e+00\n",
       "TV Movie|Comedy|Family       0.000000e+00\n",
       "Name: revenue_adj, Length: 2039, dtype: float64"
      ]
     },
     "execution_count": 36,
     "metadata": {},
     "output_type": "execute_result"
    }
   ],
   "source": [
    "#Genre by adjusted revenue\n",
    "genre_by_revenue = df_mdb.groupby('genres')['revenue_adj'].sum().sort_values(ascending = False)\n",
    "genre_by_revenue"
   ]
  },
  {
   "cell_type": "code",
   "execution_count": 37,
   "metadata": {},
   "outputs": [
    {
     "data": {
      "text/html": [
       "<div>\n",
       "<style scoped>\n",
       "    .dataframe tbody tr th:only-of-type {\n",
       "        vertical-align: middle;\n",
       "    }\n",
       "\n",
       "    .dataframe tbody tr th {\n",
       "        vertical-align: top;\n",
       "    }\n",
       "\n",
       "    .dataframe thead th {\n",
       "        text-align: right;\n",
       "    }\n",
       "</style>\n",
       "<table border=\"1\" class=\"dataframe\">\n",
       "  <thead>\n",
       "    <tr style=\"text-align: right;\">\n",
       "      <th></th>\n",
       "      <th>revenue_adj</th>\n",
       "    </tr>\n",
       "    <tr>\n",
       "      <th>genres</th>\n",
       "      <th></th>\n",
       "    </tr>\n",
       "  </thead>\n",
       "  <tbody>\n",
       "    <tr>\n",
       "      <th>Comedy</th>\n",
       "      <td>2.485195e+10</td>\n",
       "    </tr>\n",
       "    <tr>\n",
       "      <th>Drama</th>\n",
       "      <td>2.090257e+10</td>\n",
       "    </tr>\n",
       "    <tr>\n",
       "      <th>Comedy|Romance</th>\n",
       "      <td>1.453401e+10</td>\n",
       "    </tr>\n",
       "    <tr>\n",
       "      <th>Adventure|Action|Thriller</th>\n",
       "      <td>1.088981e+10</td>\n",
       "    </tr>\n",
       "    <tr>\n",
       "      <th>Comedy|Drama|Romance</th>\n",
       "      <td>1.057819e+10</td>\n",
       "    </tr>\n",
       "  </tbody>\n",
       "</table>\n",
       "</div>"
      ],
      "text/plain": [
       "                            revenue_adj\n",
       "genres                                 \n",
       "Comedy                     2.485195e+10\n",
       "Drama                      2.090257e+10\n",
       "Comedy|Romance             1.453401e+10\n",
       "Adventure|Action|Thriller  1.088981e+10\n",
       "Comedy|Drama|Romance       1.057819e+10"
      ]
     },
     "execution_count": 37,
     "metadata": {},
     "output_type": "execute_result"
    }
   ],
   "source": [
    "# top 5 genre based on cumulative adjusted revenue \n",
    "top_5_genre = genre_by_revenue.head(5)\n",
    "\n",
    "# change series to DataFrame\n",
    "top_5_genre = pd.DataFrame(top_5_genre)\n",
    "\n",
    "#view top 5\n",
    "top_5_genre"
   ]
  },
  {
   "cell_type": "code",
   "execution_count": 83,
   "metadata": {},
   "outputs": [
    {
     "data": {
      "image/png": "[encoded data removed]",
      "text/plain": [
       "<Figure size 432x288 with 1 Axes>"
      ]
     },
     "metadata": {
      "needs_background": "light"
     },
     "output_type": "display_data"
    }
   ],
   "source": [
    "#visual representation for top 5 genre based on adjusted revenue cumulative\n",
    "sns.barplot(y = top_5_genre.index, x = top_5_genre['revenue_adj'], data = top_5_genre)\n",
    "plt.title(\"Top revenue generating genre \\n \\n\")\n",
    "plt.xlabel('Cumulative Adujusted Revenue')\n",
    "plt.ylabel('Movie Genre')\n",
    "plt.show();"
   ]
  },
  {
   "cell_type": "markdown",
   "metadata": {},
   "source": [
    ">> From the chart, Comedy leads the movie genre with the highest cumulative adjusted revenue.\n",
    "\n",
    "Let's dive deep into the Comedy genre and get the top directors in this genre only"
   ]
  },
  {
   "cell_type": "code",
   "execution_count": 46,
   "metadata": {},
   "outputs": [
    {
     "data": {
      "text/plain": [
       "popularity      712\n",
       "budget          712\n",
       "revenue         712\n",
       "cast            712\n",
       "director        707\n",
       "runtime         712\n",
       "genres          712\n",
       "release_date    712\n",
       "vote_count      712\n",
       "vote_average    712\n",
       "release_year    712\n",
       "budget_adj      712\n",
       "revenue_adj     712\n",
       "dtype: int64"
      ]
     },
     "execution_count": 46,
     "metadata": {},
     "output_type": "execute_result"
    }
   ],
   "source": [
    "# get the movies with comedy as genre only\n",
    "comedy_only = df_mdb.query('genres == \"Comedy\"')\n",
    "\n",
    "comedy_only.count()"
   ]
  },
  {
   "cell_type": "code",
   "execution_count": 84,
   "metadata": {},
   "outputs": [
    {
     "data": {
      "text/plain": [
       "director\n",
       "Todd Phillips                    1.155507e+09\n",
       "Dennis Dugan                     7.049932e+08\n",
       "Keenen Ivory Wayans              6.565180e+08\n",
       "Adam McKay                       5.731254e+08\n",
       "Bobby Farrelly|Peter Farrelly    4.983702e+08\n",
       "                                     ...     \n",
       "Louis C.K.|Shannon Hartman       0.000000e+00\n",
       "Lynn Shelton                     0.000000e+00\n",
       "Manny Rodriguez                  0.000000e+00\n",
       "Manny Rodriguez|Jay Lavender     0.000000e+00\n",
       "John Moffitt                     0.000000e+00\n",
       "Name: revenue_adj, Length: 524, dtype: float64"
      ]
     },
     "execution_count": 84,
     "metadata": {},
     "output_type": "execute_result"
    }
   ],
   "source": [
    "#directors in comedy only and the cumulative generated revenue\n",
    "comedy_directors = comedy_only.groupby('director')['revenue_adj'].sum().sort_values(ascending = False)\n",
    "\n",
    "comedy_directors"
   ]
  },
  {
   "cell_type": "code",
   "execution_count": 85,
   "metadata": {},
   "outputs": [
    {
     "data": {
      "text/plain": [
       "Index(['Todd Phillips', 'Dennis Dugan', 'Keenen Ivory Wayans', 'Adam McKay',\n",
       "       'Bobby Farrelly|Peter Farrelly'],\n",
       "      dtype='object', name='director')"
      ]
     },
     "execution_count": 85,
     "metadata": {},
     "output_type": "execute_result"
    }
   ],
   "source": [
    "# top 5 adjusted revenue performing directors in comedy only genre\n",
    "\n",
    "top_5_comdey_directors = comedy_directors.head(5)\n",
    "\n",
    "#change series to data frame\n",
    "top_5_comdey_directors = pd.DataFrame(top_5_comdey_directors)\n",
    "\n",
    "#view the comedy only genre top directors \n",
    "top_5_comdey_directors.index"
   ]
  },
  {
   "cell_type": "code",
   "execution_count": 86,
   "metadata": {},
   "outputs": [
    {
     "data": {
      "image/png": "[encoded data removed]",
      "text/plain": [
       "<Figure size 432x288 with 1 Axes>"
      ]
     },
     "metadata": {
      "needs_background": "light"
     },
     "output_type": "display_data"
    }
   ],
   "source": [
    "#visual representation for top 5 directors in comedy only genre based on adjusted revenue cumulative\n",
    "sns.barplot(y = top_5_comdey_directors.index, x = top_5_comdey_directors['revenue_adj'], data = top_5_comdey_directors)\n",
    "plt.title(\"Top revenue generating directors in comdey only genre \\n \\n\")\n",
    "plt.xlabel('\\n cumulative Adujusted Revenue in movies with comedy only genre')\n",
    "plt.ylabel('Director')\n",
    "plt.show();"
   ]
  },
  {
   "cell_type": "markdown",
   "metadata": {},
   "source": [
    "### 4) Genre of movie that are very popular "
   ]
  },
  {
   "cell_type": "code",
   "execution_count": 87,
   "metadata": {},
   "outputs": [
    {
     "data": {
      "text/plain": [
       "count    10866.000000\n",
       "mean         0.646441\n",
       "std          1.000185\n",
       "min          0.000065\n",
       "25%          0.207583\n",
       "50%          0.383856\n",
       "75%          0.713817\n",
       "max         32.985763\n",
       "Name: popularity, dtype: float64"
      ]
     },
     "execution_count": 87,
     "metadata": {},
     "output_type": "execute_result"
    }
   ],
   "source": [
    "# split the popularity column into categories \n",
    "# describe the popularity column\n",
    "df_mdb['popularity'].describe()"
   ]
  },
  {
   "cell_type": "code",
   "execution_count": 88,
   "metadata": {},
   "outputs": [],
   "source": [
    "# bin categories\n",
    "pop_bin_edges = [ 0.000065, 0.207583, 0.383856, 0.713817, 32.985763]"
   ]
  },
  {
   "cell_type": "code",
   "execution_count": 89,
   "metadata": {},
   "outputs": [],
   "source": [
    "# categories name\n",
    "pop_bin_names = [ 'High Popularity', 'Moderately Popularity','Medium Popularity' ,'Low Popularity' ]"
   ]
  },
  {
   "cell_type": "code",
   "execution_count": 90,
   "metadata": {},
   "outputs": [
    {
     "data": {
      "text/html": [
       "<div>\n",
       "<style scoped>\n",
       "    .dataframe tbody tr th:only-of-type {\n",
       "        vertical-align: middle;\n",
       "    }\n",
       "\n",
       "    .dataframe tbody tr th {\n",
       "        vertical-align: top;\n",
       "    }\n",
       "\n",
       "    .dataframe thead th {\n",
       "        text-align: right;\n",
       "    }\n",
       "</style>\n",
       "<table border=\"1\" class=\"dataframe\">\n",
       "  <thead>\n",
       "    <tr style=\"text-align: right;\">\n",
       "      <th></th>\n",
       "      <th>popularity</th>\n",
       "      <th>budget</th>\n",
       "      <th>revenue</th>\n",
       "      <th>cast</th>\n",
       "      <th>director</th>\n",
       "      <th>runtime</th>\n",
       "      <th>genres</th>\n",
       "      <th>release_date</th>\n",
       "      <th>vote_count</th>\n",
       "      <th>vote_average</th>\n",
       "      <th>release_year</th>\n",
       "      <th>budget_adj</th>\n",
       "      <th>revenue_adj</th>\n",
       "      <th>popularity_levels</th>\n",
       "    </tr>\n",
       "  </thead>\n",
       "  <tbody>\n",
       "    <tr>\n",
       "      <th>0</th>\n",
       "      <td>32.985763</td>\n",
       "      <td>150000000</td>\n",
       "      <td>1513528810</td>\n",
       "      <td>Chris Pratt|Bryce Dallas Howard|Irrfan Khan|Vi...</td>\n",
       "      <td>Colin Trevorrow</td>\n",
       "      <td>124</td>\n",
       "      <td>Action|Adventure|Science Fiction|Thriller</td>\n",
       "      <td>2015-06-09</td>\n",
       "      <td>5562</td>\n",
       "      <td>6.5</td>\n",
       "      <td>2015</td>\n",
       "      <td>1.379999e+08</td>\n",
       "      <td>1.392446e+09</td>\n",
       "      <td>Low Popularity</td>\n",
       "    </tr>\n",
       "    <tr>\n",
       "      <th>1</th>\n",
       "      <td>28.419936</td>\n",
       "      <td>150000000</td>\n",
       "      <td>378436354</td>\n",
       "      <td>Tom Hardy|Charlize Theron|Hugh Keays-Byrne|Nic...</td>\n",
       "      <td>George Miller</td>\n",
       "      <td>120</td>\n",
       "      <td>Action|Adventure|Science Fiction|Thriller</td>\n",
       "      <td>2015-05-13</td>\n",
       "      <td>6185</td>\n",
       "      <td>7.1</td>\n",
       "      <td>2015</td>\n",
       "      <td>1.379999e+08</td>\n",
       "      <td>3.481613e+08</td>\n",
       "      <td>Low Popularity</td>\n",
       "    </tr>\n",
       "    <tr>\n",
       "      <th>2</th>\n",
       "      <td>13.112507</td>\n",
       "      <td>110000000</td>\n",
       "      <td>295238201</td>\n",
       "      <td>Shailene Woodley|Theo James|Kate Winslet|Ansel...</td>\n",
       "      <td>Robert Schwentke</td>\n",
       "      <td>119</td>\n",
       "      <td>Adventure|Science Fiction|Thriller</td>\n",
       "      <td>2015-03-18</td>\n",
       "      <td>2480</td>\n",
       "      <td>6.3</td>\n",
       "      <td>2015</td>\n",
       "      <td>1.012000e+08</td>\n",
       "      <td>2.716190e+08</td>\n",
       "      <td>Low Popularity</td>\n",
       "    </tr>\n",
       "    <tr>\n",
       "      <th>3</th>\n",
       "      <td>11.173104</td>\n",
       "      <td>200000000</td>\n",
       "      <td>2068178225</td>\n",
       "      <td>Harrison Ford|Mark Hamill|Carrie Fisher|Adam D...</td>\n",
       "      <td>J.J. Abrams</td>\n",
       "      <td>136</td>\n",
       "      <td>Action|Adventure|Science Fiction|Fantasy</td>\n",
       "      <td>2015-12-15</td>\n",
       "      <td>5292</td>\n",
       "      <td>7.5</td>\n",
       "      <td>2015</td>\n",
       "      <td>1.839999e+08</td>\n",
       "      <td>1.902723e+09</td>\n",
       "      <td>Low Popularity</td>\n",
       "    </tr>\n",
       "    <tr>\n",
       "      <th>4</th>\n",
       "      <td>9.335014</td>\n",
       "      <td>190000000</td>\n",
       "      <td>1506249360</td>\n",
       "      <td>Vin Diesel|Paul Walker|Jason Statham|Michelle ...</td>\n",
       "      <td>James Wan</td>\n",
       "      <td>137</td>\n",
       "      <td>Action|Crime|Thriller</td>\n",
       "      <td>2015-04-01</td>\n",
       "      <td>2947</td>\n",
       "      <td>7.3</td>\n",
       "      <td>2015</td>\n",
       "      <td>1.747999e+08</td>\n",
       "      <td>1.385749e+09</td>\n",
       "      <td>Low Popularity</td>\n",
       "    </tr>\n",
       "  </tbody>\n",
       "</table>\n",
       "</div>"
      ],
      "text/plain": [
       "   popularity     budget     revenue  \\\n",
       "0   32.985763  150000000  1513528810   \n",
       "1   28.419936  150000000   378436354   \n",
       "2   13.112507  110000000   295238201   \n",
       "3   11.173104  200000000  2068178225   \n",
       "4    9.335014  190000000  1506249360   \n",
       "\n",
       "                                                cast          director  \\\n",
       "0  Chris Pratt|Bryce Dallas Howard|Irrfan Khan|Vi...   Colin Trevorrow   \n",
       "1  Tom Hardy|Charlize Theron|Hugh Keays-Byrne|Nic...     George Miller   \n",
       "2  Shailene Woodley|Theo James|Kate Winslet|Ansel...  Robert Schwentke   \n",
       "3  Harrison Ford|Mark Hamill|Carrie Fisher|Adam D...       J.J. Abrams   \n",
       "4  Vin Diesel|Paul Walker|Jason Statham|Michelle ...         James Wan   \n",
       "\n",
       "   runtime                                     genres release_date  \\\n",
       "0      124  Action|Adventure|Science Fiction|Thriller   2015-06-09   \n",
       "1      120  Action|Adventure|Science Fiction|Thriller   2015-05-13   \n",
       "2      119         Adventure|Science Fiction|Thriller   2015-03-18   \n",
       "3      136   Action|Adventure|Science Fiction|Fantasy   2015-12-15   \n",
       "4      137                      Action|Crime|Thriller   2015-04-01   \n",
       "\n",
       "   vote_count  vote_average  release_year    budget_adj   revenue_adj  \\\n",
       "0        5562           6.5          2015  1.379999e+08  1.392446e+09   \n",
       "1        6185           7.1          2015  1.379999e+08  3.481613e+08   \n",
       "2        2480           6.3          2015  1.012000e+08  2.716190e+08   \n",
       "3        5292           7.5          2015  1.839999e+08  1.902723e+09   \n",
       "4        2947           7.3          2015  1.747999e+08  1.385749e+09   \n",
       "\n",
       "  popularity_levels  \n",
       "0    Low Popularity  \n",
       "1    Low Popularity  \n",
       "2    Low Popularity  \n",
       "3    Low Popularity  \n",
       "4    Low Popularity  "
      ]
     },
     "execution_count": 90,
     "metadata": {},
     "output_type": "execute_result"
    }
   ],
   "source": [
    "#categorise column\n",
    "df_mdb['popularity_levels'] = pd.cut(df_mdb['popularity'], pop_bin_edges, labels=pop_bin_names)\n",
    "\n",
    "#confirm categories\n",
    "df_mdb.head(5)"
   ]
  },
  {
   "cell_type": "code",
   "execution_count": 91,
   "metadata": {},
   "outputs": [],
   "source": [
    "## highly popular movie genre\n",
    "df_hpgm = df_mdb.query('popularity_levels == \"High Popularity\"')"
   ]
  },
  {
   "cell_type": "code",
   "execution_count": 92,
   "metadata": {},
   "outputs": [
    {
     "data": {
      "text/html": [
       "<div>\n",
       "<style scoped>\n",
       "    .dataframe tbody tr th:only-of-type {\n",
       "        vertical-align: middle;\n",
       "    }\n",
       "\n",
       "    .dataframe tbody tr th {\n",
       "        vertical-align: top;\n",
       "    }\n",
       "\n",
       "    .dataframe thead th {\n",
       "        text-align: right;\n",
       "    }\n",
       "</style>\n",
       "<table border=\"1\" class=\"dataframe\">\n",
       "  <thead>\n",
       "    <tr style=\"text-align: right;\">\n",
       "      <th></th>\n",
       "      <th>popularity_count</th>\n",
       "    </tr>\n",
       "    <tr>\n",
       "      <th>genres</th>\n",
       "      <th></th>\n",
       "    </tr>\n",
       "  </thead>\n",
       "  <tbody>\n",
       "    <tr>\n",
       "      <th>Comedy</th>\n",
       "      <td>224</td>\n",
       "    </tr>\n",
       "    <tr>\n",
       "      <th>Documentary</th>\n",
       "      <td>207</td>\n",
       "    </tr>\n",
       "    <tr>\n",
       "      <th>Drama</th>\n",
       "      <td>184</td>\n",
       "    </tr>\n",
       "    <tr>\n",
       "      <th>Horror</th>\n",
       "      <td>94</td>\n",
       "    </tr>\n",
       "    <tr>\n",
       "      <th>Comedy|Drama</th>\n",
       "      <td>72</td>\n",
       "    </tr>\n",
       "  </tbody>\n",
       "</table>\n",
       "</div>"
      ],
      "text/plain": [
       "              popularity_count\n",
       "genres                        \n",
       "Comedy                     224\n",
       "Documentary                207\n",
       "Drama                      184\n",
       "Horror                      94\n",
       "Comedy|Drama                72"
      ]
     },
     "execution_count": 92,
     "metadata": {},
     "output_type": "execute_result"
    }
   ],
   "source": [
    "# top 5 highly popular genre\n",
    "top_5_popular_genre = df_hpgm.groupby('genres')['popularity'].count().sort_values(ascending = False).head(5)\n",
    "\n",
    "#change to data frame\n",
    "top_5_popular_genre = pd.DataFrame(top_5_popular_genre)\n",
    "\n",
    "#rename column\n",
    "top_5_popular_genre = top_5_popular_genre.rename(columns = {'popularity' : 'popularity_count'})\n",
    "\n",
    "# view top 5\n",
    "top_5_popular_genre"
   ]
  },
  {
   "cell_type": "code",
   "execution_count": 93,
   "metadata": {},
   "outputs": [
    {
     "data": {
      "image/png": "[encoded data removed]",
      "text/plain": [
       "<Figure size 432x288 with 1 Axes>"
      ]
     },
     "metadata": {
      "needs_background": "light"
     },
     "output_type": "display_data"
    }
   ],
   "source": [
    "#visual representation for top 5 highly popular genre\n",
    "sns.barplot(y = top_5_popular_genre.index, x = top_5_popular_genre['popularity_count'], data = top_5_popular_genre)\n",
    "plt.title(\"Top 5 highly popular genre \\n \\n\")\n",
    "plt.xlabel('\\n count')\n",
    "plt.ylabel('Genre')\n",
    "plt.show();"
   ]
  },
  {
   "cell_type": "markdown",
   "metadata": {},
   "source": [
    ">> The Comedy only genre is the most popular genre of movie based on the dataset"
   ]
  },
  {
   "cell_type": "markdown",
   "metadata": {},
   "source": [
    "### 5) Genre of Movies with higher vote average"
   ]
  },
  {
   "cell_type": "code",
   "execution_count": 94,
   "metadata": {},
   "outputs": [
    {
     "data": {
      "text/plain": [
       "count    10866.000000\n",
       "mean         5.974922\n",
       "std          0.935142\n",
       "min          1.500000\n",
       "25%          5.400000\n",
       "50%          6.000000\n",
       "75%          6.600000\n",
       "max          9.200000\n",
       "Name: vote_average, dtype: float64"
      ]
     },
     "execution_count": 94,
     "metadata": {},
     "output_type": "execute_result"
    }
   ],
   "source": [
    "# split the vote average column into categories \n",
    "# describe the vote averagey column\n",
    "df_mdb['vote_average'].describe()"
   ]
  },
  {
   "cell_type": "code",
   "execution_count": 67,
   "metadata": {},
   "outputs": [],
   "source": [
    "# bin categories\n",
    "vbin_edges = [ 1.500000, 5.400000, 6.000000, 6.600000, 9.200000]"
   ]
  },
  {
   "cell_type": "code",
   "execution_count": 68,
   "metadata": {},
   "outputs": [],
   "source": [
    "vbin_names = [ 'High vote Average', 'Moderately vote Average','Medium vote Average' ,'Low vote Average' ]"
   ]
  },
  {
   "cell_type": "code",
   "execution_count": 70,
   "metadata": {},
   "outputs": [
    {
     "data": {
      "text/html": [
       "<div>\n",
       "<style scoped>\n",
       "    .dataframe tbody tr th:only-of-type {\n",
       "        vertical-align: middle;\n",
       "    }\n",
       "\n",
       "    .dataframe tbody tr th {\n",
       "        vertical-align: top;\n",
       "    }\n",
       "\n",
       "    .dataframe thead th {\n",
       "        text-align: right;\n",
       "    }\n",
       "</style>\n",
       "<table border=\"1\" class=\"dataframe\">\n",
       "  <thead>\n",
       "    <tr style=\"text-align: right;\">\n",
       "      <th></th>\n",
       "      <th>popularity</th>\n",
       "      <th>budget</th>\n",
       "      <th>revenue</th>\n",
       "      <th>cast</th>\n",
       "      <th>director</th>\n",
       "      <th>runtime</th>\n",
       "      <th>genres</th>\n",
       "      <th>release_date</th>\n",
       "      <th>vote_count</th>\n",
       "      <th>vote_average</th>\n",
       "      <th>release_year</th>\n",
       "      <th>budget_adj</th>\n",
       "      <th>revenue_adj</th>\n",
       "      <th>popularity_levels</th>\n",
       "      <th>vote_average_levels</th>\n",
       "    </tr>\n",
       "  </thead>\n",
       "  <tbody>\n",
       "    <tr>\n",
       "      <th>0</th>\n",
       "      <td>32.985763</td>\n",
       "      <td>150000000</td>\n",
       "      <td>1513528810</td>\n",
       "      <td>Chris Pratt|Bryce Dallas Howard|Irrfan Khan|Vi...</td>\n",
       "      <td>Colin Trevorrow</td>\n",
       "      <td>124</td>\n",
       "      <td>Action|Adventure|Science Fiction|Thriller</td>\n",
       "      <td>2015-06-09</td>\n",
       "      <td>5562</td>\n",
       "      <td>6.5</td>\n",
       "      <td>2015</td>\n",
       "      <td>1.379999e+08</td>\n",
       "      <td>1.392446e+09</td>\n",
       "      <td>Low Popularity</td>\n",
       "      <td>Medium vote Average</td>\n",
       "    </tr>\n",
       "    <tr>\n",
       "      <th>1</th>\n",
       "      <td>28.419936</td>\n",
       "      <td>150000000</td>\n",
       "      <td>378436354</td>\n",
       "      <td>Tom Hardy|Charlize Theron|Hugh Keays-Byrne|Nic...</td>\n",
       "      <td>George Miller</td>\n",
       "      <td>120</td>\n",
       "      <td>Action|Adventure|Science Fiction|Thriller</td>\n",
       "      <td>2015-05-13</td>\n",
       "      <td>6185</td>\n",
       "      <td>7.1</td>\n",
       "      <td>2015</td>\n",
       "      <td>1.379999e+08</td>\n",
       "      <td>3.481613e+08</td>\n",
       "      <td>Low Popularity</td>\n",
       "      <td>Low vote Average</td>\n",
       "    </tr>\n",
       "    <tr>\n",
       "      <th>2</th>\n",
       "      <td>13.112507</td>\n",
       "      <td>110000000</td>\n",
       "      <td>295238201</td>\n",
       "      <td>Shailene Woodley|Theo James|Kate Winslet|Ansel...</td>\n",
       "      <td>Robert Schwentke</td>\n",
       "      <td>119</td>\n",
       "      <td>Adventure|Science Fiction|Thriller</td>\n",
       "      <td>2015-03-18</td>\n",
       "      <td>2480</td>\n",
       "      <td>6.3</td>\n",
       "      <td>2015</td>\n",
       "      <td>1.012000e+08</td>\n",
       "      <td>2.716190e+08</td>\n",
       "      <td>Low Popularity</td>\n",
       "      <td>Medium vote Average</td>\n",
       "    </tr>\n",
       "    <tr>\n",
       "      <th>3</th>\n",
       "      <td>11.173104</td>\n",
       "      <td>200000000</td>\n",
       "      <td>2068178225</td>\n",
       "      <td>Harrison Ford|Mark Hamill|Carrie Fisher|Adam D...</td>\n",
       "      <td>J.J. Abrams</td>\n",
       "      <td>136</td>\n",
       "      <td>Action|Adventure|Science Fiction|Fantasy</td>\n",
       "      <td>2015-12-15</td>\n",
       "      <td>5292</td>\n",
       "      <td>7.5</td>\n",
       "      <td>2015</td>\n",
       "      <td>1.839999e+08</td>\n",
       "      <td>1.902723e+09</td>\n",
       "      <td>Low Popularity</td>\n",
       "      <td>Low vote Average</td>\n",
       "    </tr>\n",
       "    <tr>\n",
       "      <th>4</th>\n",
       "      <td>9.335014</td>\n",
       "      <td>190000000</td>\n",
       "      <td>1506249360</td>\n",
       "      <td>Vin Diesel|Paul Walker|Jason Statham|Michelle ...</td>\n",
       "      <td>James Wan</td>\n",
       "      <td>137</td>\n",
       "      <td>Action|Crime|Thriller</td>\n",
       "      <td>2015-04-01</td>\n",
       "      <td>2947</td>\n",
       "      <td>7.3</td>\n",
       "      <td>2015</td>\n",
       "      <td>1.747999e+08</td>\n",
       "      <td>1.385749e+09</td>\n",
       "      <td>Low Popularity</td>\n",
       "      <td>Low vote Average</td>\n",
       "    </tr>\n",
       "  </tbody>\n",
       "</table>\n",
       "</div>"
      ],
      "text/plain": [
       "   popularity     budget     revenue  \\\n",
       "0   32.985763  150000000  1513528810   \n",
       "1   28.419936  150000000   378436354   \n",
       "2   13.112507  110000000   295238201   \n",
       "3   11.173104  200000000  2068178225   \n",
       "4    9.335014  190000000  1506249360   \n",
       "\n",
       "                                                cast          director  \\\n",
       "0  Chris Pratt|Bryce Dallas Howard|Irrfan Khan|Vi...   Colin Trevorrow   \n",
       "1  Tom Hardy|Charlize Theron|Hugh Keays-Byrne|Nic...     George Miller   \n",
       "2  Shailene Woodley|Theo James|Kate Winslet|Ansel...  Robert Schwentke   \n",
       "3  Harrison Ford|Mark Hamill|Carrie Fisher|Adam D...       J.J. Abrams   \n",
       "4  Vin Diesel|Paul Walker|Jason Statham|Michelle ...         James Wan   \n",
       "\n",
       "   runtime                                     genres release_date  \\\n",
       "0      124  Action|Adventure|Science Fiction|Thriller   2015-06-09   \n",
       "1      120  Action|Adventure|Science Fiction|Thriller   2015-05-13   \n",
       "2      119         Adventure|Science Fiction|Thriller   2015-03-18   \n",
       "3      136   Action|Adventure|Science Fiction|Fantasy   2015-12-15   \n",
       "4      137                      Action|Crime|Thriller   2015-04-01   \n",
       "\n",
       "   vote_count  vote_average  release_year    budget_adj   revenue_adj  \\\n",
       "0        5562           6.5          2015  1.379999e+08  1.392446e+09   \n",
       "1        6185           7.1          2015  1.379999e+08  3.481613e+08   \n",
       "2        2480           6.3          2015  1.012000e+08  2.716190e+08   \n",
       "3        5292           7.5          2015  1.839999e+08  1.902723e+09   \n",
       "4        2947           7.3          2015  1.747999e+08  1.385749e+09   \n",
       "\n",
       "  popularity_levels  vote_average_levels  \n",
       "0    Low Popularity  Medium vote Average  \n",
       "1    Low Popularity     Low vote Average  \n",
       "2    Low Popularity  Medium vote Average  \n",
       "3    Low Popularity     Low vote Average  \n",
       "4    Low Popularity     Low vote Average  "
      ]
     },
     "execution_count": 70,
     "metadata": {},
     "output_type": "execute_result"
    }
   ],
   "source": [
    "# split\n",
    "df_mdb['vote_average_levels'] = pd.cut(df_mdb['vote_average'], vbin_edges, labels=vbin_names)\n",
    "\n",
    "#confirm\n",
    "df_mdb.head(5)"
   ]
  },
  {
   "cell_type": "code",
   "execution_count": 71,
   "metadata": {},
   "outputs": [],
   "source": [
    "#genre with higher vote average\n",
    "df_hvgm = df_mdb.query('vote_average_levels == \"High vote Average\"')"
   ]
  },
  {
   "cell_type": "code",
   "execution_count": 95,
   "metadata": {},
   "outputs": [
    {
     "data": {
      "text/html": [
       "<div>\n",
       "<style scoped>\n",
       "    .dataframe tbody tr th:only-of-type {\n",
       "        vertical-align: middle;\n",
       "    }\n",
       "\n",
       "    .dataframe tbody tr th {\n",
       "        vertical-align: top;\n",
       "    }\n",
       "\n",
       "    .dataframe thead th {\n",
       "        text-align: right;\n",
       "    }\n",
       "</style>\n",
       "<table border=\"1\" class=\"dataframe\">\n",
       "  <thead>\n",
       "    <tr style=\"text-align: right;\">\n",
       "      <th></th>\n",
       "      <th>vote_average_count</th>\n",
       "    </tr>\n",
       "    <tr>\n",
       "      <th>genres</th>\n",
       "      <th></th>\n",
       "    </tr>\n",
       "  </thead>\n",
       "  <tbody>\n",
       "    <tr>\n",
       "      <th>Comedy</th>\n",
       "      <td>238</td>\n",
       "    </tr>\n",
       "    <tr>\n",
       "      <th>Horror</th>\n",
       "      <td>153</td>\n",
       "    </tr>\n",
       "    <tr>\n",
       "      <th>Horror|Thriller</th>\n",
       "      <td>151</td>\n",
       "    </tr>\n",
       "    <tr>\n",
       "      <th>Drama</th>\n",
       "      <td>99</td>\n",
       "    </tr>\n",
       "    <tr>\n",
       "      <th>Comedy|Romance</th>\n",
       "      <td>83</td>\n",
       "    </tr>\n",
       "  </tbody>\n",
       "</table>\n",
       "</div>"
      ],
      "text/plain": [
       "                 vote_average_count\n",
       "genres                             \n",
       "Comedy                          238\n",
       "Horror                          153\n",
       "Horror|Thriller                 151\n",
       "Drama                            99\n",
       "Comedy|Romance                   83"
      ]
     },
     "execution_count": 95,
     "metadata": {},
     "output_type": "execute_result"
    }
   ],
   "source": [
    "top5_vote_avg = df_hvgm.groupby('genres')['vote_average'].count().sort_values(ascending = False).head(5)\n",
    "\n",
    "#change series to data frame\n",
    "top5_vote_avg = pd.DataFrame(top5_vote_avg)\n",
    "\n",
    "#rename\n",
    "top5_vote_avg = top5_vote_avg.rename(columns = {'vote_average' : 'vote_average_count'})\n",
    "\n",
    "top5_vote_avg"
   ]
  },
  {
   "cell_type": "code",
   "execution_count": 96,
   "metadata": {},
   "outputs": [
    {
     "data": {
      "image/png": "[encoded data removed]",
      "text/plain": [
       "<Figure size 432x288 with 1 Axes>"
      ]
     },
     "metadata": {
      "needs_background": "light"
     },
     "output_type": "display_data"
    }
   ],
   "source": [
    "#visual representation for top 5 genre based on vote_average\n",
    "sns.barplot(y = top5_vote_avg.index, x = top5_vote_avg['vote_average_count'], data = top5_vote_avg)\n",
    "plt.title(\"Top 5 5 genre based on vote average \\n \\n\")\n",
    "plt.xlabel('\\n count')\n",
    "plt.ylabel('Genre')\n",
    "plt.show();"
   ]
  },
  {
   "cell_type": "markdown",
   "metadata": {},
   "source": [
    ">> Comedy only genre also topped the chart for high vote average count by movie genre"
   ]
  },
  {
   "cell_type": "markdown",
   "metadata": {},
   "source": [
    "<a id='conclusions'></a>\n",
    "## Conclusions\n",
    "\n",
    "From the analysis carried out on the Movie database dataset, the follow were discovered:\n",
    "\n",
    "- Overall, a movie director one may want to look out for to have a movie with high revenue will be among  'Steven Spielberg', 'James Cameron', 'Peter Jackson', 'George Lucas', or 'Robert Zemeckis' as they are the top 5 directors with high cumulative  adjusted revenues for movies whose adjusted revenue are above average.\n",
    "\n",
    "- The popularity, runtime or vote average of a movie does not directly infer the possible revenue of a movie as there is no distinct correlation of these variables against the adjusted revenue.\n",
    "\n",
    "- Comedy Genre stands out as a very lucrative genre of movie to go into as the cumulative adjusted revenue is high with the genre leading the chart in popularity and vote average.\n",
    "\n",
    "- The list of directors one should look out for to direct a Comedy only Genre movie with the aim of high revenue generation will be 'Todd Phillips', 'Dennis Dugan', 'Keenen Ivory Wayans', 'Adam McKay', or the combination of 'Bobby Farrelly and Peter Farrelly'\n",
    "\n",
    "\n",
    "#### Limitations \n",
    "- The cast in a movie play a significant role in the overall general perception of a movie which may impact the revenue generated. However, the cast was not consider to give justification to the revenue by top directors. If the director and specific performing cast members are considered, it will give a different dimension to the list of directors one should look out for to have a movie with high revenue.\n",
    "\n",
    "- The dataset does not have details about the writers of the movies. The kind of writer for a movie greatly impact the movie output which may also impact the revenue generated.\n"
   ]
  },
  {
   "cell_type": "code",
   "execution_count": null,
   "metadata": {
    "collapsed": true
   },
   "outputs": [],
   "source": []
  }
 ],
 "metadata": {
  "kernelspec": {
   "display_name": "Python 3",
   "language": "python",
   "name": "python3"
  },
  "language_info": {
   "codemirror_mode": {
    "name": "ipython",
    "version": 3
   },
   "file_extension": ".py",
   "mimetype": "text/x-python",
   "name": "python",
   "nbconvert_exporter": "python",
   "pygments_lexer": "ipython3",
   "version": "3.7.6"
  }
 },
 "nbformat": 4,
 "nbformat_minor": 2
}
